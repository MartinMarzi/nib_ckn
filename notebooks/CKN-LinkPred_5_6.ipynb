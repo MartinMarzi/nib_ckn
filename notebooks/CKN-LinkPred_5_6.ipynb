{
 "cells": [
  {
   "cell_type": "code",
   "execution_count": 1,
   "id": "dcf04f5a-14ba-4837-803c-080e1ddc7a26",
   "metadata": {},
   "outputs": [
    {
     "name": "stderr",
     "output_type": "stream",
     "text": [
      "2022-05-06 12:16:49.958886: I tensorflow/core/platform/cpu_feature_guard.cc:151] This TensorFlow binary is optimized with oneAPI Deep Neural Network Library (oneDNN) to use the following CPU instructions in performance-critical operations:  AVX2 FMA\n",
      "To enable them in other operations, rebuild TensorFlow with the appropriate compiler flags.\n"
     ]
    }
   ],
   "source": [
    "import matplotlib.pyplot as plt\n",
    "from math import isclose\n",
    "from sklearn.decomposition import PCA\n",
    "import os\n",
    "import networkx as nx\n",
    "import numpy as np\n",
    "import pandas as pd\n",
    "import csv\n",
    "from stellargraph import StellarGraph\n",
    "from stellargraph.data import EdgeSplitter\n",
    "from stellargraph.data import BiasedRandomWalk\n",
    "from collections import Counter\n",
    "import multiprocessing\n",
    "from IPython.display import display, HTML\n",
    "from sklearn.model_selection import train_test_split\n",
    "from gensim.models import Word2Vec\n",
    "import pickle "
   ]
  },
  {
   "cell_type": "markdown",
   "id": "de3715b0-5c72-4d8a-b13c-9aaac079d9c9",
   "metadata": {},
   "source": [
    "# Load dataset"
   ]
  },
  {
   "cell_type": "code",
   "execution_count": 2,
   "id": "91b396cc-636e-4385-bcac-7dcdc0d5a5df",
   "metadata": {},
   "outputs": [],
   "source": [
    "# Create graph from csv file with edge weights (we loose some edges as this data would require a multidigraph)\n",
    "def parse_ckn_csv(fname):\n",
    "    g = nx.MultiDiGraph()\n",
    "    g.name = \"ckn_5_6\"\n",
    "    fields = ['from', 'to', 'intType', 'reliability', 'species']\n",
    "    with open(fname, newline='') as csvfile:\n",
    "        reader = csv.DictReader(csvfile, fieldnames=fields, dialect=csv.excel_tab, restkey='rest', )\n",
    "        for i, row in enumerate(reader):\n",
    "            if i == 0:\n",
    "                continue\n",
    "            if row['intType'] != \"binding\":\n",
    "                g.add_edge(row['from'], row['to'], type=row['intType'], reliability=row['reliability'])\n",
    "            elif row['intType'] == \"binding\":\n",
    "                g.add_edge(row['from'], row['to'], type=row['intType'], reliability=row['reliability'])\n",
    "                g.add_edge(row['to'], row['from'], type=row['intType'], reliability=row['reliability'])\n",
    "            else:\n",
    "                print(row)\n",
    "                raise SyntaxError\n",
    "    return g"
   ]
  },
  {
   "cell_type": "code",
   "execution_count": 3,
   "id": "4c81bfb3-71b6-4805-9853-e2dbdd4c9c00",
   "metadata": {
    "tags": []
   },
   "outputs": [],
   "source": [
    "g = parse_ckn_csv(\"../data/AtCKN_2022-01-26.tsv\")\n",
    "nx.write_gpickle(g, f\"Results/nx_graph_{g.name}.gpickle\")"
   ]
  },
  {
   "cell_type": "code",
   "execution_count": 4,
   "id": "caed216d-7696-499c-9e03-c58ce95e2513",
   "metadata": {},
   "outputs": [
    {
     "data": {
      "text/plain": [
       "\"MultiDiGraph named 'ckn_5_6' with 26159 nodes and 881280 edges\""
      ]
     },
     "execution_count": 4,
     "metadata": {},
     "output_type": "execute_result"
    }
   ],
   "source": [
    "nx.info(g)"
   ]
  },
  {
   "cell_type": "code",
   "execution_count": 5,
   "id": "35733941-8a6d-4889-8055-c8bacd30aac3",
   "metadata": {},
   "outputs": [
    {
     "name": "stdout",
     "output_type": "stream",
     "text": [
      "['AT1G01010', 'AT1G01020', 'AT1G01030', 'AT1G01040', 'AT1G01050', 'AT1G01060', 'AT1G01070', 'AT1G01080', 'AT1G01090', 'AT1G01100', 'AT1G01110', 'AT1G01120', 'AT1G01130', 'AT1G01140', 'AT1G01160', 'AT1G01170', 'AT1G01180', 'AT1G01183', 'AT1G01190', 'AT1G01200']\n",
      "['MIRF11184', 'MIRF11185', 'MIRF11186', 'MIRF11187', 'MIRF11188', 'MIRF11189', 'MIRF11190', 'MIRF11191', 'MIRF11192', 'MIRF11193', 'MIRF11194', 'MIRF11195', 'MIRF11196', 'MIRF11197', 'MIRF11198', 'MIRF11199', 'MIRF11200', 'MIRF11201', 'MIRF11202', 'MIRF11203']\n",
      "isolated nodes=[]\n"
     ]
    }
   ],
   "source": [
    "# Check for errors in the graph\n",
    "print(sorted(g.nodes)[:20])\n",
    "print(sorted(g.nodes)[-20:])\n",
    "isolated = list(nx.isolates(g))\n",
    "print(f\"isolated nodes={isolated}\")\n",
    "#g.remove_nodes_from(isolated)"
   ]
  },
  {
   "cell_type": "code",
   "execution_count": 6,
   "id": "dd575a0b-1b24-4e9c-979d-4ebe7fc00a9a",
   "metadata": {},
   "outputs": [
    {
     "data": {
      "text/plain": [
       "[('AT1G01010', 'AT1G01010', {'type': 'unkTF', 'reliability': 'r3'}),\n",
       " ('AT1G01010', 'AT1G07640', {'type': 'binding', 'reliability': 'r3'}),\n",
       " ('AT1G01010', 'AT1G10030', {'type': 'binding', 'reliability': 'r2'}),\n",
       " ('AT1G01010', 'AT1G12390', {'type': 'binding', 'reliability': 'r2'}),\n",
       " ('AT1G01010', 'AT1G14360', {'type': 'binding', 'reliability': 'r2'}),\n",
       " ('AT1G01010', 'AT1G16240', {'type': 'binding', 'reliability': 'r2'}),\n",
       " ('AT1G01010', 'AT1G17080', {'type': 'binding', 'reliability': 'r2'}),\n",
       " ('AT1G01010', 'AT1G18330', {'type': 'binding', 'reliability': 'r3'}),\n",
       " ('AT1G01010', 'AT1G21790', {'type': 'binding', 'reliability': 'r2'}),\n",
       " ('AT1G01010', 'AT1G25280', {'type': 'binding', 'reliability': 'r3'})]"
      ]
     },
     "execution_count": 6,
     "metadata": {},
     "output_type": "execute_result"
    }
   ],
   "source": [
    "list(g.edges(data=True))[:10]"
   ]
  },
  {
   "cell_type": "code",
   "execution_count": 7,
   "id": "31ff990f-1635-4dac-8c99-1153c1f8dc6c",
   "metadata": {},
   "outputs": [
    {
     "name": "stdout",
     "output_type": "stream",
     "text": [
      "nodes=26159, edges=881280, density: 0.0013\n"
     ]
    }
   ],
   "source": [
    "# Some general characteristics of the graph\n",
    "print(f'nodes={g.number_of_nodes()}, edges={g.number_of_edges()}, density: {nx.density(g):.4f}')"
   ]
  },
  {
   "cell_type": "code",
   "execution_count": 8,
   "id": "12ff6afa-e0c9-42b9-ac8a-9c9b774669f7",
   "metadata": {},
   "outputs": [
    {
     "data": {
      "text/plain": [
       "False"
      ]
     },
     "execution_count": 8,
     "metadata": {},
     "output_type": "execute_result"
    }
   ],
   "source": [
    "nx.is_weakly_connected(g)"
   ]
  },
  {
   "cell_type": "code",
   "execution_count": 9,
   "id": "02d3fc31-42c5-4bb2-ab53-a5e0b43ae632",
   "metadata": {},
   "outputs": [
    {
     "name": "stdout",
     "output_type": "stream",
     "text": [
      "Number of weakly connected components: 151\n"
     ]
    }
   ],
   "source": [
    "# List of weakly connected components\n",
    "print(\"Number of weakly connected components:\", len(list(nx.weakly_connected_components(g))))"
   ]
  },
  {
   "cell_type": "code",
   "execution_count": 10,
   "id": "ca61eef7-66e8-4965-ab75-7c67a6164fad",
   "metadata": {},
   "outputs": [
    {
     "name": "stdout",
     "output_type": "stream",
     "text": [
      "[(25737, 1),\n",
      " (31, 1),\n",
      " (16, 1),\n",
      " (13, 1),\n",
      " (12, 1),\n",
      " (8, 1),\n",
      " (7, 1),\n",
      " (5, 3),\n",
      " (4, 14),\n",
      " (3, 17),\n",
      " (2, 103),\n",
      " (1, 7)]\n"
     ]
    }
   ],
   "source": [
    "#Generate a sorted list of weakly connected component, largest first.\n",
    "from collections import Counter\n",
    "from pprint import pprint\n",
    "cc_sizes = Counter()\n",
    "for cc in nx.weakly_connected_components(g):\n",
    "    cc_sizes[len(cc)] += 1\n",
    "pprint(sorted(cc_sizes.items(), reverse=True))"
   ]
  },
  {
   "cell_type": "markdown",
   "id": "7843ab43-8aa1-4396-a2f0-bed082210342",
   "metadata": {},
   "source": [
    "There is only one large weakly connected component that rest are negligible."
   ]
  },
  {
   "cell_type": "markdown",
   "id": "12c3ad74-9520-428b-8a3e-88376eab19de",
   "metadata": {},
   "source": [
    "Do we keep only the one biggest component?"
   ]
  },
  {
   "cell_type": "code",
   "execution_count": 11,
   "id": "532685a3-4454-449a-8e9f-1f46e5a6ebb8",
   "metadata": {},
   "outputs": [
    {
     "name": "stdout",
     "output_type": "stream",
     "text": [
      "biggest component size=25737\n",
      "Subgraph nodes=25737, subgraph edges=880337, density: 0.0013\n"
     ]
    }
   ],
   "source": [
    "# identify the largest weakly connected component and create a corresponding subgraph\n",
    "largest_cc = max(nx.weakly_connected_components(g), key=len)\n",
    "print(f\"biggest component size={len(largest_cc)}\")\n",
    "g = g.subgraph(largest_cc)\n",
    "\n",
    "# Some general characteristics of the subgraph\n",
    "print(f\"Subgraph nodes={g.number_of_nodes()}, subgraph edges={g.number_of_edges()}, density: {nx.density(g):.4f}\")"
   ]
  },
  {
   "cell_type": "markdown",
   "id": "e27b0609-8fea-497e-bf50-2a4fab015eb2",
   "metadata": {},
   "source": [
    "# Link prediction"
   ]
  },
  {
   "cell_type": "code",
   "execution_count": 12,
   "id": "eb1d64d9-9646-400b-9f5e-b91f6798fb83",
   "metadata": {},
   "outputs": [],
   "source": [
    "G = StellarGraph.from_networkx(g)\n",
    "\n",
    "# # Dump graph\n",
    "# with open(\"Results/notebook/StellarGraph.p\", 'wb') as f:\n",
    "#     pickle.dump(G, f)"
   ]
  },
  {
   "cell_type": "code",
   "execution_count": 13,
   "id": "37048db1-33f5-43f7-aa9e-31e7cf53e609",
   "metadata": {},
   "outputs": [],
   "source": [
    "# # Load graph\n",
    "# with open(\"Results/notebook/StellarGraph.p\", 'rb') as f:\n",
    "#     G_loaded = pickle.load(f)"
   ]
  },
  {
   "cell_type": "code",
   "execution_count": 14,
   "id": "2b359832-a5e3-445d-a907-c7285801a936",
   "metadata": {},
   "outputs": [
    {
     "name": "stdout",
     "output_type": "stream",
     "text": [
      "StellarDiGraph: Directed multigraph\n",
      " Nodes: 25737, Edges: 880337\n",
      "\n",
      " Node types:\n",
      "  default: [25737]\n",
      "    Features: none\n",
      "    Edge types: default-default->default\n",
      "\n",
      " Edge types:\n",
      "    default-default->default: [880337]\n",
      "        Weights: all 1 (default)\n",
      "        Features: none\n"
     ]
    }
   ],
   "source": [
    "print(G.info())"
   ]
  },
  {
   "cell_type": "markdown",
   "id": "af103adf-15b2-4296-ac90-067ea19e271b",
   "metadata": {},
   "source": [
    "## Construct train-test splits of the graph data"
   ]
  },
  {
   "cell_type": "markdown",
   "id": "ce6f1bb4-7608-4cb0-90d4-c95321c30f1c",
   "metadata": {},
   "source": [
    "### Test Graph (graph_test)"
   ]
  },
  {
   "cell_type": "markdown",
   "id": "e8d8d199-0b9a-4791-9993-2ccbbbfe27d2",
   "metadata": {},
   "source": [
    "We create the test graph and test set of positive/negative edge examples from the full graph. \n",
    "* graph_test = reduced graph obtained by removing the test set of edges from the full graph. [same as source]\n",
    "* examples_test = set of positive/negative edge examples (node pairs) [np_array]\n",
    "* labels_test = labels of pos and neg edges (1, 0) [np_array]"
   ]
  },
  {
   "cell_type": "code",
   "execution_count": 15,
   "id": "e3ed5574-bf01-4df5-b0fb-8ffbdd6d8119",
   "metadata": {},
   "outputs": [
    {
     "name": "stdout",
     "output_type": "stream",
     "text": [
      "** Sampled 88033 positive and 88033 negative edges. **\n",
      "StellarDiGraph: Directed multigraph\n",
      " Nodes: 25737, Edges: 792304\n",
      "\n",
      " Node types:\n",
      "  default: [25737]\n",
      "    Features: none\n",
      "    Edge types: default-default->default\n",
      "\n",
      " Edge types:\n",
      "    default-default->default: [792304]\n",
      "        Weights: all 1 (default)\n",
      "        Features: none\n"
     ]
    }
   ],
   "source": [
    "# Define an edge splitter on the original graph:\n",
    "edge_splitter_test = EdgeSplitter(G)\n",
    "\n",
    "# Randomly sample a fraction p of all positive links, and same number of negative links, from full graph, and obtain the\n",
    "# reduced graph graph_test with the sampled positive links removed:\n",
    "graph_test, examples_test, labels_test = edge_splitter_test.train_test_split(\n",
    "    p=0.1, method=\"global\"\n",
    ")\n",
    "\n",
    "print(graph_test.info())"
   ]
  },
  {
   "cell_type": "code",
   "execution_count": 74,
   "id": "f8b3b674-ab98-49c1-a32d-af577fe07b6b",
   "metadata": {},
   "outputs": [
    {
     "data": {
      "text/plain": [
       "array([['AT1G19660', 'AT1G19660'],\n",
       "       ['AT1G53160', 'AT1G14440'],\n",
       "       ['AT5G12150', 'AT1G52240'],\n",
       "       ...,\n",
       "       ['AT3G19120', 'AT3G60010'],\n",
       "       ['AT5G30276', 'AT5G63330'],\n",
       "       ['AT2G47520', 'AT2G37585']], dtype=object)"
      ]
     },
     "execution_count": 74,
     "metadata": {},
     "output_type": "execute_result"
    }
   ],
   "source": [
    "examples_test"
   ]
  },
  {
   "cell_type": "code",
   "execution_count": 17,
   "id": "812c339b-5eb9-44c9-92c0-d6bca21f1677",
   "metadata": {},
   "outputs": [
    {
     "data": {
      "text/plain": [
       "array([1, 1, 1, ..., 0, 0, 0])"
      ]
     },
     "execution_count": 17,
     "metadata": {},
     "output_type": "execute_result"
    }
   ],
   "source": [
    "labels_test"
   ]
  },
  {
   "cell_type": "markdown",
   "id": "2ffdbd45-6fef-4fca-932e-faac2d83ef31",
   "metadata": {},
   "source": [
    "### Train Graph"
   ]
  },
  {
   "cell_type": "markdown",
   "id": "8ad5100d-0aa8-427b-90d0-6b04e3385ccc",
   "metadata": {},
   "source": [
    "We use EdgeSplitter on Test Graph and perform  train/test split to create:\n",
    "* Train Graph\n",
    "* Training set of edge examples\n",
    "* Model selection set of edge examples"
   ]
  },
  {
   "cell_type": "code",
   "execution_count": 18,
   "id": "2653b4f2-0461-4e0a-8635-9c5a01051cfe",
   "metadata": {},
   "outputs": [
    {
     "name": "stdout",
     "output_type": "stream",
     "text": [
      "** Sampled 79230 positive and 79230 negative edges. **\n",
      "StellarDiGraph: Directed multigraph\n",
      " Nodes: 25737, Edges: 713074\n",
      "\n",
      " Node types:\n",
      "  default: [25737]\n",
      "    Features: none\n",
      "    Edge types: default-default->default\n",
      "\n",
      " Edge types:\n",
      "    default-default->default: [713074]\n",
      "        Weights: all 1 (default)\n",
      "        Features: none\n"
     ]
    }
   ],
   "source": [
    "# Same as above to produce a training subset from the Test Graph (graph_test)\n",
    "edge_splitter_train = EdgeSplitter(graph_test)\n",
    "graph_train, examples, labels = edge_splitter_train.train_test_split(\n",
    "    p=0.1, method=\"global\"\n",
    ")\n",
    "(\n",
    "    examples_train,\n",
    "    examples_model_selection,\n",
    "    labels_train,\n",
    "    labels_model_selection,\n",
    ") = train_test_split(examples, labels, train_size=0.75, test_size=0.25)\n",
    "\n",
    "print(graph_train.info())"
   ]
  },
  {
   "cell_type": "markdown",
   "id": "2559e2ef-22ee-47fc-80ee-99617a00ebcb",
   "metadata": {},
   "source": [
    "Summary of the different "
   ]
  },
  {
   "cell_type": "code",
   "execution_count": 19,
   "id": "e7b7d704-8ca3-41c2-a406-f69a6484febc",
   "metadata": {},
   "outputs": [
    {
     "data": {
      "text/html": [
       "<div>\n",
       "<style scoped>\n",
       "    .dataframe tbody tr th:only-of-type {\n",
       "        vertical-align: middle;\n",
       "    }\n",
       "\n",
       "    .dataframe tbody tr th {\n",
       "        vertical-align: top;\n",
       "    }\n",
       "\n",
       "    .dataframe thead th {\n",
       "        text-align: right;\n",
       "    }\n",
       "</style>\n",
       "<table border=\"1\" class=\"dataframe\">\n",
       "  <thead>\n",
       "    <tr style=\"text-align: right;\">\n",
       "      <th></th>\n",
       "      <th>Number of Examples</th>\n",
       "      <th>Hidden from</th>\n",
       "      <th>Picked from</th>\n",
       "      <th>Use</th>\n",
       "    </tr>\n",
       "    <tr>\n",
       "      <th>Split</th>\n",
       "      <th></th>\n",
       "      <th></th>\n",
       "      <th></th>\n",
       "      <th></th>\n",
       "    </tr>\n",
       "  </thead>\n",
       "  <tbody>\n",
       "    <tr>\n",
       "      <th>Training Set</th>\n",
       "      <td>118845</td>\n",
       "      <td>Train Graph</td>\n",
       "      <td>Test Graph</td>\n",
       "      <td>Train the Link Classifier</td>\n",
       "    </tr>\n",
       "    <tr>\n",
       "      <th>Model Selection</th>\n",
       "      <td>39615</td>\n",
       "      <td>Train Graph</td>\n",
       "      <td>Test Graph</td>\n",
       "      <td>Select the best Link Classifier model</td>\n",
       "    </tr>\n",
       "    <tr>\n",
       "      <th>Test set</th>\n",
       "      <td>176066</td>\n",
       "      <td>Test Graph</td>\n",
       "      <td>Full Graph</td>\n",
       "      <td>Evaluate the best Link Classifier</td>\n",
       "    </tr>\n",
       "  </tbody>\n",
       "</table>\n",
       "</div>"
      ],
      "text/plain": [
       "                 Number of Examples  Hidden from Picked from  \\\n",
       "Split                                                          \n",
       "Training Set                 118845  Train Graph  Test Graph   \n",
       "Model Selection               39615  Train Graph  Test Graph   \n",
       "Test set                     176066   Test Graph  Full Graph   \n",
       "\n",
       "                                                   Use  \n",
       "Split                                                   \n",
       "Training Set                 Train the Link Classifier  \n",
       "Model Selection  Select the best Link Classifier model  \n",
       "Test set             Evaluate the best Link Classifier  "
      ]
     },
     "execution_count": 19,
     "metadata": {},
     "output_type": "execute_result"
    }
   ],
   "source": [
    "# Overview of splits created\n",
    "pd.DataFrame(\n",
    "    [\n",
    "        (\n",
    "            \"Training Set\",\n",
    "            len(examples_train),\n",
    "            \"Train Graph\",\n",
    "            \"Test Graph\",\n",
    "            \"Train the Link Classifier\",\n",
    "        ),\n",
    "        (\n",
    "            \"Model Selection\",\n",
    "            len(examples_model_selection),\n",
    "            \"Train Graph\",\n",
    "            \"Test Graph\",\n",
    "            \"Select the best Link Classifier model\",\n",
    "        ),\n",
    "        (\n",
    "            \"Test set\",\n",
    "            len(examples_test),\n",
    "            \"Test Graph\",\n",
    "            \"Full Graph\",\n",
    "            \"Evaluate the best Link Classifier\",\n",
    "        ),\n",
    "    ],\n",
    "    columns=(\"Split\", \"Number of Examples\", \"Hidden from\", \"Picked from\", \"Use\"),\n",
    ").set_index(\"Split\")"
   ]
  },
  {
   "cell_type": "markdown",
   "id": "1cb06fea-2c56-4a3c-bf6a-dd78f6096d33",
   "metadata": {},
   "source": [
    "## Node embeddings"
   ]
  },
  {
   "cell_type": "markdown",
   "id": "16dca1f3-7842-4e7d-b555-5870d93ad007",
   "metadata": {},
   "source": [
    "Use Node2vec to generate the node embeddings with random walks, which try to maintain the node similarity from the graph (proximity in the embedding space). Output are node pairs, which are used to train a Word2Vec model."
   ]
  },
  {
   "cell_type": "markdown",
   "id": "02db2150-f5c2-4924-96c8-7d3686c4863b",
   "metadata": {},
   "source": [
    "### Node2Vec "
   ]
  },
  {
   "cell_type": "code",
   "execution_count": 20,
   "id": "48c4e078-76dd-43ad-a8b0-0f62eebf8f7d",
   "metadata": {},
   "outputs": [],
   "source": [
    "# parameters\n",
    "p = 1.0\n",
    "q = 1.0\n",
    "dimensions = 128\n",
    "num_walks = 50\n",
    "walk_length = 40\n",
    "window_size = 5\n",
    "epochs = 1\n",
    "workers = int(multiprocessing.cpu_count() / 2)"
   ]
  },
  {
   "cell_type": "code",
   "execution_count": 21,
   "id": "0abbff06-bd6d-4304-9457-5f0e5af10c82",
   "metadata": {},
   "outputs": [],
   "source": [
    "def node2vec_embedding(graph, name):\n",
    "    rw = BiasedRandomWalk(graph)\n",
    "    walks = rw.run(graph.nodes(), n=num_walks, length=walk_length, p=p, q=q)\n",
    "    print(f\"Number of random walks for '{name}': {len(walks)}\")\n",
    "    \n",
    "    model = Word2Vec(\n",
    "        walks,\n",
    "        vector_size=dimensions,\n",
    "        window=window_size,\n",
    "        min_count=0,\n",
    "        sg=1,\n",
    "        workers=workers,\n",
    "        epochs=epochs,\n",
    "    )\n",
    "    \n",
    "    def get_embedding(u):\n",
    "        return model.wv[u]\n",
    "    \n",
    "    return get_embedding"
   ]
  },
  {
   "cell_type": "code",
   "execution_count": 22,
   "id": "1c33590d-3d5f-4e48-b027-1fd2cebad20e",
   "metadata": {},
   "outputs": [
    {
     "name": "stdout",
     "output_type": "stream",
     "text": [
      "Number of random walks for 'Train Graph': 1286850\n"
     ]
    }
   ],
   "source": [
    "embedding_train = node2vec_embedding(graph_train, \"Train Graph\")\n",
    "# lahk tudi kar tukaj poženeš classifier"
   ]
  },
  {
   "cell_type": "code",
   "execution_count": 58,
   "id": "69828fa5-67c4-472e-aca6-325045e82846",
   "metadata": {},
   "outputs": [
    {
     "data": {
      "text/plain": [
       "array([-0.17741847, -0.11156264,  0.19235907, -0.29661292, -0.27916133,\n",
       "        0.1490049 , -0.36085287,  0.16743933,  0.43446365,  0.46027187,\n",
       "       -0.2552786 , -0.50217366, -0.29320967, -0.03289622, -0.525161  ,\n",
       "       -0.29296765, -0.37104145, -0.01272205, -0.58339226,  0.20996316,\n",
       "        0.30274507,  0.264988  ,  0.07933199, -0.1385507 , -0.28960645,\n",
       "        0.08521543, -0.15095735, -0.19282979,  0.53411037, -0.24144375,\n",
       "       -0.13622983,  0.36143577,  0.29370964,  0.20370784, -0.51206326,\n",
       "        0.02920596, -0.32087302,  0.04074243,  0.2651921 ,  0.26907656,\n",
       "        0.61567193, -0.31871116, -0.44396186,  0.32473788,  0.02551591,\n",
       "       -0.10941251,  0.09658852,  0.41131938, -0.18516338,  0.429604  ,\n",
       "       -0.29203853, -0.46396604, -0.24002461, -0.421379  , -0.25424182,\n",
       "       -0.5638553 ,  0.53168136,  0.32921463,  0.42747593, -0.13731635,\n",
       "       -0.16077419,  0.63362837,  0.2499092 ,  0.629798  , -0.08243793,\n",
       "       -0.36706638,  0.03778135, -0.19299755,  0.31026605, -0.07923267,\n",
       "        0.06810423, -0.39621985,  0.08583084,  0.1267899 ,  0.8530964 ,\n",
       "        0.07432924,  0.0371008 , -0.5523931 , -0.3369379 ,  0.03400636,\n",
       "        0.1894409 ,  0.12974735, -0.3518655 , -0.06273235,  0.12970877,\n",
       "        0.2511188 , -0.10632223, -0.02943534, -0.31845564, -0.48637134,\n",
       "        0.5863825 ,  0.05046453, -0.10522369,  0.01733227, -0.3995303 ,\n",
       "       -0.18062662,  0.9217843 ,  0.63361275, -0.4401536 ,  0.04265041,\n",
       "       -0.35238266, -0.06695113, -0.42743728,  0.17282236, -0.10219309,\n",
       "        0.16468132, -0.5550694 ,  0.26204127,  0.30794632, -0.20081334,\n",
       "       -0.49618325, -0.20397902,  0.42121014, -0.03654061, -0.12284748,\n",
       "       -0.69607407,  0.51462775, -0.24147035,  0.01401925,  0.4016176 ,\n",
       "       -0.06898612, -0.15715286, -0.14807215,  0.31510285, -0.08853953,\n",
       "       -0.43409866,  0.44395047, -0.24048284], dtype=float32)"
      ]
     },
     "execution_count": 58,
     "metadata": {},
     "output_type": "execute_result"
    }
   ],
   "source": [
    "embedding_train('AT1G01010')"
   ]
  },
  {
   "cell_type": "markdown",
   "id": "e7c46578-9ed2-423a-a642-375263cfcaa1",
   "metadata": {
    "tags": []
   },
   "source": [
    "## Train and evaluate the link prediction model"
   ]
  },
  {
   "cell_type": "markdown",
   "id": "c0445958-45ce-4705-b74b-2f93b9623483",
   "metadata": {},
   "source": [
    "To use Word2Vec model for link prediction we need to perform these steps:\n",
    "1. Calculate the edge embeddings for positive and negative edge samples by applying a binary operator on the embeddings of the source and target nodes\n",
    "2. Train classifier to predicta binary label\n",
    "3. Evaluate the perfromance of the link classifier for each binary operator on training data with node embeddings calculated on the Train Graph and select the best classifier\n",
    "4. The best classifier is used to calculate scores on the test data with node embeeddings calcluated on the Test Graph."
   ]
  },
  {
   "cell_type": "code",
   "execution_count": 23,
   "id": "8d942015-65fd-44eb-a058-70f692e67010",
   "metadata": {},
   "outputs": [],
   "source": [
    "from sklearn.pipeline import Pipeline\n",
    "from sklearn.linear_model import LogisticRegressionCV\n",
    "from sklearn.metrics import roc_auc_score\n",
    "from sklearn.preprocessing import StandardScaler\n",
    "\n",
    "# 1. Edge embeddings\n",
    "def link_examples_to_features(link_examples, transform_node, binary_operator):\n",
    "    return [\n",
    "        binary_operator(transform_node(src), transform_node(dst))\n",
    "        for src, dst in link_examples\n",
    "    ]\n",
    "\n",
    "# 2. Training classifier\n",
    "def train_link_prediction_model(\n",
    "    link_examples, link_labels, get_embedding, binary_operator\n",
    "):\n",
    "    clf = link_prediction_classifier()\n",
    "    link_features = link_examples_to_features(\n",
    "        link_examples, get_embedding, binary_operator\n",
    "    )\n",
    "    clf.fit(link_features, link_labels)\n",
    "    print(\"---------->\", clf.classes_)\n",
    "    return clf\n",
    "\n",
    "def link_prediction_classifier(max_iter=2000):\n",
    "    lr_clf = LogisticRegressionCV(Cs=10, cv=10, scoring=\"roc_auc\", max_iter=max_iter)\n",
    "    return Pipeline(steps=[(\"sc\", StandardScaler()), (\"clf\", lr_clf)])\n",
    "                                                          \n",
    "# 3. and 4. evaluate classifier\n",
    "def evaluate_link_prediction_model(\n",
    "    clf, link_examples_test, link_labels_test, get_embedding, binary_operator\n",
    "):\n",
    "    link_features_test = link_examples_to_features(\n",
    "        link_examples_test, get_embedding, binary_operator\n",
    "    )\n",
    "    score, predicted = evaluate_roc_auc(clf, link_features_test, link_labels_test)\n",
    "    return score, predicted\n",
    "\n",
    "def evaluate_roc_auc(clf, link_features, link_labels):\n",
    "    predicted = clf.predict_proba(link_features) ## verjetnosti za napovedi \n",
    "\n",
    "    # check which class corresponds to positive links\n",
    "    positive_column = list(clf.classes_).index(1)\n",
    "    return roc_auc_score(link_labels, predicted[:, positive_column]), predicted"
   ]
  },
  {
   "cell_type": "markdown",
   "id": "6d5a2184-e03a-4274-9494-ee24690058cd",
   "metadata": {},
   "source": [
    "We use 4 different binary operators that produce link embeddings that have equal dimensionality to the input node embeddings. "
   ]
  },
  {
   "cell_type": "code",
   "execution_count": 24,
   "id": "a2066104-4747-43f9-9440-b8096848632b",
   "metadata": {},
   "outputs": [],
   "source": [
    "def operator_hadamard(u, v):\n",
    "    return u * v\n",
    "\n",
    "\n",
    "def operator_l1(u, v):\n",
    "    return np.abs(u - v)\n",
    "\n",
    "\n",
    "def operator_l2(u, v):\n",
    "    return (u - v) ** 2\n",
    "\n",
    "\n",
    "def operator_avg(u, v):\n",
    "    return (u + v) / 2.0\n",
    "\n",
    "\n",
    "def run_link_prediction(binary_operator):\n",
    "    clf = train_link_prediction_model(\n",
    "        examples_train, labels_train, embedding_train, binary_operator\n",
    "    )\n",
    "    score = evaluate_link_prediction_model(\n",
    "        clf,\n",
    "        examples_model_selection,\n",
    "        labels_model_selection,\n",
    "        embedding_train,\n",
    "        binary_operator,\n",
    "    )\n",
    "\n",
    "    return {\n",
    "        \"classifier\": clf,\n",
    "        \"binary_operator\": binary_operator,\n",
    "        \"score\": score,\n",
    "    }\n",
    "\n",
    "\n",
    "binary_operators = [operator_hadamard, operator_l1, operator_l2, operator_avg]"
   ]
  },
  {
   "cell_type": "code",
   "execution_count": 25,
   "id": "ea0eb8fd-8111-4cb6-a50b-6791dccdf9b2",
   "metadata": {},
   "outputs": [
    {
     "name": "stdout",
     "output_type": "stream",
     "text": [
      "----------> [0 1]\n",
      "----------> [0 1]\n",
      "----------> [0 1]\n",
      "----------> [0 1]\n",
      "Best result from 'operator_hadamard'\n"
     ]
    },
    {
     "data": {
      "text/html": [
       "<div>\n",
       "<style scoped>\n",
       "    .dataframe tbody tr th:only-of-type {\n",
       "        vertical-align: middle;\n",
       "    }\n",
       "\n",
       "    .dataframe tbody tr th {\n",
       "        vertical-align: top;\n",
       "    }\n",
       "\n",
       "    .dataframe thead th {\n",
       "        text-align: right;\n",
       "    }\n",
       "</style>\n",
       "<table border=\"1\" class=\"dataframe\">\n",
       "  <thead>\n",
       "    <tr style=\"text-align: right;\">\n",
       "      <th></th>\n",
       "      <th>ROC AUC score</th>\n",
       "    </tr>\n",
       "    <tr>\n",
       "      <th>name</th>\n",
       "      <th></th>\n",
       "    </tr>\n",
       "  </thead>\n",
       "  <tbody>\n",
       "    <tr>\n",
       "      <th>operator_hadamard</th>\n",
       "      <td>0.963278</td>\n",
       "    </tr>\n",
       "    <tr>\n",
       "      <th>operator_l1</th>\n",
       "      <td>0.886990</td>\n",
       "    </tr>\n",
       "    <tr>\n",
       "      <th>operator_l2</th>\n",
       "      <td>0.889676</td>\n",
       "    </tr>\n",
       "    <tr>\n",
       "      <th>operator_avg</th>\n",
       "      <td>0.818661</td>\n",
       "    </tr>\n",
       "  </tbody>\n",
       "</table>\n",
       "</div>"
      ],
      "text/plain": [
       "                   ROC AUC score\n",
       "name                            \n",
       "operator_hadamard       0.963278\n",
       "operator_l1             0.886990\n",
       "operator_l2             0.889676\n",
       "operator_avg            0.818661"
      ]
     },
     "execution_count": 25,
     "metadata": {},
     "output_type": "execute_result"
    }
   ],
   "source": [
    "results = [run_link_prediction(op) for op in binary_operators]\n",
    "best_result = max(results, key=lambda result: result[\"score\"])\n",
    "\n",
    "print(f\"Best result from '{best_result['binary_operator'].__name__}'\")\n",
    "      \n",
    "pd.DataFrame(\n",
    "    [(result[\"binary_operator\"].__name__, result[\"score\"][0]) for result in results],\n",
    "    columns=(\"name\", \"ROC AUC score\"),\n",
    ").set_index(\"name\")"
   ]
  },
  {
   "cell_type": "markdown",
   "id": "709c2011-d02b-42fe-87df-bfc471879c15",
   "metadata": {},
   "source": [
    "### Evaluate the best model using the test set"
   ]
  },
  {
   "cell_type": "markdown",
   "id": "762b6c47-2cd5-4a46-8555-56b5f46f6c5c",
   "metadata": {},
   "source": [
    "We now use the test set of embeddings and calculate a final evaluation score. "
   ]
  },
  {
   "cell_type": "code",
   "execution_count": 26,
   "id": "112e9f27-d273-454f-8346-a991d6a72f94",
   "metadata": {},
   "outputs": [
    {
     "name": "stdout",
     "output_type": "stream",
     "text": [
      "Number of random walks for 'Test Graph': 1286850\n"
     ]
    }
   ],
   "source": [
    "embedding_test = node2vec_embedding(graph_test, \"Test Graph\")"
   ]
  },
  {
   "cell_type": "code",
   "execution_count": 27,
   "id": "a9e53998-e052-456f-8486-dee10d50eb13",
   "metadata": {},
   "outputs": [
    {
     "name": "stdout",
     "output_type": "stream",
     "text": [
      "ROC AUC score on test set using 'operator_hadamard': 0.9013994896874807\n"
     ]
    }
   ],
   "source": [
    "test_score, predicted = evaluate_link_prediction_model(\n",
    "    best_result[\"classifier\"],\n",
    "    examples_test,\n",
    "    labels_test,\n",
    "    embedding_test,\n",
    "    best_result[\"binary_operator\"],\n",
    ")\n",
    "print(\n",
    "    f\"ROC AUC score on test set using '{best_result['binary_operator'].__name__}': {test_score}\"\n",
    ")"
   ]
  },
  {
   "cell_type": "markdown",
   "id": "d0116aa8-3ba9-4609-aead-0b66409429a7",
   "metadata": {},
   "source": [
    "### Create df of edges with R values and predictions"
   ]
  },
  {
   "cell_type": "code",
   "execution_count": 28,
   "id": "af093387-83f9-491b-9a63-86a4273cdf81",
   "metadata": {},
   "outputs": [
    {
     "data": {
      "text/plain": [
       "array([['AT1G19660', 'AT1G19660'],\n",
       "       ['AT1G53160', 'AT1G14440'],\n",
       "       ['AT5G12150', 'AT1G52240'],\n",
       "       ...,\n",
       "       ['AT3G19120', 'AT3G60010'],\n",
       "       ['AT5G30276', 'AT5G63330'],\n",
       "       ['AT2G47520', 'AT2G37585']], dtype=object)"
      ]
     },
     "execution_count": 28,
     "metadata": {},
     "output_type": "execute_result"
    }
   ],
   "source": [
    "# Edges test examples is set of positive/negative edge examples (node pairs) that were removed from the full graph. [np_array]\n",
    "examples_test"
   ]
  },
  {
   "cell_type": "code",
   "execution_count": 29,
   "id": "9ca8b0a9-4bb4-4110-b537-f12867b227f6",
   "metadata": {},
   "outputs": [
    {
     "data": {
      "text/plain": [
       "array([1, 1, 1, ..., 0, 0, 0])"
      ]
     },
     "execution_count": 29,
     "metadata": {},
     "output_type": "execute_result"
    }
   ],
   "source": [
    "# Labels of pos and neg edges (1, 0) for test edges examples [np_array]\n",
    "labels_test"
   ]
  },
  {
   "cell_type": "code",
   "execution_count": 60,
   "id": "e5f899f3-cf17-47f6-93e1-a6bbe1c7c372",
   "metadata": {},
   "outputs": [
    {
     "data": {
      "text/plain": [
       "array([[2.14347472e-05, 9.99978565e-01],\n",
       "       [4.28335244e-03, 9.95716648e-01],\n",
       "       [3.39319739e-04, 9.99660680e-01],\n",
       "       ...,\n",
       "       [9.79401661e-02, 9.02059834e-01],\n",
       "       [1.15127225e-01, 8.84872775e-01],\n",
       "       [9.88625912e-01, 1.13740882e-02]])"
      ]
     },
     "execution_count": 60,
     "metadata": {},
     "output_type": "execute_result"
    }
   ],
   "source": [
    "# Label predicitons for each edge test example\n",
    "predicted"
   ]
  },
  {
   "cell_type": "code",
   "execution_count": 31,
   "id": "9d754134-432c-4df5-974d-3440f6317241",
   "metadata": {},
   "outputs": [
    {
     "data": {
      "text/html": [
       "<div>\n",
       "<style scoped>\n",
       "    .dataframe tbody tr th:only-of-type {\n",
       "        vertical-align: middle;\n",
       "    }\n",
       "\n",
       "    .dataframe tbody tr th {\n",
       "        vertical-align: top;\n",
       "    }\n",
       "\n",
       "    .dataframe thead th {\n",
       "        text-align: right;\n",
       "    }\n",
       "</style>\n",
       "<table border=\"1\" class=\"dataframe\">\n",
       "  <thead>\n",
       "    <tr style=\"text-align: right;\">\n",
       "      <th></th>\n",
       "      <th>from</th>\n",
       "      <th>to</th>\n",
       "      <th>labels</th>\n",
       "      <th>pred_0</th>\n",
       "      <th>pred_1</th>\n",
       "      <th>R-value</th>\n",
       "    </tr>\n",
       "  </thead>\n",
       "  <tbody>\n",
       "    <tr>\n",
       "      <th>0</th>\n",
       "      <td>AT1G19660</td>\n",
       "      <td>AT1G19660</td>\n",
       "      <td>1</td>\n",
       "      <td>0.000021</td>\n",
       "      <td>0.999979</td>\n",
       "      <td>NaN</td>\n",
       "    </tr>\n",
       "    <tr>\n",
       "      <th>1</th>\n",
       "      <td>AT1G53160</td>\n",
       "      <td>AT1G14440</td>\n",
       "      <td>1</td>\n",
       "      <td>0.004283</td>\n",
       "      <td>0.995717</td>\n",
       "      <td>NaN</td>\n",
       "    </tr>\n",
       "    <tr>\n",
       "      <th>2</th>\n",
       "      <td>AT5G12150</td>\n",
       "      <td>AT1G52240</td>\n",
       "      <td>1</td>\n",
       "      <td>0.000339</td>\n",
       "      <td>0.999661</td>\n",
       "      <td>NaN</td>\n",
       "    </tr>\n",
       "    <tr>\n",
       "      <th>3</th>\n",
       "      <td>AT3G29380</td>\n",
       "      <td>AT3G10330</td>\n",
       "      <td>1</td>\n",
       "      <td>0.000401</td>\n",
       "      <td>0.999599</td>\n",
       "      <td>NaN</td>\n",
       "    </tr>\n",
       "    <tr>\n",
       "      <th>4</th>\n",
       "      <td>AT4G29380</td>\n",
       "      <td>AT1G03430</td>\n",
       "      <td>1</td>\n",
       "      <td>0.530620</td>\n",
       "      <td>0.469380</td>\n",
       "      <td>NaN</td>\n",
       "    </tr>\n",
       "    <tr>\n",
       "      <th>...</th>\n",
       "      <td>...</td>\n",
       "      <td>...</td>\n",
       "      <td>...</td>\n",
       "      <td>...</td>\n",
       "      <td>...</td>\n",
       "      <td>...</td>\n",
       "    </tr>\n",
       "    <tr>\n",
       "      <th>176061</th>\n",
       "      <td>AT1G55270</td>\n",
       "      <td>AT2G10870</td>\n",
       "      <td>0</td>\n",
       "      <td>0.394787</td>\n",
       "      <td>0.605213</td>\n",
       "      <td>NaN</td>\n",
       "    </tr>\n",
       "    <tr>\n",
       "      <th>176062</th>\n",
       "      <td>AT1G30670</td>\n",
       "      <td>AT4G13590</td>\n",
       "      <td>0</td>\n",
       "      <td>0.888483</td>\n",
       "      <td>0.111517</td>\n",
       "      <td>NaN</td>\n",
       "    </tr>\n",
       "    <tr>\n",
       "      <th>176063</th>\n",
       "      <td>AT3G19120</td>\n",
       "      <td>AT3G60010</td>\n",
       "      <td>0</td>\n",
       "      <td>0.097940</td>\n",
       "      <td>0.902060</td>\n",
       "      <td>NaN</td>\n",
       "    </tr>\n",
       "    <tr>\n",
       "      <th>176064</th>\n",
       "      <td>AT5G30276</td>\n",
       "      <td>AT5G63330</td>\n",
       "      <td>0</td>\n",
       "      <td>0.115127</td>\n",
       "      <td>0.884873</td>\n",
       "      <td>NaN</td>\n",
       "    </tr>\n",
       "    <tr>\n",
       "      <th>176065</th>\n",
       "      <td>AT2G47520</td>\n",
       "      <td>AT2G37585</td>\n",
       "      <td>0</td>\n",
       "      <td>0.988626</td>\n",
       "      <td>0.011374</td>\n",
       "      <td>NaN</td>\n",
       "    </tr>\n",
       "  </tbody>\n",
       "</table>\n",
       "<p>176066 rows × 6 columns</p>\n",
       "</div>"
      ],
      "text/plain": [
       "             from         to  labels    pred_0    pred_1  R-value\n",
       "0       AT1G19660  AT1G19660       1  0.000021  0.999979      NaN\n",
       "1       AT1G53160  AT1G14440       1  0.004283  0.995717      NaN\n",
       "2       AT5G12150  AT1G52240       1  0.000339  0.999661      NaN\n",
       "3       AT3G29380  AT3G10330       1  0.000401  0.999599      NaN\n",
       "4       AT4G29380  AT1G03430       1  0.530620  0.469380      NaN\n",
       "...           ...        ...     ...       ...       ...      ...\n",
       "176061  AT1G55270  AT2G10870       0  0.394787  0.605213      NaN\n",
       "176062  AT1G30670  AT4G13590       0  0.888483  0.111517      NaN\n",
       "176063  AT3G19120  AT3G60010       0  0.097940  0.902060      NaN\n",
       "176064  AT5G30276  AT5G63330       0  0.115127  0.884873      NaN\n",
       "176065  AT2G47520  AT2G37585       0  0.988626  0.011374      NaN\n",
       "\n",
       "[176066 rows x 6 columns]"
      ]
     },
     "execution_count": 31,
     "metadata": {},
     "output_type": "execute_result"
    }
   ],
   "source": [
    "# Create df with the test data and predictions\n",
    "df_pred = pd.DataFrame(examples_test, columns=[\"from\", \"to\"])\n",
    "df_pred[\"labels\"] = labels_test\n",
    "df_pred[[\"pred_0\", \"pred_1\"]] = pd.DataFrame(predicted)\n",
    "# df_pred.drop([\"pred_0\"], axis=1, inplace=True)\n",
    "df_pred[\"R-value\"] = np.nan\n",
    "df_pred"
   ]
  },
  {
   "cell_type": "markdown",
   "id": "b21269b8-2f95-45eb-a656-94d81dbabb29",
   "metadata": {},
   "source": [
    "---"
   ]
  },
  {
   "cell_type": "code",
   "execution_count": 32,
   "id": "fa1e9c0c-7f9c-42e7-932c-65eadf57408f",
   "metadata": {},
   "outputs": [
    {
     "data": {
      "text/html": [
       "<div>\n",
       "<style scoped>\n",
       "    .dataframe tbody tr th:only-of-type {\n",
       "        vertical-align: middle;\n",
       "    }\n",
       "\n",
       "    .dataframe tbody tr th {\n",
       "        vertical-align: top;\n",
       "    }\n",
       "\n",
       "    .dataframe thead th {\n",
       "        text-align: right;\n",
       "    }\n",
       "</style>\n",
       "<table border=\"1\" class=\"dataframe\">\n",
       "  <thead>\n",
       "    <tr style=\"text-align: right;\">\n",
       "      <th></th>\n",
       "      <th>from</th>\n",
       "      <th>to</th>\n",
       "      <th>interaction</th>\n",
       "      <th>R-value</th>\n",
       "      <th>pis</th>\n",
       "    </tr>\n",
       "  </thead>\n",
       "  <tbody>\n",
       "    <tr>\n",
       "      <th>0</th>\n",
       "      <td>AT1G01010</td>\n",
       "      <td>AT1G01010</td>\n",
       "      <td>unkTF</td>\n",
       "      <td>r3</td>\n",
       "      <td>ath</td>\n",
       "    </tr>\n",
       "    <tr>\n",
       "      <th>1</th>\n",
       "      <td>AT1G01010</td>\n",
       "      <td>AT1G07640</td>\n",
       "      <td>binding</td>\n",
       "      <td>r3</td>\n",
       "      <td>ath</td>\n",
       "    </tr>\n",
       "    <tr>\n",
       "      <th>2</th>\n",
       "      <td>AT1G01010</td>\n",
       "      <td>AT1G10030</td>\n",
       "      <td>binding</td>\n",
       "      <td>r2</td>\n",
       "      <td>ath</td>\n",
       "    </tr>\n",
       "    <tr>\n",
       "      <th>3</th>\n",
       "      <td>AT1G01010</td>\n",
       "      <td>AT1G12390</td>\n",
       "      <td>binding</td>\n",
       "      <td>r2</td>\n",
       "      <td>ath</td>\n",
       "    </tr>\n",
       "    <tr>\n",
       "      <th>4</th>\n",
       "      <td>AT1G01010</td>\n",
       "      <td>AT1G14360</td>\n",
       "      <td>binding</td>\n",
       "      <td>r2</td>\n",
       "      <td>ath</td>\n",
       "    </tr>\n",
       "    <tr>\n",
       "      <th>...</th>\n",
       "      <td>...</td>\n",
       "      <td>...</td>\n",
       "      <td>...</td>\n",
       "      <td>...</td>\n",
       "      <td>...</td>\n",
       "    </tr>\n",
       "    <tr>\n",
       "      <th>484611</th>\n",
       "      <td>MIRF11203</td>\n",
       "      <td>AT3G43955</td>\n",
       "      <td>inhMIR</td>\n",
       "      <td>r3</td>\n",
       "      <td>ath</td>\n",
       "    </tr>\n",
       "    <tr>\n",
       "      <th>484612</th>\n",
       "      <td>MIRF11203</td>\n",
       "      <td>AT3G52530</td>\n",
       "      <td>inhMIR</td>\n",
       "      <td>r3</td>\n",
       "      <td>ath</td>\n",
       "    </tr>\n",
       "    <tr>\n",
       "      <th>484613</th>\n",
       "      <td>MIRF11203</td>\n",
       "      <td>AT5G12085</td>\n",
       "      <td>inhMIR</td>\n",
       "      <td>r3</td>\n",
       "      <td>ath</td>\n",
       "    </tr>\n",
       "    <tr>\n",
       "      <th>484614</th>\n",
       "      <td>MIRF11203</td>\n",
       "      <td>AT5G35935</td>\n",
       "      <td>inhMIR</td>\n",
       "      <td>r3</td>\n",
       "      <td>ath</td>\n",
       "    </tr>\n",
       "    <tr>\n",
       "      <th>484615</th>\n",
       "      <td>MIRF11203</td>\n",
       "      <td>AT5G45460</td>\n",
       "      <td>inhMIR</td>\n",
       "      <td>r3</td>\n",
       "      <td>ath</td>\n",
       "    </tr>\n",
       "  </tbody>\n",
       "</table>\n",
       "<p>484616 rows × 5 columns</p>\n",
       "</div>"
      ],
      "text/plain": [
       "             from         to interaction R-value  pis\n",
       "0       AT1G01010  AT1G01010       unkTF      r3  ath\n",
       "1       AT1G01010  AT1G07640     binding      r3  ath\n",
       "2       AT1G01010  AT1G10030     binding      r2  ath\n",
       "3       AT1G01010  AT1G12390     binding      r2  ath\n",
       "4       AT1G01010  AT1G14360     binding      r2  ath\n",
       "...           ...        ...         ...     ...  ...\n",
       "484611  MIRF11203  AT3G43955      inhMIR      r3  ath\n",
       "484612  MIRF11203  AT3G52530      inhMIR      r3  ath\n",
       "484613  MIRF11203  AT5G12085      inhMIR      r3  ath\n",
       "484614  MIRF11203  AT5G35935      inhMIR      r3  ath\n",
       "484615  MIRF11203  AT5G45460      inhMIR      r3  ath\n",
       "\n",
       "[484616 rows x 5 columns]"
      ]
     },
     "execution_count": 32,
     "metadata": {},
     "output_type": "execute_result"
    }
   ],
   "source": [
    "df = pd.read_csv(\"../data/AtCKN_2022-01-26.tsv\", \n",
    "                 names=[\"from\", \"to\", \"interaction\", \"R-value\", \"pis\"], sep=\"\\t\", header=0)\n",
    "df"
   ]
  },
  {
   "cell_type": "code",
   "execution_count": 73,
   "id": "016769f7-b144-4fb4-a30b-fc7007b31b0f",
   "metadata": {},
   "outputs": [
    {
     "name": "stdout",
     "output_type": "stream",
     "text": [
      "484616\n"
     ]
    }
   ],
   "source": [
    "# test uniqueness\n",
    "a = set()\n",
    "for i, row in df.iterrows():\n",
    "    a.add((row[\"from\"], row[\"to\"], row[\"interaction\"]))\n",
    "print(len(a))\n",
    "    "
   ]
  },
  {
   "cell_type": "code",
   "execution_count": 34,
   "id": "65da2b26-b52c-4e75-a404-881596e7bb10",
   "metadata": {},
   "outputs": [
    {
     "data": {
      "text/plain": [
       "binding       396664\n",
       "inhMIR         33377\n",
       "catalysis      27963\n",
       "unkTF          15279\n",
       "actTF           5412\n",
       "activation      1687\n",
       "ptmod           1427\n",
       "inhTF           1349\n",
       "inhibition      1292\n",
       "PTRmod           166\n",
       "Name: interaction, dtype: int64"
      ]
     },
     "execution_count": 34,
     "metadata": {},
     "output_type": "execute_result"
    }
   ],
   "source": [
    "df[\"interaction\"].value_counts()"
   ]
  },
  {
   "cell_type": "code",
   "execution_count": 35,
   "id": "73a97010-36d7-44d8-afa6-a1544699d8e2",
   "metadata": {},
   "outputs": [
    {
     "data": {
      "text/plain": [
       "r3    0.788998\n",
       "r2    0.093466\n",
       "r4    0.060832\n",
       "r1    0.056705\n",
       "Name: R-value, dtype: float64"
      ]
     },
     "execution_count": 35,
     "metadata": {},
     "output_type": "execute_result"
    }
   ],
   "source": [
    "df[\"R-value\"].value_counts(normalize=True)"
   ]
  },
  {
   "cell_type": "code",
   "execution_count": 36,
   "id": "11c20a19-58eb-46ac-83f1-f6ecb1567005",
   "metadata": {},
   "outputs": [
    {
     "data": {
      "text/plain": [
       "<AxesSubplot:>"
      ]
     },
     "execution_count": 36,
     "metadata": {},
     "output_type": "execute_result"
    },
    {
     "data": {
      "image/png": "[encoded data removed]",
      "text/plain": [
       "<Figure size 432x288 with 1 Axes>"
      ]
     },
     "metadata": {
      "needs_background": "light"
     },
     "output_type": "display_data"
    }
   ],
   "source": [
    "df[\"R-value\"].hist()"
   ]
  },
  {
   "cell_type": "markdown",
   "id": "1c744793-cc77-4e33-9976-86ba0a727694",
   "metadata": {},
   "source": [
    "---"
   ]
  },
  {
   "cell_type": "code",
   "execution_count": 37,
   "id": "94002eb7-c5f0-4cb5-be34-ba7f72d0579f",
   "metadata": {},
   "outputs": [],
   "source": [
    "# Create dictionary edge : R-value from original df\n",
    "dict_org ={}\n",
    "\n",
    "for row in df.itertuples(name=None):\n",
    "    dict_org[row[1:3]] = row[4]\n",
    "\n",
    "# Create tuple edges in df_pred\n",
    "data_edges = list(zip(df_pred[\"from\"], df_pred[\"to\"]))\n",
    "\n",
    "df_pred.insert(2, \"edge_tuple\", value=data_edges)"
   ]
  },
  {
   "cell_type": "code",
   "execution_count": 38,
   "id": "d42a1b22-8124-4e18-940a-b075f31373a5",
   "metadata": {},
   "outputs": [
    {
     "data": {
      "text/html": [
       "<div>\n",
       "<style scoped>\n",
       "    .dataframe tbody tr th:only-of-type {\n",
       "        vertical-align: middle;\n",
       "    }\n",
       "\n",
       "    .dataframe tbody tr th {\n",
       "        vertical-align: top;\n",
       "    }\n",
       "\n",
       "    .dataframe thead th {\n",
       "        text-align: right;\n",
       "    }\n",
       "</style>\n",
       "<table border=\"1\" class=\"dataframe\">\n",
       "  <thead>\n",
       "    <tr style=\"text-align: right;\">\n",
       "      <th></th>\n",
       "      <th>from</th>\n",
       "      <th>to</th>\n",
       "      <th>edge_tuple</th>\n",
       "      <th>labels</th>\n",
       "      <th>pred_0</th>\n",
       "      <th>pred_1</th>\n",
       "      <th>R-value</th>\n",
       "    </tr>\n",
       "  </thead>\n",
       "  <tbody>\n",
       "    <tr>\n",
       "      <th>0</th>\n",
       "      <td>AT1G19660</td>\n",
       "      <td>AT1G19660</td>\n",
       "      <td>(AT1G19660, AT1G19660)</td>\n",
       "      <td>1</td>\n",
       "      <td>0.000021</td>\n",
       "      <td>0.999979</td>\n",
       "      <td>r3</td>\n",
       "    </tr>\n",
       "    <tr>\n",
       "      <th>1</th>\n",
       "      <td>AT1G53160</td>\n",
       "      <td>AT1G14440</td>\n",
       "      <td>(AT1G53160, AT1G14440)</td>\n",
       "      <td>1</td>\n",
       "      <td>0.004283</td>\n",
       "      <td>0.995717</td>\n",
       "      <td>r3</td>\n",
       "    </tr>\n",
       "    <tr>\n",
       "      <th>2</th>\n",
       "      <td>AT5G12150</td>\n",
       "      <td>AT1G52240</td>\n",
       "      <td>(AT5G12150, AT1G52240)</td>\n",
       "      <td>1</td>\n",
       "      <td>0.000339</td>\n",
       "      <td>0.999661</td>\n",
       "      <td>r3</td>\n",
       "    </tr>\n",
       "    <tr>\n",
       "      <th>3</th>\n",
       "      <td>AT3G29380</td>\n",
       "      <td>AT3G10330</td>\n",
       "      <td>(AT3G29380, AT3G10330)</td>\n",
       "      <td>1</td>\n",
       "      <td>0.000401</td>\n",
       "      <td>0.999599</td>\n",
       "      <td>r3</td>\n",
       "    </tr>\n",
       "    <tr>\n",
       "      <th>4</th>\n",
       "      <td>AT4G29380</td>\n",
       "      <td>AT1G03430</td>\n",
       "      <td>(AT4G29380, AT1G03430)</td>\n",
       "      <td>1</td>\n",
       "      <td>0.530620</td>\n",
       "      <td>0.469380</td>\n",
       "      <td>r3</td>\n",
       "    </tr>\n",
       "    <tr>\n",
       "      <th>...</th>\n",
       "      <td>...</td>\n",
       "      <td>...</td>\n",
       "      <td>...</td>\n",
       "      <td>...</td>\n",
       "      <td>...</td>\n",
       "      <td>...</td>\n",
       "      <td>...</td>\n",
       "    </tr>\n",
       "    <tr>\n",
       "      <th>176061</th>\n",
       "      <td>AT1G55270</td>\n",
       "      <td>AT2G10870</td>\n",
       "      <td>(AT1G55270, AT2G10870)</td>\n",
       "      <td>0</td>\n",
       "      <td>0.394787</td>\n",
       "      <td>0.605213</td>\n",
       "      <td>NaN</td>\n",
       "    </tr>\n",
       "    <tr>\n",
       "      <th>176062</th>\n",
       "      <td>AT1G30670</td>\n",
       "      <td>AT4G13590</td>\n",
       "      <td>(AT1G30670, AT4G13590)</td>\n",
       "      <td>0</td>\n",
       "      <td>0.888483</td>\n",
       "      <td>0.111517</td>\n",
       "      <td>NaN</td>\n",
       "    </tr>\n",
       "    <tr>\n",
       "      <th>176063</th>\n",
       "      <td>AT3G19120</td>\n",
       "      <td>AT3G60010</td>\n",
       "      <td>(AT3G19120, AT3G60010)</td>\n",
       "      <td>0</td>\n",
       "      <td>0.097940</td>\n",
       "      <td>0.902060</td>\n",
       "      <td>NaN</td>\n",
       "    </tr>\n",
       "    <tr>\n",
       "      <th>176064</th>\n",
       "      <td>AT5G30276</td>\n",
       "      <td>AT5G63330</td>\n",
       "      <td>(AT5G30276, AT5G63330)</td>\n",
       "      <td>0</td>\n",
       "      <td>0.115127</td>\n",
       "      <td>0.884873</td>\n",
       "      <td>NaN</td>\n",
       "    </tr>\n",
       "    <tr>\n",
       "      <th>176065</th>\n",
       "      <td>AT2G47520</td>\n",
       "      <td>AT2G37585</td>\n",
       "      <td>(AT2G47520, AT2G37585)</td>\n",
       "      <td>0</td>\n",
       "      <td>0.988626</td>\n",
       "      <td>0.011374</td>\n",
       "      <td>NaN</td>\n",
       "    </tr>\n",
       "  </tbody>\n",
       "</table>\n",
       "<p>176066 rows × 7 columns</p>\n",
       "</div>"
      ],
      "text/plain": [
       "             from         to              edge_tuple  labels    pred_0  \\\n",
       "0       AT1G19660  AT1G19660  (AT1G19660, AT1G19660)       1  0.000021   \n",
       "1       AT1G53160  AT1G14440  (AT1G53160, AT1G14440)       1  0.004283   \n",
       "2       AT5G12150  AT1G52240  (AT5G12150, AT1G52240)       1  0.000339   \n",
       "3       AT3G29380  AT3G10330  (AT3G29380, AT3G10330)       1  0.000401   \n",
       "4       AT4G29380  AT1G03430  (AT4G29380, AT1G03430)       1  0.530620   \n",
       "...           ...        ...                     ...     ...       ...   \n",
       "176061  AT1G55270  AT2G10870  (AT1G55270, AT2G10870)       0  0.394787   \n",
       "176062  AT1G30670  AT4G13590  (AT1G30670, AT4G13590)       0  0.888483   \n",
       "176063  AT3G19120  AT3G60010  (AT3G19120, AT3G60010)       0  0.097940   \n",
       "176064  AT5G30276  AT5G63330  (AT5G30276, AT5G63330)       0  0.115127   \n",
       "176065  AT2G47520  AT2G37585  (AT2G47520, AT2G37585)       0  0.988626   \n",
       "\n",
       "          pred_1 R-value  \n",
       "0       0.999979      r3  \n",
       "1       0.995717      r3  \n",
       "2       0.999661      r3  \n",
       "3       0.999599      r3  \n",
       "4       0.469380      r3  \n",
       "...          ...     ...  \n",
       "176061  0.605213     NaN  \n",
       "176062  0.111517     NaN  \n",
       "176063  0.902060     NaN  \n",
       "176064  0.884873     NaN  \n",
       "176065  0.011374     NaN  \n",
       "\n",
       "[176066 rows x 7 columns]"
      ]
     },
     "execution_count": 38,
     "metadata": {},
     "output_type": "execute_result"
    }
   ],
   "source": [
    "# Map R-values from original data to positive edges in df_pred\n",
    "r_values = []\n",
    "for rid, row in df_pred.iterrows():\n",
    "    if g.has_edge(row[\"from\"], row[\"to\"]):\n",
    "        r_values.append(g.edges[row[\"from\"], row[\"to\"], 0][\"reliability\"])\n",
    "    else: \n",
    "        r_values.append(np.nan)\n",
    "df_pred[\"R-value\"] = r_values\n",
    "df_pred"
   ]
  },
  {
   "cell_type": "code",
   "execution_count": 39,
   "id": "b96ef6f1-138d-42c2-b613-b4078cd7abc5",
   "metadata": {},
   "outputs": [],
   "source": [
    "df_pred.to_pickle(f\"Results/df_pred_{g.name}.pickle\")\n",
    "df_pred.to_csv(f\"Results/df_pred_poz&neg-links_{g.name}\", na_rep=\"?\", index= False)"
   ]
  },
  {
   "cell_type": "markdown",
   "id": "33b658ae-5cf3-41d5-bbcb-3e8fc3d433a2",
   "metadata": {},
   "source": [
    "---"
   ]
  },
  {
   "cell_type": "markdown",
   "id": "2ac2a789-638c-4f0b-884c-ab928ba8b62d",
   "metadata": {},
   "source": [
    "Prepare dataset of positive edges with predictions and visualisation."
   ]
  },
  {
   "cell_type": "code",
   "execution_count": 40,
   "id": "d0eb080f-1047-46e8-95d2-16072d4e24d3",
   "metadata": {},
   "outputs": [
    {
     "data": {
      "text/plain": [
       "r3    71719\n",
       "r2     6871\n",
       "r4     5933\n",
       "r1     3510\n",
       "Name: R-value, dtype: int64"
      ]
     },
     "execution_count": 40,
     "metadata": {},
     "output_type": "execute_result"
    }
   ],
   "source": [
    "df_poz = df_pred[df_pred.labels == 1]\n",
    "df_poz[\"R-value\"].value_counts(dropna=False)"
   ]
  },
  {
   "cell_type": "code",
   "execution_count": 41,
   "id": "406def22-86f8-49fd-9819-6c3157af4a25",
   "metadata": {
    "tags": []
   },
   "outputs": [
    {
     "data": {
      "text/plain": [
       "r3    0.814683\n",
       "r2    0.078050\n",
       "r4    0.067395\n",
       "r1    0.039871\n",
       "Name: R-value, dtype: float64"
      ]
     },
     "execution_count": 41,
     "metadata": {},
     "output_type": "execute_result"
    }
   ],
   "source": [
    "df_poz[\"R-value\"].value_counts(normalize=True)"
   ]
  },
  {
   "cell_type": "code",
   "execution_count": 42,
   "id": "3d0d8809-6fb4-47da-b7e2-da15a21d9795",
   "metadata": {},
   "outputs": [
    {
     "data": {
      "text/html": [
       "<div>\n",
       "<style scoped>\n",
       "    .dataframe tbody tr th:only-of-type {\n",
       "        vertical-align: middle;\n",
       "    }\n",
       "\n",
       "    .dataframe tbody tr th {\n",
       "        vertical-align: top;\n",
       "    }\n",
       "\n",
       "    .dataframe thead th {\n",
       "        text-align: right;\n",
       "    }\n",
       "</style>\n",
       "<table border=\"1\" class=\"dataframe\">\n",
       "  <thead>\n",
       "    <tr style=\"text-align: right;\">\n",
       "      <th></th>\n",
       "      <th>from</th>\n",
       "      <th>to</th>\n",
       "      <th>edge_tuple</th>\n",
       "      <th>labels</th>\n",
       "      <th>pred_0</th>\n",
       "      <th>pred_1</th>\n",
       "      <th>R-value</th>\n",
       "    </tr>\n",
       "  </thead>\n",
       "  <tbody>\n",
       "    <tr>\n",
       "      <th>0</th>\n",
       "      <td>AT1G19660</td>\n",
       "      <td>AT1G19660</td>\n",
       "      <td>(AT1G19660, AT1G19660)</td>\n",
       "      <td>1</td>\n",
       "      <td>2.143475e-05</td>\n",
       "      <td>0.999979</td>\n",
       "      <td>r3</td>\n",
       "    </tr>\n",
       "    <tr>\n",
       "      <th>1</th>\n",
       "      <td>AT1G53160</td>\n",
       "      <td>AT1G14440</td>\n",
       "      <td>(AT1G53160, AT1G14440)</td>\n",
       "      <td>1</td>\n",
       "      <td>4.283352e-03</td>\n",
       "      <td>0.995717</td>\n",
       "      <td>r3</td>\n",
       "    </tr>\n",
       "    <tr>\n",
       "      <th>2</th>\n",
       "      <td>AT5G12150</td>\n",
       "      <td>AT1G52240</td>\n",
       "      <td>(AT5G12150, AT1G52240)</td>\n",
       "      <td>1</td>\n",
       "      <td>3.393197e-04</td>\n",
       "      <td>0.999661</td>\n",
       "      <td>r3</td>\n",
       "    </tr>\n",
       "    <tr>\n",
       "      <th>3</th>\n",
       "      <td>AT3G29380</td>\n",
       "      <td>AT3G10330</td>\n",
       "      <td>(AT3G29380, AT3G10330)</td>\n",
       "      <td>1</td>\n",
       "      <td>4.005118e-04</td>\n",
       "      <td>0.999599</td>\n",
       "      <td>r3</td>\n",
       "    </tr>\n",
       "    <tr>\n",
       "      <th>4</th>\n",
       "      <td>AT4G29380</td>\n",
       "      <td>AT1G03430</td>\n",
       "      <td>(AT4G29380, AT1G03430)</td>\n",
       "      <td>1</td>\n",
       "      <td>5.306197e-01</td>\n",
       "      <td>0.469380</td>\n",
       "      <td>r3</td>\n",
       "    </tr>\n",
       "    <tr>\n",
       "      <th>...</th>\n",
       "      <td>...</td>\n",
       "      <td>...</td>\n",
       "      <td>...</td>\n",
       "      <td>...</td>\n",
       "      <td>...</td>\n",
       "      <td>...</td>\n",
       "      <td>...</td>\n",
       "    </tr>\n",
       "    <tr>\n",
       "      <th>88028</th>\n",
       "      <td>MIRF10548</td>\n",
       "      <td>AT2G10110</td>\n",
       "      <td>(MIRF10548, AT2G10110)</td>\n",
       "      <td>1</td>\n",
       "      <td>2.375042e-10</td>\n",
       "      <td>1.000000</td>\n",
       "      <td>r3</td>\n",
       "    </tr>\n",
       "    <tr>\n",
       "      <th>88029</th>\n",
       "      <td>AT5G61850</td>\n",
       "      <td>AT5G02140</td>\n",
       "      <td>(AT5G61850, AT5G02140)</td>\n",
       "      <td>1</td>\n",
       "      <td>9.912282e-01</td>\n",
       "      <td>0.008772</td>\n",
       "      <td>r2</td>\n",
       "    </tr>\n",
       "    <tr>\n",
       "      <th>88030</th>\n",
       "      <td>AT1G79910</td>\n",
       "      <td>AT1G79910</td>\n",
       "      <td>(AT1G79910, AT1G79910)</td>\n",
       "      <td>1</td>\n",
       "      <td>2.324227e-09</td>\n",
       "      <td>1.000000</td>\n",
       "      <td>r3</td>\n",
       "    </tr>\n",
       "    <tr>\n",
       "      <th>88031</th>\n",
       "      <td>AT1G01040</td>\n",
       "      <td>AT2G01750</td>\n",
       "      <td>(AT1G01040, AT2G01750)</td>\n",
       "      <td>1</td>\n",
       "      <td>1.234552e-01</td>\n",
       "      <td>0.876545</td>\n",
       "      <td>r3</td>\n",
       "    </tr>\n",
       "    <tr>\n",
       "      <th>88032</th>\n",
       "      <td>AT1G65060</td>\n",
       "      <td>AT1G55320</td>\n",
       "      <td>(AT1G65060, AT1G55320)</td>\n",
       "      <td>1</td>\n",
       "      <td>5.727637e-07</td>\n",
       "      <td>0.999999</td>\n",
       "      <td>r3</td>\n",
       "    </tr>\n",
       "  </tbody>\n",
       "</table>\n",
       "<p>88033 rows × 7 columns</p>\n",
       "</div>"
      ],
      "text/plain": [
       "            from         to              edge_tuple  labels        pred_0  \\\n",
       "0      AT1G19660  AT1G19660  (AT1G19660, AT1G19660)       1  2.143475e-05   \n",
       "1      AT1G53160  AT1G14440  (AT1G53160, AT1G14440)       1  4.283352e-03   \n",
       "2      AT5G12150  AT1G52240  (AT5G12150, AT1G52240)       1  3.393197e-04   \n",
       "3      AT3G29380  AT3G10330  (AT3G29380, AT3G10330)       1  4.005118e-04   \n",
       "4      AT4G29380  AT1G03430  (AT4G29380, AT1G03430)       1  5.306197e-01   \n",
       "...          ...        ...                     ...     ...           ...   \n",
       "88028  MIRF10548  AT2G10110  (MIRF10548, AT2G10110)       1  2.375042e-10   \n",
       "88029  AT5G61850  AT5G02140  (AT5G61850, AT5G02140)       1  9.912282e-01   \n",
       "88030  AT1G79910  AT1G79910  (AT1G79910, AT1G79910)       1  2.324227e-09   \n",
       "88031  AT1G01040  AT2G01750  (AT1G01040, AT2G01750)       1  1.234552e-01   \n",
       "88032  AT1G65060  AT1G55320  (AT1G65060, AT1G55320)       1  5.727637e-07   \n",
       "\n",
       "         pred_1 R-value  \n",
       "0      0.999979      r3  \n",
       "1      0.995717      r3  \n",
       "2      0.999661      r3  \n",
       "3      0.999599      r3  \n",
       "4      0.469380      r3  \n",
       "...         ...     ...  \n",
       "88028  1.000000      r3  \n",
       "88029  0.008772      r2  \n",
       "88030  1.000000      r3  \n",
       "88031  0.876545      r3  \n",
       "88032  0.999999      r3  \n",
       "\n",
       "[88033 rows x 7 columns]"
      ]
     },
     "execution_count": 42,
     "metadata": {},
     "output_type": "execute_result"
    }
   ],
   "source": [
    "df_poz"
   ]
  },
  {
   "cell_type": "code",
   "execution_count": 43,
   "id": "ef97f813-0512-41b6-a3a7-188de41bf26d",
   "metadata": {},
   "outputs": [
    {
     "data": {
      "text/plain": [
       "r3    0.816154\n",
       "r2    0.078714\n",
       "r4    0.061528\n",
       "r1    0.043604\n",
       "Name: R-value, dtype: float64"
      ]
     },
     "execution_count": 43,
     "metadata": {},
     "output_type": "execute_result"
    }
   ],
   "source": [
    "# Check distribution of R-value among predictions with high probability for label 1 (existing link).\n",
    "df_poz.loc[df_poz[\"pred_1\"] >= 0.90][\"R-value\"].value_counts(normalize=True)"
   ]
  },
  {
   "cell_type": "code",
   "execution_count": null,
   "id": "e123ebdd-31d4-4ab5-97b4-b330dd83cd7f",
   "metadata": {},
   "outputs": [],
   "source": []
  },
  {
   "cell_type": "markdown",
   "id": "660b6c0b-4fc9-4b7a-9e8b-524993855275",
   "metadata": {},
   "source": [
    "### Graf korelacije R in predikcij \n"
   ]
  },
  {
   "cell_type": "code",
   "execution_count": 44,
   "id": "4443ccc1-6325-4372-9d5e-26970c853997",
   "metadata": {},
   "outputs": [],
   "source": [
    "# box graf; če naraščajo intervali (boxi) med Ri je kul, če ravno ni korelacije;"
   ]
  },
  {
   "cell_type": "code",
   "execution_count": 45,
   "id": "8c60027b-4158-40d4-92f3-d28464838bb0",
   "metadata": {},
   "outputs": [],
   "source": [
    "import matplotlib.pyplot as plt\n",
    "import seaborn as sns"
   ]
  },
  {
   "cell_type": "code",
   "execution_count": 201,
   "id": "b886a7be-17cd-43ac-b804-47571d552964",
   "metadata": {
    "tags": []
   },
   "outputs": [
    {
     "data": {
      "text/html": [
       "<div>\n",
       "<style scoped>\n",
       "    .dataframe tbody tr th:only-of-type {\n",
       "        vertical-align: middle;\n",
       "    }\n",
       "\n",
       "    .dataframe tbody tr th {\n",
       "        vertical-align: top;\n",
       "    }\n",
       "\n",
       "    .dataframe thead th {\n",
       "        text-align: right;\n",
       "    }\n",
       "</style>\n",
       "<table border=\"1\" class=\"dataframe\">\n",
       "  <thead>\n",
       "    <tr style=\"text-align: right;\">\n",
       "      <th></th>\n",
       "      <th>from</th>\n",
       "      <th>to</th>\n",
       "      <th>edge_tuple</th>\n",
       "      <th>labels</th>\n",
       "      <th>pred_0</th>\n",
       "      <th>pred_1</th>\n",
       "      <th>R-value</th>\n",
       "      <th>intervals</th>\n",
       "    </tr>\n",
       "  </thead>\n",
       "  <tbody>\n",
       "    <tr>\n",
       "      <th>0</th>\n",
       "      <td>AT1G19660</td>\n",
       "      <td>AT1G19660</td>\n",
       "      <td>(AT1G19660, AT1G19660)</td>\n",
       "      <td>1</td>\n",
       "      <td>2.143475e-05</td>\n",
       "      <td>0.999979</td>\n",
       "      <td>r3</td>\n",
       "      <td>10</td>\n",
       "    </tr>\n",
       "    <tr>\n",
       "      <th>1</th>\n",
       "      <td>AT1G53160</td>\n",
       "      <td>AT1G14440</td>\n",
       "      <td>(AT1G53160, AT1G14440)</td>\n",
       "      <td>1</td>\n",
       "      <td>4.283352e-03</td>\n",
       "      <td>0.995717</td>\n",
       "      <td>r3</td>\n",
       "      <td>10</td>\n",
       "    </tr>\n",
       "    <tr>\n",
       "      <th>2</th>\n",
       "      <td>AT5G12150</td>\n",
       "      <td>AT1G52240</td>\n",
       "      <td>(AT5G12150, AT1G52240)</td>\n",
       "      <td>1</td>\n",
       "      <td>3.393197e-04</td>\n",
       "      <td>0.999661</td>\n",
       "      <td>r3</td>\n",
       "      <td>10</td>\n",
       "    </tr>\n",
       "    <tr>\n",
       "      <th>3</th>\n",
       "      <td>AT3G29380</td>\n",
       "      <td>AT3G10330</td>\n",
       "      <td>(AT3G29380, AT3G10330)</td>\n",
       "      <td>1</td>\n",
       "      <td>4.005118e-04</td>\n",
       "      <td>0.999599</td>\n",
       "      <td>r3</td>\n",
       "      <td>10</td>\n",
       "    </tr>\n",
       "    <tr>\n",
       "      <th>4</th>\n",
       "      <td>AT4G29380</td>\n",
       "      <td>AT1G03430</td>\n",
       "      <td>(AT4G29380, AT1G03430)</td>\n",
       "      <td>1</td>\n",
       "      <td>5.306197e-01</td>\n",
       "      <td>0.469380</td>\n",
       "      <td>r3</td>\n",
       "      <td>5</td>\n",
       "    </tr>\n",
       "    <tr>\n",
       "      <th>...</th>\n",
       "      <td>...</td>\n",
       "      <td>...</td>\n",
       "      <td>...</td>\n",
       "      <td>...</td>\n",
       "      <td>...</td>\n",
       "      <td>...</td>\n",
       "      <td>...</td>\n",
       "      <td>...</td>\n",
       "    </tr>\n",
       "    <tr>\n",
       "      <th>88028</th>\n",
       "      <td>MIRF10548</td>\n",
       "      <td>AT2G10110</td>\n",
       "      <td>(MIRF10548, AT2G10110)</td>\n",
       "      <td>1</td>\n",
       "      <td>2.375042e-10</td>\n",
       "      <td>1.000000</td>\n",
       "      <td>r3</td>\n",
       "      <td>10</td>\n",
       "    </tr>\n",
       "    <tr>\n",
       "      <th>88029</th>\n",
       "      <td>AT5G61850</td>\n",
       "      <td>AT5G02140</td>\n",
       "      <td>(AT5G61850, AT5G02140)</td>\n",
       "      <td>1</td>\n",
       "      <td>9.912282e-01</td>\n",
       "      <td>0.008772</td>\n",
       "      <td>r2</td>\n",
       "      <td>1</td>\n",
       "    </tr>\n",
       "    <tr>\n",
       "      <th>88030</th>\n",
       "      <td>AT1G79910</td>\n",
       "      <td>AT1G79910</td>\n",
       "      <td>(AT1G79910, AT1G79910)</td>\n",
       "      <td>1</td>\n",
       "      <td>2.324227e-09</td>\n",
       "      <td>1.000000</td>\n",
       "      <td>r3</td>\n",
       "      <td>10</td>\n",
       "    </tr>\n",
       "    <tr>\n",
       "      <th>88031</th>\n",
       "      <td>AT1G01040</td>\n",
       "      <td>AT2G01750</td>\n",
       "      <td>(AT1G01040, AT2G01750)</td>\n",
       "      <td>1</td>\n",
       "      <td>1.234552e-01</td>\n",
       "      <td>0.876545</td>\n",
       "      <td>r3</td>\n",
       "      <td>9</td>\n",
       "    </tr>\n",
       "    <tr>\n",
       "      <th>88032</th>\n",
       "      <td>AT1G65060</td>\n",
       "      <td>AT1G55320</td>\n",
       "      <td>(AT1G65060, AT1G55320)</td>\n",
       "      <td>1</td>\n",
       "      <td>5.727637e-07</td>\n",
       "      <td>0.999999</td>\n",
       "      <td>r3</td>\n",
       "      <td>10</td>\n",
       "    </tr>\n",
       "  </tbody>\n",
       "</table>\n",
       "<p>88033 rows × 8 columns</p>\n",
       "</div>"
      ],
      "text/plain": [
       "            from         to              edge_tuple  labels        pred_0  \\\n",
       "0      AT1G19660  AT1G19660  (AT1G19660, AT1G19660)       1  2.143475e-05   \n",
       "1      AT1G53160  AT1G14440  (AT1G53160, AT1G14440)       1  4.283352e-03   \n",
       "2      AT5G12150  AT1G52240  (AT5G12150, AT1G52240)       1  3.393197e-04   \n",
       "3      AT3G29380  AT3G10330  (AT3G29380, AT3G10330)       1  4.005118e-04   \n",
       "4      AT4G29380  AT1G03430  (AT4G29380, AT1G03430)       1  5.306197e-01   \n",
       "...          ...        ...                     ...     ...           ...   \n",
       "88028  MIRF10548  AT2G10110  (MIRF10548, AT2G10110)       1  2.375042e-10   \n",
       "88029  AT5G61850  AT5G02140  (AT5G61850, AT5G02140)       1  9.912282e-01   \n",
       "88030  AT1G79910  AT1G79910  (AT1G79910, AT1G79910)       1  2.324227e-09   \n",
       "88031  AT1G01040  AT2G01750  (AT1G01040, AT2G01750)       1  1.234552e-01   \n",
       "88032  AT1G65060  AT1G55320  (AT1G65060, AT1G55320)       1  5.727637e-07   \n",
       "\n",
       "         pred_1 R-value intervals  \n",
       "0      0.999979      r3        10  \n",
       "1      0.995717      r3        10  \n",
       "2      0.999661      r3        10  \n",
       "3      0.999599      r3        10  \n",
       "4      0.469380      r3         5  \n",
       "...         ...     ...       ...  \n",
       "88028  1.000000      r3        10  \n",
       "88029  0.008772      r2         1  \n",
       "88030  1.000000      r3        10  \n",
       "88031  0.876545      r3         9  \n",
       "88032  0.999999      r3        10  \n",
       "\n",
       "[88033 rows x 8 columns]"
      ]
     },
     "execution_count": 201,
     "metadata": {},
     "output_type": "execute_result"
    }
   ],
   "source": [
    "plot_data = df_poz\n",
    "plot_data"
   ]
  },
  {
   "cell_type": "code",
   "execution_count": 202,
   "id": "8d57a4eb-0a7f-471d-b9a9-df82d80817f4",
   "metadata": {},
   "outputs": [
    {
     "data": {
      "text/plain": [
       "<AxesSubplot:>"
      ]
     },
     "execution_count": 202,
     "metadata": {},
     "output_type": "execute_result"
    },
    {
     "data": {
      "image/png": "[encoded data removed]",
      "text/plain": [
       "<Figure size 720x720 with 1 Axes>"
      ]
     },
     "metadata": {},
     "output_type": "display_data"
    }
   ],
   "source": [
    "plot_data[\"R-value\"].hist()"
   ]
  },
  {
   "cell_type": "code",
   "execution_count": 203,
   "id": "6b086db6-3325-4d9c-bcc0-237cf381f36d",
   "metadata": {
    "tags": []
   },
   "outputs": [],
   "source": [
    "# # plot distribution of predictions for all R-values.\n",
    "# plot_data.pred_1.hist()"
   ]
  },
  {
   "cell_type": "code",
   "execution_count": 220,
   "id": "3bd3fff6-f83e-42ac-b886-5d4652ccf491",
   "metadata": {},
   "outputs": [
    {
     "data": {
      "text/html": [
       "<div>\n",
       "<style scoped>\n",
       "    .dataframe tbody tr th:only-of-type {\n",
       "        vertical-align: middle;\n",
       "    }\n",
       "\n",
       "    .dataframe tbody tr th {\n",
       "        vertical-align: top;\n",
       "    }\n",
       "\n",
       "    .dataframe thead th {\n",
       "        text-align: right;\n",
       "    }\n",
       "</style>\n",
       "<table border=\"1\" class=\"dataframe\">\n",
       "  <thead>\n",
       "    <tr style=\"text-align: right;\">\n",
       "      <th></th>\n",
       "      <th>from</th>\n",
       "      <th>to</th>\n",
       "      <th>edge_tuple</th>\n",
       "      <th>labels</th>\n",
       "      <th>pred_0</th>\n",
       "      <th>pred_1</th>\n",
       "      <th>R-value</th>\n",
       "      <th>intervals</th>\n",
       "    </tr>\n",
       "  </thead>\n",
       "  <tbody>\n",
       "    <tr>\n",
       "      <th>0</th>\n",
       "      <td>AT1G19660</td>\n",
       "      <td>AT1G19660</td>\n",
       "      <td>(AT1G19660, AT1G19660)</td>\n",
       "      <td>1</td>\n",
       "      <td>2.143475e-05</td>\n",
       "      <td>0.999979</td>\n",
       "      <td>r3</td>\n",
       "      <td>10</td>\n",
       "    </tr>\n",
       "    <tr>\n",
       "      <th>1</th>\n",
       "      <td>AT1G53160</td>\n",
       "      <td>AT1G14440</td>\n",
       "      <td>(AT1G53160, AT1G14440)</td>\n",
       "      <td>1</td>\n",
       "      <td>4.283352e-03</td>\n",
       "      <td>0.995717</td>\n",
       "      <td>r3</td>\n",
       "      <td>10</td>\n",
       "    </tr>\n",
       "    <tr>\n",
       "      <th>2</th>\n",
       "      <td>AT5G12150</td>\n",
       "      <td>AT1G52240</td>\n",
       "      <td>(AT5G12150, AT1G52240)</td>\n",
       "      <td>1</td>\n",
       "      <td>3.393197e-04</td>\n",
       "      <td>0.999661</td>\n",
       "      <td>r3</td>\n",
       "      <td>10</td>\n",
       "    </tr>\n",
       "    <tr>\n",
       "      <th>3</th>\n",
       "      <td>AT3G29380</td>\n",
       "      <td>AT3G10330</td>\n",
       "      <td>(AT3G29380, AT3G10330)</td>\n",
       "      <td>1</td>\n",
       "      <td>4.005118e-04</td>\n",
       "      <td>0.999599</td>\n",
       "      <td>r3</td>\n",
       "      <td>10</td>\n",
       "    </tr>\n",
       "    <tr>\n",
       "      <th>4</th>\n",
       "      <td>AT4G29380</td>\n",
       "      <td>AT1G03430</td>\n",
       "      <td>(AT4G29380, AT1G03430)</td>\n",
       "      <td>1</td>\n",
       "      <td>5.306197e-01</td>\n",
       "      <td>0.469380</td>\n",
       "      <td>r3</td>\n",
       "      <td>5</td>\n",
       "    </tr>\n",
       "    <tr>\n",
       "      <th>...</th>\n",
       "      <td>...</td>\n",
       "      <td>...</td>\n",
       "      <td>...</td>\n",
       "      <td>...</td>\n",
       "      <td>...</td>\n",
       "      <td>...</td>\n",
       "      <td>...</td>\n",
       "      <td>...</td>\n",
       "    </tr>\n",
       "    <tr>\n",
       "      <th>88028</th>\n",
       "      <td>MIRF10548</td>\n",
       "      <td>AT2G10110</td>\n",
       "      <td>(MIRF10548, AT2G10110)</td>\n",
       "      <td>1</td>\n",
       "      <td>2.375042e-10</td>\n",
       "      <td>1.000000</td>\n",
       "      <td>r3</td>\n",
       "      <td>10</td>\n",
       "    </tr>\n",
       "    <tr>\n",
       "      <th>88029</th>\n",
       "      <td>AT5G61850</td>\n",
       "      <td>AT5G02140</td>\n",
       "      <td>(AT5G61850, AT5G02140)</td>\n",
       "      <td>1</td>\n",
       "      <td>9.912282e-01</td>\n",
       "      <td>0.008772</td>\n",
       "      <td>r2</td>\n",
       "      <td>1</td>\n",
       "    </tr>\n",
       "    <tr>\n",
       "      <th>88030</th>\n",
       "      <td>AT1G79910</td>\n",
       "      <td>AT1G79910</td>\n",
       "      <td>(AT1G79910, AT1G79910)</td>\n",
       "      <td>1</td>\n",
       "      <td>2.324227e-09</td>\n",
       "      <td>1.000000</td>\n",
       "      <td>r3</td>\n",
       "      <td>10</td>\n",
       "    </tr>\n",
       "    <tr>\n",
       "      <th>88031</th>\n",
       "      <td>AT1G01040</td>\n",
       "      <td>AT2G01750</td>\n",
       "      <td>(AT1G01040, AT2G01750)</td>\n",
       "      <td>1</td>\n",
       "      <td>1.234552e-01</td>\n",
       "      <td>0.876545</td>\n",
       "      <td>r3</td>\n",
       "      <td>9</td>\n",
       "    </tr>\n",
       "    <tr>\n",
       "      <th>88032</th>\n",
       "      <td>AT1G65060</td>\n",
       "      <td>AT1G55320</td>\n",
       "      <td>(AT1G65060, AT1G55320)</td>\n",
       "      <td>1</td>\n",
       "      <td>5.727637e-07</td>\n",
       "      <td>0.999999</td>\n",
       "      <td>r3</td>\n",
       "      <td>10</td>\n",
       "    </tr>\n",
       "  </tbody>\n",
       "</table>\n",
       "<p>88033 rows × 8 columns</p>\n",
       "</div>"
      ],
      "text/plain": [
       "            from         to              edge_tuple  labels        pred_0  \\\n",
       "0      AT1G19660  AT1G19660  (AT1G19660, AT1G19660)       1  2.143475e-05   \n",
       "1      AT1G53160  AT1G14440  (AT1G53160, AT1G14440)       1  4.283352e-03   \n",
       "2      AT5G12150  AT1G52240  (AT5G12150, AT1G52240)       1  3.393197e-04   \n",
       "3      AT3G29380  AT3G10330  (AT3G29380, AT3G10330)       1  4.005118e-04   \n",
       "4      AT4G29380  AT1G03430  (AT4G29380, AT1G03430)       1  5.306197e-01   \n",
       "...          ...        ...                     ...     ...           ...   \n",
       "88028  MIRF10548  AT2G10110  (MIRF10548, AT2G10110)       1  2.375042e-10   \n",
       "88029  AT5G61850  AT5G02140  (AT5G61850, AT5G02140)       1  9.912282e-01   \n",
       "88030  AT1G79910  AT1G79910  (AT1G79910, AT1G79910)       1  2.324227e-09   \n",
       "88031  AT1G01040  AT2G01750  (AT1G01040, AT2G01750)       1  1.234552e-01   \n",
       "88032  AT1G65060  AT1G55320  (AT1G65060, AT1G55320)       1  5.727637e-07   \n",
       "\n",
       "         pred_1 R-value intervals  \n",
       "0      0.999979      r3        10  \n",
       "1      0.995717      r3        10  \n",
       "2      0.999661      r3        10  \n",
       "3      0.999599      r3        10  \n",
       "4      0.469380      r3         5  \n",
       "...         ...     ...       ...  \n",
       "88028  1.000000      r3        10  \n",
       "88029  0.008772      r2         1  \n",
       "88030  1.000000      r3        10  \n",
       "88031  0.876545      r3         9  \n",
       "88032  0.999999      r3        10  \n",
       "\n",
       "[88033 rows x 8 columns]"
      ]
     },
     "execution_count": 220,
     "metadata": {},
     "output_type": "execute_result"
    }
   ],
   "source": [
    "# Bin probabilities into intervals\n",
    "bins = np.arange(1, 11, 1)\n",
    "plt_data = plot_data.copy()\n",
    "plt_data[\"intervals\"] = pd.cut(plot_data[\"pred_1\"], 10, labels=bins)\n",
    "plt_data[\"intervals\"].value_counts()\n",
    "plt_data"
   ]
  },
  {
   "cell_type": "code",
   "execution_count": 219,
   "id": "48dbb527-74aa-4c88-a49e-cec17822e475",
   "metadata": {},
   "outputs": [
    {
     "data": {
      "text/plain": [
       "<seaborn.axisgrid.FacetGrid at 0x7f67938026a0>"
      ]
     },
     "execution_count": 219,
     "metadata": {},
     "output_type": "execute_result"
    },
    {
     "data": {
      "image/png": "[encoded data removed]",
      "text/plain": [
       "<Figure size 1612.8x576 with 4 Axes>"
      ]
     },
     "metadata": {},
     "output_type": "display_data"
    }
   ],
   "source": [
    "# plot distribution of predicted probabilities for individual R-values.\n",
    "\n",
    "r_plt = sns.FacetGrid(plt_data[plot_data[\"R-value\"] != \"\"], col=\"R-value\", height=8, aspect=.7)\n",
    "r_plt.map(sns.histplot, \"intervals\")"
   ]
  },
  {
   "cell_type": "code",
   "execution_count": 75,
   "id": "104cb777-912d-4083-b7a3-f430e84e4c73",
   "metadata": {},
   "outputs": [
    {
     "data": {
      "image/png": "[encoded data removed]",
      "text/plain": [
       "<Figure size 720x720 with 1 Axes>"
      ]
     },
     "metadata": {},
     "output_type": "display_data"
    }
   ],
   "source": [
    "# plot with seaborn\n",
    "\n",
    "sns.set(rc={'figure.figsize':(10, 10)})\n",
    "sns.set_theme(style=\"whitegrid\")\n",
    "sns.violinplot(x=\"R-value\", \n",
    "                   y=\"pred_1\",\n",
    "                   data=plot_data, \n",
    "                   order=[\"r4\", \"r3\", \"r2\", \"r1\"], \n",
    "                   scale=\"count\",\n",
    "#                    inner=\"quartile\",\n",
    "#                    palette=\"Set2\",\n",
    "                   cut=0)\n",
    "\n",
    "plt.xlabel(\"r-value\")\n",
    "plt.ylabel(\"prediction\")\n",
    "plt.title(\"Plot of r-value and prediction realtion\")\n",
    "plt.savefig(f\"Results/CKN_violinPlot_{g.name}.png\")"
   ]
  },
  {
   "cell_type": "code",
   "execution_count": 69,
   "id": "30733d9f-d55a-42e9-85ed-7ffffbf2a4f8",
   "metadata": {},
   "outputs": [
    {
     "ename": "AttributeError",
     "evalue": "'function' object has no attribute 'most_similar'",
     "output_type": "error",
     "traceback": [
      "\u001b[0;31m---------------------------------------------------------------------------\u001b[0m",
      "\u001b[0;31mAttributeError\u001b[0m                            Traceback (most recent call last)",
      "\u001b[0;32m/tmp/ipykernel_4005582/966733658.py\u001b[0m in \u001b[0;36m<module>\u001b[0;34m\u001b[0m\n\u001b[1;32m      1\u001b[0m \u001b[0;31m# Find the most similar node\u001b[0m\u001b[0;34m\u001b[0m\u001b[0;34m\u001b[0m\u001b[0;34m\u001b[0m\u001b[0m\n\u001b[0;32m----> 2\u001b[0;31m \u001b[0membedding_train\u001b[0m\u001b[0;34m.\u001b[0m\u001b[0mmost_similar\u001b[0m\u001b[0;34m(\u001b[0m\u001b[0;34m'AT1G53160'\u001b[0m\u001b[0;34m,\u001b[0m  \u001b[0mtopn\u001b[0m\u001b[0;34m=\u001b[0m\u001b[0;36m3\u001b[0m\u001b[0;34m)\u001b[0m\u001b[0;34m\u001b[0m\u001b[0;34m\u001b[0m\u001b[0m\n\u001b[0m\u001b[1;32m      3\u001b[0m \u001b[0;34m\u001b[0m\u001b[0m\n\u001b[1;32m      4\u001b[0m \u001b[0;31m# Find similar associations\u001b[0m\u001b[0;34m\u001b[0m\u001b[0;34m\u001b[0m\u001b[0;34m\u001b[0m\u001b[0m\n",
      "\u001b[0;31mAttributeError\u001b[0m: 'function' object has no attribute 'most_similar'"
     ]
    }
   ],
   "source": [
    "# Find the most similar node\n",
    "embedding_test.most_similar('AT1G53160',  topn=3)\n",
    "\n",
    "# Find similar associations"
   ]
  },
  {
   "cell_type": "code",
   "execution_count": null,
   "id": "e85bf63d-f7bc-4a15-af6e-ac0f35eb18e6",
   "metadata": {},
   "outputs": [],
   "source": []
  }
 ],
 "metadata": {
  "kernelspec": {
   "display_name": "Python 3 (ipykernel)",
   "language": "python",
   "name": "python3"
  },
  "language_info": {
   "codemirror_mode": {
    "name": "ipython",
    "version": 3
   },
   "file_extension": ".py",
   "mimetype": "text/x-python",
   "name": "python",
   "nbconvert_exporter": "python",
   "pygments_lexer": "ipython3",
   "version": "3.8.10"
  }
 },
 "nbformat": 4,
 "nbformat_minor": 5
}
