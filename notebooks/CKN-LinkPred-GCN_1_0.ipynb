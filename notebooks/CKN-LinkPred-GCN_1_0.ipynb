{
 "cells": [
  {
   "cell_type": "code",
   "execution_count": 18,
   "id": "e460c97a-2e1c-4dfc-a7d6-0ded8e80a44b",
   "metadata": {},
   "outputs": [],
   "source": [
    "import networkx as nx\n",
    "from stellargraph import StellarGraph\n",
    "import stellargraph as sg\n",
    "from stellargraph.data import EdgeSplitter\n",
    "from stellargraph.mapper import FullBatchLinkGenerator\n",
    "from stellargraph.layer import GCN, LinkEmbedding\n",
    "\n",
    "\n",
    "from tensorflow import keras\n",
    "from sklearn import preprocessing, feature_extraction, model_selection\n",
    "\n",
    "from stellargraph import globalvar\n",
    "from stellargraph import datasets\n",
    "from IPython.display import display, HTML\n",
    "import pickle\n",
    "%matplotlib inline"
   ]
  },
  {
   "cell_type": "code",
   "execution_count": 19,
   "id": "1dcd71ed-1f52-4b1a-bac6-0626f65bfdb2",
   "metadata": {},
   "outputs": [],
   "source": [
    "# # Load graph\n",
    "# with open(\"Results/notebook/StellarGraph.p\", 'rb') as f:\n",
    "#     G = pickle.load(f) "
   ]
  },
  {
   "cell_type": "code",
   "execution_count": 32,
   "id": "c52c80fc-7677-4b13-ae83-16c4eceff575",
   "metadata": {},
   "outputs": [
    {
     "data": {
      "text/html": [
       "The Cora dataset consists of 2708 scientific publications classified into one of seven classes. The citation network consists of 5429 links. Each publication in the dataset is described by a 0/1-valued word vector indicating the absence/presence of the corresponding word from the dictionary. The dictionary consists of 1433 unique words."
      ],
      "text/plain": [
       "<IPython.core.display.HTML object>"
      ]
     },
     "metadata": {},
     "output_type": "display_data"
    }
   ],
   "source": [
    "dataset = datasets.Cora()\n",
    "display(HTML(dataset.description))\n",
    "G, _ = dataset.load(subject_as_feature=True)\n",
    "\n",
    "# g = nx.karate_club_graph()\n",
    "# G = StellarGraph.from_networkx(g)\n",
    "# nx.draw(g, with_labels=True)\n",
    "# plt.show()"
   ]
  },
  {
   "cell_type": "code",
   "execution_count": 33,
   "id": "c547b459-b2bb-4960-8000-ce4242af0b4d",
   "metadata": {},
   "outputs": [
    {
     "name": "stdout",
     "output_type": "stream",
     "text": [
      "StellarGraph: Undirected multigraph\n",
      " Nodes: 2708, Edges: 5429\n",
      "\n",
      " Node types:\n",
      "  paper: [2708]\n",
      "    Features: float32 vector, length 1440\n",
      "    Edge types: paper-cites->paper\n",
      "\n",
      " Edge types:\n",
      "    paper-cites->paper: [5429]\n",
      "        Weights: all 1 (default)\n",
      "        Features: none\n"
     ]
    }
   ],
   "source": [
    "print(G.info())"
   ]
  },
  {
   "cell_type": "code",
   "execution_count": 34,
   "id": "7ae798c2-d33b-4fe6-bf74-877b0fbae797",
   "metadata": {},
   "outputs": [
    {
     "name": "stdout",
     "output_type": "stream",
     "text": [
      "** Sampled 542 positive and 542 negative edges. **\n"
     ]
    }
   ],
   "source": [
    "# Define an edge splitter on the original graph G:\n",
    "edge_splitter_test = EdgeSplitter(G)\n",
    "\n",
    "# Randomly sample a fraction p=0.1 of all positive links, and same number of negative links, from G, and obtain the\n",
    "# reduced graph G_test with the sampled links removed:\n",
    "G_test, edge_ids_test, edge_labels_test = edge_splitter_test.train_test_split(\n",
    "    p=0.1, method=\"global\", keep_connected=True\n",
    ")"
   ]
  },
  {
   "cell_type": "code",
   "execution_count": 35,
   "id": "4b646113-ed97-4d8b-b87a-75c94e5d88c2",
   "metadata": {},
   "outputs": [
    {
     "name": "stdout",
     "output_type": "stream",
     "text": [
      "** Sampled 488 positive and 488 negative edges. **\n"
     ]
    }
   ],
   "source": [
    "# Define an edge splitter on the reduced graph G_test:\n",
    "edge_splitter_train = EdgeSplitter(G_test)\n",
    "\n",
    "# Randomly sample a fraction p=0.1 of all positive links, and same number of negative links, from G_test, and obtain the\n",
    "# reduced graph G_train with the sampled links removed:\n",
    "G_train, edge_ids_train, edge_labels_train = edge_splitter_train.train_test_split(\n",
    "    p=0.1, method=\"global\", keep_connected=True\n",
    ")"
   ]
  },
  {
   "cell_type": "code",
   "execution_count": 36,
   "id": "5da69584-cbd0-45af-8a12-8376db9e0e12",
   "metadata": {},
   "outputs": [
    {
     "name": "stdout",
     "output_type": "stream",
     "text": [
      "Using GCN (local pooling) filters...\n",
      "Using GCN (local pooling) filters...\n"
     ]
    }
   ],
   "source": [
    "epochs = 50\n",
    "\n",
    "train_gen = FullBatchLinkGenerator(G_train, method=\"gcn\")\n",
    "train_flow = train_gen.flow(edge_ids_train, edge_labels_train)\n",
    "\n",
    "test_gen = FullBatchLinkGenerator(G_test, method=\"gcn\")\n",
    "test_flow = train_gen.flow(edge_ids_test, edge_labels_test)"
   ]
  },
  {
   "cell_type": "code",
   "execution_count": 37,
   "id": "9e579ec2-772a-4ad4-8af4-5e2c87158756",
   "metadata": {},
   "outputs": [],
   "source": [
    "gcn = GCN(\n",
    "    layer_sizes=[16, 16], activations=[\"relu\", \"relu\"], generator=train_gen, dropout=0.3\n",
    ")"
   ]
  },
  {
   "cell_type": "code",
   "execution_count": 38,
   "id": "66f9bf02-4570-46b5-b154-d703b8767aad",
   "metadata": {},
   "outputs": [],
   "source": [
    "x_inp, x_out = gcn.in_out_tensors()"
   ]
  },
  {
   "cell_type": "code",
   "execution_count": 39,
   "id": "8b83ba05-05a7-497b-8c18-a9e57cd7f47b",
   "metadata": {},
   "outputs": [],
   "source": [
    "prediction = LinkEmbedding(activation=\"relu\", method=\"ip\")(x_out)"
   ]
  },
  {
   "cell_type": "code",
   "execution_count": 40,
   "id": "969b39ec-453e-4162-90d8-17f224855fc4",
   "metadata": {},
   "outputs": [],
   "source": [
    "prediction = keras.layers.Reshape((-1,))(prediction)"
   ]
  },
  {
   "cell_type": "code",
   "execution_count": 41,
   "id": "ec34e5f5-3ff0-46ae-8dee-cf8af47a8b46",
   "metadata": {},
   "outputs": [
    {
     "name": "stderr",
     "output_type": "stream",
     "text": [
      "/Users/mmarzi/.pyenv/versions/3.8.0/envs/graphs/lib/python3.8/site-packages/keras/optimizer_v2/optimizer_v2.py:355: UserWarning: The `lr` argument is deprecated, use `learning_rate` instead.\n",
      "  warnings.warn(\n"
     ]
    }
   ],
   "source": [
    "model = keras.Model(inputs=x_inp, outputs=prediction)\n",
    "\n",
    "model.compile(\n",
    "    optimizer=keras.optimizers.Adam(lr=0.01),\n",
    "    loss=keras.losses.binary_crossentropy,\n",
    "    metrics=[\"acc\"],\n",
    ")"
   ]
  },
  {
   "cell_type": "code",
   "execution_count": 42,
   "id": "fd2434da-fd53-4907-8e3f-aae5644d4d52",
   "metadata": {},
   "outputs": [
    {
     "name": "stderr",
     "output_type": "stream",
     "text": [
      "2022-05-04 18:24:46.534675: I tensorflow/compiler/mlir/mlir_graph_optimization_pass.cc:185] None of the MLIR Optimization Passes are enabled (registered 2)\n"
     ]
    },
    {
     "name": "stdout",
     "output_type": "stream",
     "text": [
      "1/1 [==============================] - 1s 574ms/step - loss: 2.4239 - acc: 0.0000e+00\n",
      "1/1 [==============================] - 0s 49ms/step - loss: 2.4122 - acc: 0.0000e+00\n",
      "\n",
      "Train Set Metrics of the initial (untrained) model:\n",
      "\tloss: 2.4239\n",
      "\tacc: 0.0000\n",
      "\n",
      "Test Set Metrics of the initial (untrained) model:\n",
      "\tloss: 2.4122\n",
      "\tacc: 0.0000\n"
     ]
    }
   ],
   "source": [
    "init_train_metrics = model.evaluate(train_flow)\n",
    "init_test_metrics = model.evaluate(test_flow)\n",
    "\n",
    "print(\"\\nTrain Set Metrics of the initial (untrained) model:\")\n",
    "for name, val in zip(model.metrics_names, init_train_metrics):\n",
    "    print(\"\\t{}: {:0.4f}\".format(name, val))\n",
    "\n",
    "print(\"\\nTest Set Metrics of the initial (untrained) model:\")\n",
    "for name, val in zip(model.metrics_names, init_test_metrics):\n",
    "    print(\"\\t{}: {:0.4f}\".format(name, val))"
   ]
  },
  {
   "cell_type": "code",
   "execution_count": 43,
   "id": "84351950-3026-4901-9b0a-8c44b7ebb82a",
   "metadata": {},
   "outputs": [
    {
     "name": "stdout",
     "output_type": "stream",
     "text": [
      "Epoch 1/50\n",
      "1/1 - 1s - loss: 2.2640 - acc: 0.0000e+00 - val_loss: 0.7161 - val_acc: 0.0000e+00\n",
      "Epoch 2/50\n",
      "1/1 - 0s - loss: 0.7358 - acc: 0.0000e+00 - val_loss: 5.5140 - val_acc: 0.0000e+00\n",
      "Epoch 3/50\n",
      "1/1 - 0s - loss: 5.1838 - acc: 0.0000e+00 - val_loss: 5.5521 - val_acc: 0.0000e+00\n",
      "Epoch 4/50\n",
      "1/1 - 0s - loss: 5.2288 - acc: 0.0000e+00 - val_loss: 1.6510 - val_acc: 0.0000e+00\n",
      "Epoch 5/50\n",
      "1/1 - 0s - loss: 1.6375 - acc: 0.0000e+00 - val_loss: 0.6661 - val_acc: 0.0000e+00\n",
      "Epoch 6/50\n",
      "1/1 - 0s - loss: 0.6779 - acc: 0.0000e+00 - val_loss: 0.7667 - val_acc: 0.0000e+00\n",
      "Epoch 7/50\n",
      "1/1 - 0s - loss: 0.7419 - acc: 0.0000e+00 - val_loss: 0.7861 - val_acc: 0.0000e+00\n",
      "Epoch 8/50\n",
      "1/1 - 0s - loss: 0.7637 - acc: 0.0000e+00 - val_loss: 0.7152 - val_acc: 0.0000e+00\n",
      "Epoch 9/50\n",
      "1/1 - 0s - loss: 0.7400 - acc: 0.0000e+00 - val_loss: 0.6807 - val_acc: 0.0000e+00\n",
      "Epoch 10/50\n",
      "1/1 - 0s - loss: 0.8246 - acc: 0.0000e+00 - val_loss: 0.7108 - val_acc: 0.0000e+00\n",
      "Epoch 11/50\n",
      "1/1 - 0s - loss: 0.9939 - acc: 0.0000e+00 - val_loss: 0.6979 - val_acc: 0.0000e+00\n",
      "Epoch 12/50\n",
      "1/1 - 0s - loss: 0.8618 - acc: 0.0000e+00 - val_loss: 0.6598 - val_acc: 0.0000e+00\n",
      "Epoch 13/50\n",
      "1/1 - 0s - loss: 0.7474 - acc: 0.0000e+00 - val_loss: 0.6726 - val_acc: 0.0000e+00\n",
      "Epoch 14/50\n",
      "1/1 - 0s - loss: 0.7145 - acc: 0.0000e+00 - val_loss: 0.6835 - val_acc: 0.0000e+00\n",
      "Epoch 15/50\n",
      "1/1 - 0s - loss: 0.7074 - acc: 0.0000e+00 - val_loss: 0.6842 - val_acc: 0.0000e+00\n",
      "Epoch 16/50\n",
      "1/1 - 0s - loss: 0.6720 - acc: 0.0000e+00 - val_loss: 0.6690 - val_acc: 0.0000e+00\n",
      "Epoch 17/50\n",
      "1/1 - 0s - loss: 0.6743 - acc: 0.0000e+00 - val_loss: 0.6639 - val_acc: 0.0000e+00\n",
      "Epoch 18/50\n",
      "1/1 - 0s - loss: 0.6722 - acc: 0.0000e+00 - val_loss: 0.6512 - val_acc: 0.0000e+00\n",
      "Epoch 19/50\n",
      "1/1 - 0s - loss: 0.6717 - acc: 0.0000e+00 - val_loss: 0.6399 - val_acc: 0.0000e+00\n",
      "Epoch 20/50\n",
      "1/1 - 0s - loss: 0.6168 - acc: 0.0000e+00 - val_loss: 0.6400 - val_acc: 0.0000e+00\n",
      "Epoch 21/50\n",
      "1/1 - 0s - loss: 0.6548 - acc: 0.0000e+00 - val_loss: 0.6179 - val_acc: 0.0000e+00\n",
      "Epoch 22/50\n",
      "1/1 - 0s - loss: 0.5551 - acc: 0.0000e+00 - val_loss: 0.6090 - val_acc: 0.0000e+00\n",
      "Epoch 23/50\n",
      "1/1 - 0s - loss: 0.5725 - acc: 0.0000e+00 - val_loss: 0.6247 - val_acc: 0.0000e+00\n",
      "Epoch 24/50\n",
      "1/1 - 0s - loss: 0.5611 - acc: 0.0000e+00 - val_loss: 0.6760 - val_acc: 0.0000e+00\n",
      "Epoch 25/50\n",
      "1/1 - 0s - loss: 0.6248 - acc: 0.0000e+00 - val_loss: 0.7312 - val_acc: 0.0000e+00\n",
      "Epoch 26/50\n",
      "1/1 - 0s - loss: 0.6537 - acc: 0.0000e+00 - val_loss: 0.7799 - val_acc: 0.0000e+00\n",
      "Epoch 27/50\n",
      "1/1 - 0s - loss: 0.7301 - acc: 0.0000e+00 - val_loss: 0.8162 - val_acc: 0.0000e+00\n",
      "Epoch 28/50\n",
      "1/1 - 0s - loss: 0.7282 - acc: 0.0000e+00 - val_loss: 0.8384 - val_acc: 0.0000e+00\n",
      "Epoch 29/50\n",
      "1/1 - 0s - loss: 0.7008 - acc: 0.0000e+00 - val_loss: 0.8456 - val_acc: 0.0000e+00\n",
      "Epoch 30/50\n",
      "1/1 - 0s - loss: 0.7870 - acc: 0.0000e+00 - val_loss: 0.8392 - val_acc: 0.0000e+00\n",
      "Epoch 31/50\n",
      "1/1 - 0s - loss: 0.7801 - acc: 0.0000e+00 - val_loss: 0.8339 - val_acc: 0.0000e+00\n",
      "Epoch 32/50\n",
      "1/1 - 0s - loss: 0.7069 - acc: 0.0000e+00 - val_loss: 0.8160 - val_acc: 0.0000e+00\n",
      "Epoch 33/50\n",
      "1/1 - 0s - loss: 0.7351 - acc: 0.0000e+00 - val_loss: 0.8145 - val_acc: 0.0000e+00\n",
      "Epoch 34/50\n",
      "1/1 - 0s - loss: 0.6998 - acc: 0.0000e+00 - val_loss: 0.8390 - val_acc: 0.0000e+00\n",
      "Epoch 35/50\n",
      "1/1 - 0s - loss: 0.7091 - acc: 0.0000e+00 - val_loss: 0.9690 - val_acc: 0.0000e+00\n",
      "Epoch 36/50\n",
      "1/1 - 0s - loss: 0.7343 - acc: 0.0000e+00 - val_loss: 1.1381 - val_acc: 0.0000e+00\n",
      "Epoch 37/50\n",
      "1/1 - 0s - loss: 0.8041 - acc: 0.0000e+00 - val_loss: 1.0695 - val_acc: 0.0000e+00\n",
      "Epoch 38/50\n",
      "1/1 - 0s - loss: 0.7665 - acc: 0.0000e+00 - val_loss: 1.0129 - val_acc: 0.0000e+00\n",
      "Epoch 39/50\n",
      "1/1 - 0s - loss: 0.6291 - acc: 0.0000e+00 - val_loss: 0.9148 - val_acc: 0.0000e+00\n",
      "Epoch 40/50\n",
      "1/1 - 0s - loss: 0.5816 - acc: 0.0000e+00 - val_loss: 0.8608 - val_acc: 0.0000e+00\n",
      "Epoch 41/50\n",
      "1/1 - 0s - loss: 0.6344 - acc: 0.0000e+00 - val_loss: 0.8019 - val_acc: 0.0000e+00\n",
      "Epoch 42/50\n",
      "1/1 - 0s - loss: 0.5444 - acc: 0.0000e+00 - val_loss: 0.7717 - val_acc: 0.0000e+00\n",
      "Epoch 43/50\n",
      "1/1 - 0s - loss: 0.5063 - acc: 0.0000e+00 - val_loss: 0.7696 - val_acc: 0.0000e+00\n",
      "Epoch 44/50\n",
      "1/1 - 0s - loss: 0.5597 - acc: 0.0000e+00 - val_loss: 0.7553 - val_acc: 0.0000e+00\n",
      "Epoch 45/50\n",
      "1/1 - 0s - loss: 0.5307 - acc: 0.0000e+00 - val_loss: 0.7708 - val_acc: 0.0000e+00\n",
      "Epoch 46/50\n",
      "1/1 - 0s - loss: 0.5259 - acc: 0.0000e+00 - val_loss: 0.7731 - val_acc: 0.0000e+00\n",
      "Epoch 47/50\n",
      "1/1 - 0s - loss: 0.5078 - acc: 0.0000e+00 - val_loss: 0.7792 - val_acc: 0.0000e+00\n",
      "Epoch 48/50\n",
      "1/1 - 0s - loss: 0.5521 - acc: 0.0000e+00 - val_loss: 0.7845 - val_acc: 0.0000e+00\n",
      "Epoch 49/50\n",
      "1/1 - 0s - loss: 0.5782 - acc: 0.0000e+00 - val_loss: 0.7863 - val_acc: 0.0000e+00\n",
      "Epoch 50/50\n",
      "1/1 - 0s - loss: 0.5190 - acc: 0.0000e+00 - val_loss: 0.7189 - val_acc: 0.0000e+00\n"
     ]
    }
   ],
   "source": [
    "history = model.fit(\n",
    "    train_flow, epochs=epochs, validation_data=test_flow, verbose=2, shuffle=False\n",
    ")"
   ]
  },
  {
   "cell_type": "code",
   "execution_count": 44,
   "id": "08f74c91-75af-4b2e-ba15-4058c16787b8",
   "metadata": {},
   "outputs": [
    {
     "data": {
      "image/png": "[encoded data removed]",
      "text/plain": [
       "<Figure size 504x576 with 2 Axes>"
      ]
     },
     "metadata": {
      "needs_background": "light"
     },
     "output_type": "display_data"
    }
   ],
   "source": [
    "sg.utils.plot_history(history)"
   ]
  },
  {
   "cell_type": "code",
   "execution_count": 45,
   "id": "16819209-d13a-475f-ab8a-fca70530a854",
   "metadata": {},
   "outputs": [
    {
     "name": "stdout",
     "output_type": "stream",
     "text": [
      "1/1 [==============================] - 0s 56ms/step - loss: 0.3856 - acc: 0.0000e+00\n",
      "1/1 [==============================] - 0s 50ms/step - loss: 0.7189 - acc: 0.0000e+00\n",
      "\n",
      "Train Set Metrics of the trained model:\n",
      "\tloss: 0.3856\n",
      "\tacc: 0.0000\n",
      "\n",
      "Test Set Metrics of the trained model:\n",
      "\tloss: 0.7189\n",
      "\tacc: 0.0000\n"
     ]
    }
   ],
   "source": [
    "train_metrics = model.evaluate(train_flow)\n",
    "test_metrics = model.evaluate(test_flow)\n",
    "\n",
    "print(\"\\nTrain Set Metrics of the trained model:\")\n",
    "for name, val in zip(model.metrics_names, train_metrics):\n",
    "    print(\"\\t{}: {:0.4f}\".format(name, val))\n",
    "\n",
    "print(\"\\nTest Set Metrics of the trained model:\")\n",
    "for name, val in zip(model.metrics_names, test_metrics):\n",
    "    print(\"\\t{}: {:0.4f}\".format(name, val))"
   ]
  },
  {
   "cell_type": "code",
   "execution_count": null,
   "id": "a76b5bc5-37ea-43d5-ae62-9fe6f819b1f9",
   "metadata": {},
   "outputs": [],
   "source": []
  }
 ],
 "metadata": {
  "kernelspec": {
   "display_name": "Python 3 (ipykernel)",
   "language": "python",
   "name": "python3"
  },
  "language_info": {
   "codemirror_mode": {
    "name": "ipython",
    "version": 3
   },
   "file_extension": ".py",
   "mimetype": "text/x-python",
   "name": "python",
   "nbconvert_exporter": "python",
   "pygments_lexer": "ipython3",
   "version": "3.8.0"
  }
 },
 "nbformat": 4,
 "nbformat_minor": 5
}
