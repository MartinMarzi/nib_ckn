{
 "cells": [
  {
   "cell_type": "code",
   "execution_count": 1,
   "id": "dcf04f5a-14ba-4837-803c-080e1ddc7a26",
   "metadata": {},
   "outputs": [
    {
     "name": "stderr",
     "output_type": "stream",
     "text": [
      "2022-05-03 11:22:34.264757: I tensorflow/core/platform/cpu_feature_guard.cc:142] This TensorFlow binary is optimized with oneAPI Deep Neural Network Library (oneDNN) to use the following CPU instructions in performance-critical operations:  AVX2 FMA\n",
      "To enable them in other operations, rebuild TensorFlow with the appropriate compiler flags.\n"
     ]
    }
   ],
   "source": [
    "import matplotlib.pyplot as plt\n",
    "from math import isclose\n",
    "from sklearn.decomposition import PCA\n",
    "import os\n",
    "import networkx as nx\n",
    "import numpy as np\n",
    "import pandas as pd\n",
    "import csv\n",
    "from stellargraph import StellarGraph\n",
    "from stellargraph.data import EdgeSplitter\n",
    "from stellargraph.data import BiasedRandomWalk\n",
    "from collections import Counter\n",
    "import multiprocessing\n",
    "from IPython.display import display, HTML\n",
    "from sklearn.model_selection import train_test_split\n",
    "from gensim.models import Word2Vec"
   ]
  },
  {
   "cell_type": "markdown",
   "id": "de3715b0-5c72-4d8a-b13c-9aaac079d9c9",
   "metadata": {},
   "source": [
    "# Load dataset"
   ]
  },
  {
   "cell_type": "code",
   "execution_count": 2,
   "id": "91b396cc-636e-4385-bcac-7dcdc0d5a5df",
   "metadata": {},
   "outputs": [],
   "source": [
    "# Create graph from csv file with edge weights (we loose some edges as this data would require a multidigraph)\n",
    "def parse_ckn_csv(fname):\n",
    "    g = nx.DiGraph()\n",
    "    fields = ['from', 'to', 'intType', 'reliability', 'species']\n",
    "    with open(fname, newline='') as csvfile:\n",
    "        reader = csv.DictReader(csvfile, fieldnames=fields, dialect=csv.excel_tab, restkey='rest', )\n",
    "        for i, row in enumerate(reader):\n",
    "            if i == 0:\n",
    "                continue\n",
    "            if row['intType'] != \"binding\":\n",
    "                g.add_edge(row['from'], row['to'], type=row['intType'], reliability=row['reliability'])\n",
    "            elif row['intType'] == \"binding\":\n",
    "                g.add_edge(row['from'], row['to'], type=row['intType'], reliability=row['reliability'])\n",
    "                g.add_edge(row['to'], row['from'], type=row['intType'], reliability=row['reliability'])\n",
    "            else:\n",
    "                print(row)\n",
    "                raise SyntaxError\n",
    "    return g"
   ]
  },
  {
   "cell_type": "code",
   "execution_count": 3,
   "id": "4c81bfb3-71b6-4805-9853-e2dbdd4c9c00",
   "metadata": {},
   "outputs": [],
   "source": [
    "g = parse_ckn_csv(\"../data/AtCKN_2022-01-26.tsv\")"
   ]
  },
  {
   "cell_type": "code",
   "execution_count": 5,
   "id": "caed216d-7696-499c-9e03-c58ce95e2513",
   "metadata": {},
   "outputs": [
    {
     "data": {
      "text/plain": [
       "'DiGraph with 26159 nodes and 878601 edges'"
      ]
     },
     "execution_count": 5,
     "metadata": {},
     "output_type": "execute_result"
    }
   ],
   "source": [
    "nx.info(g)"
   ]
  },
  {
   "cell_type": "code",
   "execution_count": 6,
   "id": "35733941-8a6d-4889-8055-c8bacd30aac3",
   "metadata": {},
   "outputs": [
    {
     "name": "stdout",
     "output_type": "stream",
     "text": [
      "['AT1G01010', 'AT1G01020', 'AT1G01030', 'AT1G01040', 'AT1G01050', 'AT1G01060', 'AT1G01070', 'AT1G01080', 'AT1G01090', 'AT1G01100', 'AT1G01110', 'AT1G01120', 'AT1G01130', 'AT1G01140', 'AT1G01160', 'AT1G01170', 'AT1G01180', 'AT1G01183', 'AT1G01190', 'AT1G01200']\n",
      "['MIRF11184', 'MIRF11185', 'MIRF11186', 'MIRF11187', 'MIRF11188', 'MIRF11189', 'MIRF11190', 'MIRF11191', 'MIRF11192', 'MIRF11193', 'MIRF11194', 'MIRF11195', 'MIRF11196', 'MIRF11197', 'MIRF11198', 'MIRF11199', 'MIRF11200', 'MIRF11201', 'MIRF11202', 'MIRF11203']\n",
      "isolated nodes=[]\n"
     ]
    }
   ],
   "source": [
    "# Check for errors in the graph\n",
    "print(sorted(g.nodes)[:20])\n",
    "print(sorted(g.nodes)[-20:])\n",
    "isolated = list(nx.isolates(g))\n",
    "print(f\"isolated nodes={isolated}\")\n",
    "#g.remove_nodes_from(isolated)"
   ]
  },
  {
   "cell_type": "code",
   "execution_count": 7,
   "id": "dd575a0b-1b24-4e9c-979d-4ebe7fc00a9a",
   "metadata": {},
   "outputs": [
    {
     "data": {
      "text/plain": [
       "[('AT1G01010', 'AT1G01010', {'type': 'unkTF', 'reliability': 'r3'}),\n",
       " ('AT1G01010', 'AT1G07640', {'type': 'binding', 'reliability': 'r3'}),\n",
       " ('AT1G01010', 'AT1G10030', {'type': 'binding', 'reliability': 'r2'}),\n",
       " ('AT1G01010', 'AT1G12390', {'type': 'binding', 'reliability': 'r2'}),\n",
       " ('AT1G01010', 'AT1G14360', {'type': 'binding', 'reliability': 'r2'}),\n",
       " ('AT1G01010', 'AT1G16240', {'type': 'binding', 'reliability': 'r2'}),\n",
       " ('AT1G01010', 'AT1G17080', {'type': 'binding', 'reliability': 'r2'}),\n",
       " ('AT1G01010', 'AT1G18330', {'type': 'binding', 'reliability': 'r3'}),\n",
       " ('AT1G01010', 'AT1G21790', {'type': 'binding', 'reliability': 'r2'}),\n",
       " ('AT1G01010', 'AT1G25280', {'type': 'binding', 'reliability': 'r3'})]"
      ]
     },
     "execution_count": 7,
     "metadata": {},
     "output_type": "execute_result"
    }
   ],
   "source": [
    "list(g.edges(data=True))[:10]"
   ]
  },
  {
   "cell_type": "code",
   "execution_count": 8,
   "id": "31ff990f-1635-4dac-8c99-1153c1f8dc6c",
   "metadata": {},
   "outputs": [
    {
     "name": "stdout",
     "output_type": "stream",
     "text": [
      "nodes=26159, edges=878601, density: 0.0013\n"
     ]
    }
   ],
   "source": [
    "# Some general characteristics of the graph\n",
    "print(f'nodes={g.number_of_nodes()}, edges={g.number_of_edges()}, density: {nx.density(g):.4f}')"
   ]
  },
  {
   "cell_type": "markdown",
   "id": "3af44223-e9e9-48ee-a23e-63a7440fbe05",
   "metadata": {},
   "source": [
    "Graph is sparse with a high number of weakly connected components and has a very low density (range 0-1)."
   ]
  },
  {
   "cell_type": "markdown",
   "id": "12c3ad74-9520-428b-8a3e-88376eab19de",
   "metadata": {},
   "source": [
    "Do we keep only the one biggest component?"
   ]
  },
  {
   "cell_type": "code",
   "execution_count": 9,
   "id": "ca61eef7-66e8-4965-ab75-7c67a6164fad",
   "metadata": {},
   "outputs": [],
   "source": [
    "# Generate a sorted list of connected components, largest first.\n",
    "# from collections import Counter\n",
    "# from pprint import pprint\n",
    "# cc_sizes = Counter()\n",
    "# for cc in nx.connected_components(g):\n",
    "#     cc_sizes[len(cc)] += 1\n",
    "# pprint(sorted(cc_sizes.items(), reverse=True))"
   ]
  },
  {
   "cell_type": "markdown",
   "id": "7843ab43-8aa1-4396-a2f0-bed082210342",
   "metadata": {},
   "source": [
    "There is only one large weakly connected component that rest are negligible so we will consider only the largest component."
   ]
  },
  {
   "cell_type": "code",
   "execution_count": 10,
   "id": "532685a3-4454-449a-8e9f-1f46e5a6ebb8",
   "metadata": {},
   "outputs": [],
   "source": [
    "# identify the largest weakly connected component and create a corresponding subgraph\n",
    "# largest_cc = max(nx.connected_components(g), key=len)\n",
    "# g = g.subgraph(largest_cc)\n",
    "\n",
    "# # Some general characteristics of the subgraph\n",
    "# print(f\"Subgraph nodes={g.number_of_nodes()}, subgraph edges={g.number_of_edges()}, density: {nx.density(g):.4f}\")"
   ]
  },
  {
   "cell_type": "markdown",
   "id": "2da02b2f-e98f-4b34-95fb-49119a21626a",
   "metadata": {},
   "source": [
    "# Graph embeddings"
   ]
  },
  {
   "cell_type": "markdown",
   "id": "b75dbb6a-51d8-4b55-a86d-dbeab02efdf1",
   "metadata": {},
   "source": [
    "## Node2vec embeddings"
   ]
  },
  {
   "cell_type": "code",
   "execution_count": 11,
   "id": "c5b1b2c1-d6e0-49c7-982e-8d564d643484",
   "metadata": {},
   "outputs": [],
   "source": [
    "# # Node2vec ... try various parameter settigns\n",
    "# import node2vec\n",
    "# import random\n",
    "# random.seed(a=12345)\n",
    "# n2v = node2vec.Node2Vec(g, num_walks=300, walk_length=500, workers=4, quiet=True)\n",
    "\n",
    "# model = n2v.fit(window=10, min_count=3, seed=42)"
   ]
  },
  {
   "cell_type": "markdown",
   "id": "fc2c76e2-1c3d-44f4-ba11-87263ea8d958",
   "metadata": {},
   "source": [
    "## Dimensionality reduction and visualisation"
   ]
  },
  {
   "cell_type": "code",
   "execution_count": 12,
   "id": "b3b4bbbb-63cc-4d67-bf77-be5e005059a0",
   "metadata": {},
   "outputs": [],
   "source": [
    "#Naredi node2vec (100dim) in naredi umap (preveri če treba prej PCA) da narišemo sliko grafa in dodaš imena vozlišč\n",
    "\n",
    "# vzameš samo največji graf; poišči weakly connected"
   ]
  },
  {
   "cell_type": "markdown",
   "id": "e27b0609-8fea-497e-bf50-2a4fab015eb2",
   "metadata": {},
   "source": [
    "# Link prediction"
   ]
  },
  {
   "cell_type": "code",
   "execution_count": 13,
   "id": "eb1d64d9-9646-400b-9f5e-b91f6798fb83",
   "metadata": {},
   "outputs": [],
   "source": [
    "G = StellarGraph.from_networkx(g)"
   ]
  },
  {
   "cell_type": "code",
   "execution_count": 14,
   "id": "2b359832-a5e3-445d-a907-c7285801a936",
   "metadata": {},
   "outputs": [
    {
     "name": "stdout",
     "output_type": "stream",
     "text": [
      "StellarDiGraph: Directed multigraph\n",
      " Nodes: 26159, Edges: 878601\n",
      "\n",
      " Node types:\n",
      "  default: [26159]\n",
      "    Features: none\n",
      "    Edge types: default-default->default\n",
      "\n",
      " Edge types:\n",
      "    default-default->default: [878601]\n",
      "        Weights: all 1 (default)\n",
      "        Features: none\n"
     ]
    }
   ],
   "source": [
    "print(G.info())"
   ]
  },
  {
   "cell_type": "markdown",
   "id": "af103adf-15b2-4296-ac90-067ea19e271b",
   "metadata": {},
   "source": [
    "## Construct train-test splits of the graph data"
   ]
  },
  {
   "cell_type": "markdown",
   "id": "ce6f1bb4-7608-4cb0-90d4-c95321c30f1c",
   "metadata": {},
   "source": [
    "### Test Graph (graph_test)"
   ]
  },
  {
   "cell_type": "markdown",
   "id": "e8d8d199-0b9a-4791-9993-2ccbbbfe27d2",
   "metadata": {},
   "source": [
    "We create the test graph and test set of positive/negative edge examples from the full graph. \n",
    "* graph_test = reduced graph obtained by removing the test set of edges from the full graph. [same as source]\n",
    "* examples_test = set of positive/negative edge examples (node pairs) [np_array]\n",
    "* labels_test = labels of pos and neg edges (1, 0) [np_array]"
   ]
  },
  {
   "cell_type": "code",
   "execution_count": 15,
   "id": "e3ed5574-bf01-4df5-b0fb-8ffbdd6d8119",
   "metadata": {},
   "outputs": [
    {
     "name": "stdout",
     "output_type": "stream",
     "text": [
      "** Sampled 439300 positive and 439300 negative edges. **\n",
      "StellarDiGraph: Directed multigraph\n",
      " Nodes: 26159, Edges: 439301\n",
      "\n",
      " Node types:\n",
      "  default: [26159]\n",
      "    Features: none\n",
      "    Edge types: default-default->default\n",
      "\n",
      " Edge types:\n",
      "    default-default->default: [439301]\n",
      "        Weights: all 1 (default)\n",
      "        Features: none\n"
     ]
    }
   ],
   "source": [
    "# Define an edge splitter on the original graph:\n",
    "edge_splitter_test = EdgeSplitter(G)\n",
    "\n",
    "# Randomly sample a fraction p of all positive links, and same number of negative links, from full graph, and obtain the\n",
    "# reduced graph graph_test with the sampled positive links removed:\n",
    "graph_test, examples_test, labels_test = edge_splitter_test.train_test_split(\n",
    "    p=0.5, method=\"global\"\n",
    ")\n",
    "\n",
    "print(graph_test.info())"
   ]
  },
  {
   "cell_type": "code",
   "execution_count": 58,
   "id": "f8b3b674-ab98-49c1-a32d-af577fe07b6b",
   "metadata": {},
   "outputs": [
    {
     "data": {
      "text/plain": [
       "878600"
      ]
     },
     "execution_count": 58,
     "metadata": {},
     "output_type": "execute_result"
    }
   ],
   "source": [
    "len(examples_test)"
   ]
  },
  {
   "cell_type": "code",
   "execution_count": 60,
   "id": "812c339b-5eb9-44c9-92c0-d6bca21f1677",
   "metadata": {},
   "outputs": [
    {
     "data": {
      "text/plain": [
       "array([1, 1, 1, ..., 0, 0, 0])"
      ]
     },
     "execution_count": 60,
     "metadata": {},
     "output_type": "execute_result"
    }
   ],
   "source": [
    "labels_test"
   ]
  },
  {
   "cell_type": "markdown",
   "id": "2ffdbd45-6fef-4fca-932e-faac2d83ef31",
   "metadata": {},
   "source": [
    "### Train Graph"
   ]
  },
  {
   "cell_type": "markdown",
   "id": "8ad5100d-0aa8-427b-90d0-6b04e3385ccc",
   "metadata": {},
   "source": [
    "We use EdgeSplitter on Test Graph and perform  train/test split to create:\n",
    "* Train Graph\n",
    "* Training set of edge examples\n",
    "* Model selection set of edge examples"
   ]
  },
  {
   "cell_type": "code",
   "execution_count": 18,
   "id": "2653b4f2-0461-4e0a-8635-9c5a01051cfe",
   "metadata": {},
   "outputs": [
    {
     "name": "stdout",
     "output_type": "stream",
     "text": [
      "** Sampled 43930 positive and 43930 negative edges. **\n",
      "StellarDiGraph: Directed multigraph\n",
      " Nodes: 26159, Edges: 395371\n",
      "\n",
      " Node types:\n",
      "  default: [26159]\n",
      "    Features: none\n",
      "    Edge types: default-default->default\n",
      "\n",
      " Edge types:\n",
      "    default-default->default: [395371]\n",
      "        Weights: all 1 (default)\n",
      "        Features: none\n"
     ]
    }
   ],
   "source": [
    "# Same as above to produce a training subset from the Test Graph (graph_test)\n",
    "edge_splitter_train = EdgeSplitter(graph_test)\n",
    "graph_train, examples, labels = edge_splitter_train.train_test_split(\n",
    "    p=0.1, method=\"global\"\n",
    ")\n",
    "(\n",
    "    examples_train,\n",
    "    examples_model_selection,\n",
    "    labels_train,\n",
    "    labels_model_selection,\n",
    ") = train_test_split(examples, labels, train_size=0.75, test_size=0.25)\n",
    "\n",
    "print(graph_train.info())"
   ]
  },
  {
   "cell_type": "markdown",
   "id": "2559e2ef-22ee-47fc-80ee-99617a00ebcb",
   "metadata": {},
   "source": [
    "Summary of the different "
   ]
  },
  {
   "cell_type": "code",
   "execution_count": 19,
   "id": "e7b7d704-8ca3-41c2-a406-f69a6484febc",
   "metadata": {},
   "outputs": [
    {
     "data": {
      "text/html": [
       "<div>\n",
       "<style scoped>\n",
       "    .dataframe tbody tr th:only-of-type {\n",
       "        vertical-align: middle;\n",
       "    }\n",
       "\n",
       "    .dataframe tbody tr th {\n",
       "        vertical-align: top;\n",
       "    }\n",
       "\n",
       "    .dataframe thead th {\n",
       "        text-align: right;\n",
       "    }\n",
       "</style>\n",
       "<table border=\"1\" class=\"dataframe\">\n",
       "  <thead>\n",
       "    <tr style=\"text-align: right;\">\n",
       "      <th></th>\n",
       "      <th>Number of Examples</th>\n",
       "      <th>Hidden from</th>\n",
       "      <th>Picked from</th>\n",
       "      <th>Use</th>\n",
       "    </tr>\n",
       "    <tr>\n",
       "      <th>Split</th>\n",
       "      <th></th>\n",
       "      <th></th>\n",
       "      <th></th>\n",
       "      <th></th>\n",
       "    </tr>\n",
       "  </thead>\n",
       "  <tbody>\n",
       "    <tr>\n",
       "      <th>Training Set</th>\n",
       "      <td>65895</td>\n",
       "      <td>Train Graph</td>\n",
       "      <td>Test Graph</td>\n",
       "      <td>Train the Link Classifier</td>\n",
       "    </tr>\n",
       "    <tr>\n",
       "      <th>Model Selection</th>\n",
       "      <td>21965</td>\n",
       "      <td>Train Graph</td>\n",
       "      <td>Test Graph</td>\n",
       "      <td>Select the best Link Classifier model</td>\n",
       "    </tr>\n",
       "    <tr>\n",
       "      <th>Test set</th>\n",
       "      <td>878600</td>\n",
       "      <td>Test Graph</td>\n",
       "      <td>Full Graph</td>\n",
       "      <td>Evaluate the best Link Classifier</td>\n",
       "    </tr>\n",
       "  </tbody>\n",
       "</table>\n",
       "</div>"
      ],
      "text/plain": [
       "                 Number of Examples  Hidden from Picked from  \\\n",
       "Split                                                          \n",
       "Training Set                  65895  Train Graph  Test Graph   \n",
       "Model Selection               21965  Train Graph  Test Graph   \n",
       "Test set                     878600   Test Graph  Full Graph   \n",
       "\n",
       "                                                   Use  \n",
       "Split                                                   \n",
       "Training Set                 Train the Link Classifier  \n",
       "Model Selection  Select the best Link Classifier model  \n",
       "Test set             Evaluate the best Link Classifier  "
      ]
     },
     "execution_count": 19,
     "metadata": {},
     "output_type": "execute_result"
    }
   ],
   "source": [
    "# Overview of splits created\n",
    "pd.DataFrame(\n",
    "    [\n",
    "        (\n",
    "            \"Training Set\",\n",
    "            len(examples_train),\n",
    "            \"Train Graph\",\n",
    "            \"Test Graph\",\n",
    "            \"Train the Link Classifier\",\n",
    "        ),\n",
    "        (\n",
    "            \"Model Selection\",\n",
    "            len(examples_model_selection),\n",
    "            \"Train Graph\",\n",
    "            \"Test Graph\",\n",
    "            \"Select the best Link Classifier model\",\n",
    "        ),\n",
    "        (\n",
    "            \"Test set\",\n",
    "            len(examples_test),\n",
    "            \"Test Graph\",\n",
    "            \"Full Graph\",\n",
    "            \"Evaluate the best Link Classifier\",\n",
    "        ),\n",
    "    ],\n",
    "    columns=(\"Split\", \"Number of Examples\", \"Hidden from\", \"Picked from\", \"Use\"),\n",
    ").set_index(\"Split\")"
   ]
  },
  {
   "cell_type": "markdown",
   "id": "1cb06fea-2c56-4a3c-bf6a-dd78f6096d33",
   "metadata": {},
   "source": [
    "## Node embeddings"
   ]
  },
  {
   "cell_type": "markdown",
   "id": "16dca1f3-7842-4e7d-b555-5870d93ad007",
   "metadata": {},
   "source": [
    "Use Node2vec to generate the node embeddings with random walks, which try to maintain the node similarity from the graph (proximity in the embedding space). Output are node pairs, which are used to train a Word2Vec model."
   ]
  },
  {
   "cell_type": "markdown",
   "id": "02db2150-f5c2-4924-96c8-7d3686c4863b",
   "metadata": {},
   "source": [
    "### Node2Vec "
   ]
  },
  {
   "cell_type": "code",
   "execution_count": 20,
   "id": "48c4e078-76dd-43ad-a8b0-0f62eebf8f7d",
   "metadata": {},
   "outputs": [],
   "source": [
    "# parameters\n",
    "p = 1.0\n",
    "q = 1.0\n",
    "dimensions = 128\n",
    "num_walks = 50\n",
    "walk_length = 40\n",
    "window_size = 5\n",
    "epochs = 1\n",
    "workers = int(multiprocessing.cpu_count() / 2)"
   ]
  },
  {
   "cell_type": "code",
   "execution_count": 21,
   "id": "0abbff06-bd6d-4304-9457-5f0e5af10c82",
   "metadata": {},
   "outputs": [],
   "source": [
    "def node2vec_embedding(graph, name):\n",
    "    rw = BiasedRandomWalk(graph)\n",
    "    walks = rw.run(graph.nodes(), n=num_walks, length=walk_length, p=p, q=q)\n",
    "    print(f\"Number of random walks for '{name}': {len(walks)}\")\n",
    "    \n",
    "    model = Word2Vec(\n",
    "        walks,\n",
    "        vector_size=dimensions,\n",
    "        window=window_size,\n",
    "        min_count=0,\n",
    "        sg=1,\n",
    "        workers=workers,\n",
    "        epochs=epochs,\n",
    "    )\n",
    "    \n",
    "    def get_embedding(u):\n",
    "        return model.wv[u]\n",
    "    \n",
    "    return get_embedding"
   ]
  },
  {
   "cell_type": "code",
   "execution_count": 22,
   "id": "1c33590d-3d5f-4e48-b027-1fd2cebad20e",
   "metadata": {},
   "outputs": [
    {
     "name": "stdout",
     "output_type": "stream",
     "text": [
      "Number of random walks for 'Train Graph': 1307950\n"
     ]
    }
   ],
   "source": [
    "embedding_train = node2vec_embedding(graph_train, \"Train Graph\")\n",
    "# lahk tudi kar tukaj poženeš classifier"
   ]
  },
  {
   "cell_type": "code",
   "execution_count": null,
   "id": "d442d4a0-964e-489b-8c4d-f19780a9c643",
   "metadata": {},
   "outputs": [],
   "source": [
    "# create pickle\n",
    "# walks_train\n",
    "# model_train\n",
    "# embeddings_train"
   ]
  },
  {
   "cell_type": "markdown",
   "id": "e7c46578-9ed2-423a-a642-375263cfcaa1",
   "metadata": {
    "tags": []
   },
   "source": [
    "## Train and evaluate the link prediction model"
   ]
  },
  {
   "cell_type": "markdown",
   "id": "c0445958-45ce-4705-b74b-2f93b9623483",
   "metadata": {},
   "source": [
    "To use Word2Vec model for link prediction we need to perform these steps:\n",
    "1. Calculate the edge embeddings for positive and negative edge samples by applying a binary operator on the embeddings of the source and target nodes\n",
    "2. Train classifier to predicta binary label\n",
    "3. Evaluate the perfromance of the link classifier for each binary operator on training data with node embeddings calculated on the Train Graph and select the best classifier\n",
    "4. The best classifier is used to calculate scores on the test data with node embeeddings calcluated on the Test Graph."
   ]
  },
  {
   "cell_type": "code",
   "execution_count": 23,
   "id": "8d942015-65fd-44eb-a058-70f692e67010",
   "metadata": {},
   "outputs": [],
   "source": [
    "from sklearn.pipeline import Pipeline\n",
    "from sklearn.linear_model import LogisticRegressionCV\n",
    "from sklearn.metrics import roc_auc_score\n",
    "from sklearn.preprocessing import StandardScaler\n",
    "\n",
    "# 1. Edge embeddings\n",
    "def link_examples_to_features(link_examples, transform_node, binary_operator):\n",
    "    return [\n",
    "        binary_operator(transform_node(src), transform_node(dst))\n",
    "        for src, dst in link_examples\n",
    "    ]\n",
    "\n",
    "# 2. Training classifier\n",
    "def train_link_prediction_model(\n",
    "    link_examples, link_labels, get_embedding, binary_operator\n",
    "):\n",
    "    clf = link_prediction_classifier()\n",
    "    link_features = link_examples_to_features(\n",
    "        link_examples, get_embedding, binary_operator\n",
    "    )\n",
    "    clf.fit(link_features, link_labels)\n",
    "    return clf\n",
    "\n",
    "def link_prediction_classifier(max_iter=2000):\n",
    "    lr_clf = LogisticRegressionCV(Cs=10, cv=10, scoring=\"roc_auc\", max_iter=max_iter)\n",
    "    return Pipeline(steps=[(\"sc\", StandardScaler()), (\"clf\", lr_clf)])\n",
    "                                                          \n",
    "# 3. and 4. evaluate classifier\n",
    "def evaluate_link_prediction_model(\n",
    "    clf, link_examples_test, link_labels_test, get_embedding, binary_operator\n",
    "):\n",
    "    link_features_test = link_examples_to_features(\n",
    "        link_examples_test, get_embedding, binary_operator\n",
    "    )\n",
    "    score, predicted = evaluate_roc_auc(clf, link_features_test, link_labels_test)\n",
    "    return score, predicted\n",
    "\n",
    "def evaluate_roc_auc(clf, link_features, link_labels):\n",
    "    predicted = clf.predict_proba(link_features) ## verjetnosti za napovedi \n",
    "\n",
    "    # check which class corresponds to positive links\n",
    "    positive_column = list(clf.classes_).index(1)\n",
    "    return roc_auc_score(link_labels, predicted[:, positive_column]), predicted"
   ]
  },
  {
   "cell_type": "markdown",
   "id": "6d5a2184-e03a-4274-9494-ee24690058cd",
   "metadata": {},
   "source": [
    "We use 4 different binary operators that produce link embeddings that have equal dimensionality to the input node embeddings. "
   ]
  },
  {
   "cell_type": "code",
   "execution_count": 24,
   "id": "a2066104-4747-43f9-9440-b8096848632b",
   "metadata": {},
   "outputs": [],
   "source": [
    "def operator_hadamard(u, v):\n",
    "    return u * v\n",
    "\n",
    "\n",
    "def operator_l1(u, v):\n",
    "    return np.abs(u - v)\n",
    "\n",
    "\n",
    "def operator_l2(u, v):\n",
    "    return (u - v) ** 2\n",
    "\n",
    "\n",
    "def operator_avg(u, v):\n",
    "    return (u + v) / 2.0\n",
    "\n",
    "\n",
    "def run_link_prediction(binary_operator):\n",
    "    clf = train_link_prediction_model(\n",
    "        examples_train, labels_train, embedding_train, binary_operator\n",
    "    )\n",
    "    score = evaluate_link_prediction_model(\n",
    "        clf,\n",
    "        examples_model_selection,\n",
    "        labels_model_selection,\n",
    "        embedding_train,\n",
    "        binary_operator,\n",
    "    )\n",
    "\n",
    "    return {\n",
    "        \"classifier\": clf,\n",
    "        \"binary_operator\": binary_operator,\n",
    "        \"score\": score,\n",
    "    }\n",
    "\n",
    "\n",
    "binary_operators = [operator_hadamard, operator_l1, operator_l2, operator_avg]"
   ]
  },
  {
   "cell_type": "code",
   "execution_count": 25,
   "id": "ea0eb8fd-8111-4cb6-a50b-6791dccdf9b2",
   "metadata": {},
   "outputs": [
    {
     "name": "stdout",
     "output_type": "stream",
     "text": [
      "Best result from 'operator_hadamard'\n"
     ]
    },
    {
     "data": {
      "text/html": [
       "<div>\n",
       "<style scoped>\n",
       "    .dataframe tbody tr th:only-of-type {\n",
       "        vertical-align: middle;\n",
       "    }\n",
       "\n",
       "    .dataframe tbody tr th {\n",
       "        vertical-align: top;\n",
       "    }\n",
       "\n",
       "    .dataframe thead th {\n",
       "        text-align: right;\n",
       "    }\n",
       "</style>\n",
       "<table border=\"1\" class=\"dataframe\">\n",
       "  <thead>\n",
       "    <tr style=\"text-align: right;\">\n",
       "      <th></th>\n",
       "      <th>ROC AUC score</th>\n",
       "    </tr>\n",
       "    <tr>\n",
       "      <th>name</th>\n",
       "      <th></th>\n",
       "    </tr>\n",
       "  </thead>\n",
       "  <tbody>\n",
       "    <tr>\n",
       "      <th>operator_hadamard</th>\n",
       "      <td>0.946298</td>\n",
       "    </tr>\n",
       "    <tr>\n",
       "      <th>operator_l1</th>\n",
       "      <td>0.868420</td>\n",
       "    </tr>\n",
       "    <tr>\n",
       "      <th>operator_l2</th>\n",
       "      <td>0.871420</td>\n",
       "    </tr>\n",
       "    <tr>\n",
       "      <th>operator_avg</th>\n",
       "      <td>0.814742</td>\n",
       "    </tr>\n",
       "  </tbody>\n",
       "</table>\n",
       "</div>"
      ],
      "text/plain": [
       "                   ROC AUC score\n",
       "name                            \n",
       "operator_hadamard       0.946298\n",
       "operator_l1             0.868420\n",
       "operator_l2             0.871420\n",
       "operator_avg            0.814742"
      ]
     },
     "execution_count": 25,
     "metadata": {},
     "output_type": "execute_result"
    }
   ],
   "source": [
    "results = [run_link_prediction(op) for op in binary_operators]\n",
    "best_result = max(results, key=lambda result: result[\"score\"])\n",
    "\n",
    "print(f\"Best result from '{best_result['binary_operator'].__name__}'\")\n",
    "      \n",
    "pd.DataFrame(\n",
    "    [(result[\"binary_operator\"].__name__, result[\"score\"][0]) for result in results],\n",
    "    columns=(\"name\", \"ROC AUC score\"),\n",
    ").set_index(\"name\")"
   ]
  },
  {
   "cell_type": "markdown",
   "id": "709c2011-d02b-42fe-87df-bfc471879c15",
   "metadata": {},
   "source": [
    "### Evaluate the best model using the test set"
   ]
  },
  {
   "cell_type": "markdown",
   "id": "762b6c47-2cd5-4a46-8555-56b5f46f6c5c",
   "metadata": {},
   "source": [
    "We now use the test set of embeddings and calculate a final evaluation score. "
   ]
  },
  {
   "cell_type": "code",
   "execution_count": 26,
   "id": "112e9f27-d273-454f-8346-a991d6a72f94",
   "metadata": {},
   "outputs": [
    {
     "name": "stdout",
     "output_type": "stream",
     "text": [
      "Number of random walks for 'Test Graph': 1307950\n"
     ]
    }
   ],
   "source": [
    "embedding_test = node2vec_embedding(graph_test, \"Test Graph\")"
   ]
  },
  {
   "cell_type": "code",
   "execution_count": 91,
   "id": "72facaf7-7447-4838-82ee-0f020369d2cc",
   "metadata": {},
   "outputs": [
    {
     "data": {
      "text/plain": [
       "<function __main__.node2vec_embedding.<locals>.get_embedding(u)>"
      ]
     },
     "execution_count": 91,
     "metadata": {},
     "output_type": "execute_result"
    }
   ],
   "source": [
    "# Pickle\n",
    "# walks_train\n",
    "# model_train\n",
    "# embeddings_train"
   ]
  },
  {
   "cell_type": "code",
   "execution_count": 27,
   "id": "a9e53998-e052-456f-8486-dee10d50eb13",
   "metadata": {},
   "outputs": [
    {
     "name": "stdout",
     "output_type": "stream",
     "text": [
      "ROC AUC score on test set using 'operator_hadamard': 0.856501318665557\n"
     ]
    }
   ],
   "source": [
    "test_score, predicted = evaluate_link_prediction_model(\n",
    "    best_result[\"classifier\"],\n",
    "    examples_test,\n",
    "    labels_test,\n",
    "    embedding_test,\n",
    "    best_result[\"binary_operator\"],\n",
    ")\n",
    "print(\n",
    "    f\"ROC AUC score on test set using '{best_result['binary_operator'].__name__}': {test_score}\"\n",
    ")"
   ]
  },
  {
   "cell_type": "markdown",
   "id": "d0116aa8-3ba9-4609-aead-0b66409429a7",
   "metadata": {},
   "source": [
    "### Create df of edges with R values and predictions"
   ]
  },
  {
   "cell_type": "code",
   "execution_count": 28,
   "id": "af093387-83f9-491b-9a63-86a4273cdf81",
   "metadata": {},
   "outputs": [
    {
     "data": {
      "text/plain": [
       "array([['AT1G27770', 'AT1G70610'],\n",
       "       ['AT1G19350', 'AT4G32010'],\n",
       "       ['AT3G25110', 'AT4G13050'],\n",
       "       ...,\n",
       "       ['AT4G09720', 'AT2G20620'],\n",
       "       ['AT4G12410', 'AT5G58530'],\n",
       "       ['AT2G20530', 'AT4G28830']], dtype=object)"
      ]
     },
     "execution_count": 28,
     "metadata": {},
     "output_type": "execute_result"
    }
   ],
   "source": [
    "# Edges test examples is set of positive/negative edge examples (node pairs) that were removed from the full graph. [np_array]\n",
    "examples_test"
   ]
  },
  {
   "cell_type": "code",
   "execution_count": 50,
   "id": "9ca8b0a9-4bb4-4110-b537-f12867b227f6",
   "metadata": {},
   "outputs": [
    {
     "data": {
      "text/plain": [
       "array([1, 1, 1, ..., 0, 0, 0])"
      ]
     },
     "execution_count": 50,
     "metadata": {},
     "output_type": "execute_result"
    }
   ],
   "source": [
    "# Labels of pos and neg edges (1, 0) for test edges examples [np_array]\n",
    "labels_test"
   ]
  },
  {
   "cell_type": "code",
   "execution_count": 51,
   "id": "e5f899f3-cf17-47f6-93e1-a6bbe1c7c372",
   "metadata": {},
   "outputs": [
    {
     "data": {
      "text/plain": [
       "array([[3.25637994e-02, 9.67436201e-01],\n",
       "       [8.87434963e-02, 9.11256504e-01],\n",
       "       [4.67233553e-07, 9.99999533e-01],\n",
       "       ...,\n",
       "       [7.50688553e-01, 2.49311447e-01],\n",
       "       [4.92930247e-01, 5.07069753e-01],\n",
       "       [9.83347888e-03, 9.90166521e-01]])"
      ]
     },
     "execution_count": 51,
     "metadata": {},
     "output_type": "execute_result"
    }
   ],
   "source": [
    "# Label predicitons for each edge test example\n",
    "predicted"
   ]
  },
  {
   "cell_type": "code",
   "execution_count": 52,
   "id": "9d754134-432c-4df5-974d-3440f6317241",
   "metadata": {},
   "outputs": [
    {
     "data": {
      "text/html": [
       "<div>\n",
       "<style scoped>\n",
       "    .dataframe tbody tr th:only-of-type {\n",
       "        vertical-align: middle;\n",
       "    }\n",
       "\n",
       "    .dataframe tbody tr th {\n",
       "        vertical-align: top;\n",
       "    }\n",
       "\n",
       "    .dataframe thead th {\n",
       "        text-align: right;\n",
       "    }\n",
       "</style>\n",
       "<table border=\"1\" class=\"dataframe\">\n",
       "  <thead>\n",
       "    <tr style=\"text-align: right;\">\n",
       "      <th></th>\n",
       "      <th>from</th>\n",
       "      <th>to</th>\n",
       "      <th>labels</th>\n",
       "      <th>pred_1</th>\n",
       "      <th>R-value</th>\n",
       "    </tr>\n",
       "  </thead>\n",
       "  <tbody>\n",
       "    <tr>\n",
       "      <th>0</th>\n",
       "      <td>AT1G27770</td>\n",
       "      <td>AT1G70610</td>\n",
       "      <td>1</td>\n",
       "      <td>3.256380e-02</td>\n",
       "      <td>NaN</td>\n",
       "    </tr>\n",
       "    <tr>\n",
       "      <th>1</th>\n",
       "      <td>AT1G19350</td>\n",
       "      <td>AT4G32010</td>\n",
       "      <td>1</td>\n",
       "      <td>8.874350e-02</td>\n",
       "      <td>NaN</td>\n",
       "    </tr>\n",
       "    <tr>\n",
       "      <th>2</th>\n",
       "      <td>AT3G25110</td>\n",
       "      <td>AT4G13050</td>\n",
       "      <td>1</td>\n",
       "      <td>4.672336e-07</td>\n",
       "      <td>NaN</td>\n",
       "    </tr>\n",
       "    <tr>\n",
       "      <th>3</th>\n",
       "      <td>AT2G26760</td>\n",
       "      <td>AT4G33080</td>\n",
       "      <td>1</td>\n",
       "      <td>1.733723e-02</td>\n",
       "      <td>NaN</td>\n",
       "    </tr>\n",
       "    <tr>\n",
       "      <th>4</th>\n",
       "      <td>AT1G75630</td>\n",
       "      <td>AT4G19030</td>\n",
       "      <td>1</td>\n",
       "      <td>3.527350e-01</td>\n",
       "      <td>NaN</td>\n",
       "    </tr>\n",
       "    <tr>\n",
       "      <th>...</th>\n",
       "      <td>...</td>\n",
       "      <td>...</td>\n",
       "      <td>...</td>\n",
       "      <td>...</td>\n",
       "      <td>...</td>\n",
       "    </tr>\n",
       "    <tr>\n",
       "      <th>878595</th>\n",
       "      <td>AT5G60190</td>\n",
       "      <td>AT3G47220</td>\n",
       "      <td>0</td>\n",
       "      <td>8.271459e-01</td>\n",
       "      <td>NaN</td>\n",
       "    </tr>\n",
       "    <tr>\n",
       "      <th>878596</th>\n",
       "      <td>AT3G54110</td>\n",
       "      <td>AT2G22530</td>\n",
       "      <td>0</td>\n",
       "      <td>6.788519e-01</td>\n",
       "      <td>NaN</td>\n",
       "    </tr>\n",
       "    <tr>\n",
       "      <th>878597</th>\n",
       "      <td>AT4G09720</td>\n",
       "      <td>AT2G20620</td>\n",
       "      <td>0</td>\n",
       "      <td>7.506886e-01</td>\n",
       "      <td>NaN</td>\n",
       "    </tr>\n",
       "    <tr>\n",
       "      <th>878598</th>\n",
       "      <td>AT4G12410</td>\n",
       "      <td>AT5G58530</td>\n",
       "      <td>0</td>\n",
       "      <td>4.929302e-01</td>\n",
       "      <td>NaN</td>\n",
       "    </tr>\n",
       "    <tr>\n",
       "      <th>878599</th>\n",
       "      <td>AT2G20530</td>\n",
       "      <td>AT4G28830</td>\n",
       "      <td>0</td>\n",
       "      <td>9.833479e-03</td>\n",
       "      <td>NaN</td>\n",
       "    </tr>\n",
       "  </tbody>\n",
       "</table>\n",
       "<p>878600 rows × 5 columns</p>\n",
       "</div>"
      ],
      "text/plain": [
       "             from         to  labels        pred_1  R-value\n",
       "0       AT1G27770  AT1G70610       1  3.256380e-02      NaN\n",
       "1       AT1G19350  AT4G32010       1  8.874350e-02      NaN\n",
       "2       AT3G25110  AT4G13050       1  4.672336e-07      NaN\n",
       "3       AT2G26760  AT4G33080       1  1.733723e-02      NaN\n",
       "4       AT1G75630  AT4G19030       1  3.527350e-01      NaN\n",
       "...           ...        ...     ...           ...      ...\n",
       "878595  AT5G60190  AT3G47220       0  8.271459e-01      NaN\n",
       "878596  AT3G54110  AT2G22530       0  6.788519e-01      NaN\n",
       "878597  AT4G09720  AT2G20620       0  7.506886e-01      NaN\n",
       "878598  AT4G12410  AT5G58530       0  4.929302e-01      NaN\n",
       "878599  AT2G20530  AT4G28830       0  9.833479e-03      NaN\n",
       "\n",
       "[878600 rows x 5 columns]"
      ]
     },
     "execution_count": 52,
     "metadata": {},
     "output_type": "execute_result"
    }
   ],
   "source": [
    "# Create df with the test data and predictions\n",
    "df_pred = pd.DataFrame(examples_test, columns=[\"from\", \"to\"])\n",
    "df_pred[\"labels\"] = labels_test\n",
    "df_pred[[\"pred_1\", \"pred_0\"]] = pd.DataFrame(predicted, columns=[\"pred_1\", \"pred_0\"])\n",
    "df_pred.drop([\"pred_0\"], axis=1, inplace=True)\n",
    "df_pred[\"R-value\"] = np.nan\n",
    "df_pred"
   ]
  },
  {
   "cell_type": "code",
   "execution_count": 61,
   "id": "fa1e9c0c-7f9c-42e7-932c-65eadf57408f",
   "metadata": {},
   "outputs": [
    {
     "data": {
      "text/html": [
       "<div>\n",
       "<style scoped>\n",
       "    .dataframe tbody tr th:only-of-type {\n",
       "        vertical-align: middle;\n",
       "    }\n",
       "\n",
       "    .dataframe tbody tr th {\n",
       "        vertical-align: top;\n",
       "    }\n",
       "\n",
       "    .dataframe thead th {\n",
       "        text-align: right;\n",
       "    }\n",
       "</style>\n",
       "<table border=\"1\" class=\"dataframe\">\n",
       "  <thead>\n",
       "    <tr style=\"text-align: right;\">\n",
       "      <th></th>\n",
       "      <th>from</th>\n",
       "      <th>to</th>\n",
       "      <th>interaction</th>\n",
       "      <th>R-value</th>\n",
       "      <th>pis</th>\n",
       "    </tr>\n",
       "  </thead>\n",
       "  <tbody>\n",
       "    <tr>\n",
       "      <th>0</th>\n",
       "      <td>intL</td>\n",
       "      <td>intR</td>\n",
       "      <td>intType</td>\n",
       "      <td>intRank</td>\n",
       "      <td>intSpecies</td>\n",
       "    </tr>\n",
       "    <tr>\n",
       "      <th>1</th>\n",
       "      <td>AT1G01010</td>\n",
       "      <td>AT1G01010</td>\n",
       "      <td>unkTF</td>\n",
       "      <td>r3</td>\n",
       "      <td>ath</td>\n",
       "    </tr>\n",
       "    <tr>\n",
       "      <th>2</th>\n",
       "      <td>AT1G01010</td>\n",
       "      <td>AT1G07640</td>\n",
       "      <td>binding</td>\n",
       "      <td>r3</td>\n",
       "      <td>ath</td>\n",
       "    </tr>\n",
       "    <tr>\n",
       "      <th>3</th>\n",
       "      <td>AT1G01010</td>\n",
       "      <td>AT1G10030</td>\n",
       "      <td>binding</td>\n",
       "      <td>r2</td>\n",
       "      <td>ath</td>\n",
       "    </tr>\n",
       "    <tr>\n",
       "      <th>4</th>\n",
       "      <td>AT1G01010</td>\n",
       "      <td>AT1G12390</td>\n",
       "      <td>binding</td>\n",
       "      <td>r2</td>\n",
       "      <td>ath</td>\n",
       "    </tr>\n",
       "    <tr>\n",
       "      <th>...</th>\n",
       "      <td>...</td>\n",
       "      <td>...</td>\n",
       "      <td>...</td>\n",
       "      <td>...</td>\n",
       "      <td>...</td>\n",
       "    </tr>\n",
       "    <tr>\n",
       "      <th>484612</th>\n",
       "      <td>MIRF11203</td>\n",
       "      <td>AT3G43955</td>\n",
       "      <td>inhMIR</td>\n",
       "      <td>r3</td>\n",
       "      <td>ath</td>\n",
       "    </tr>\n",
       "    <tr>\n",
       "      <th>484613</th>\n",
       "      <td>MIRF11203</td>\n",
       "      <td>AT3G52530</td>\n",
       "      <td>inhMIR</td>\n",
       "      <td>r3</td>\n",
       "      <td>ath</td>\n",
       "    </tr>\n",
       "    <tr>\n",
       "      <th>484614</th>\n",
       "      <td>MIRF11203</td>\n",
       "      <td>AT5G12085</td>\n",
       "      <td>inhMIR</td>\n",
       "      <td>r3</td>\n",
       "      <td>ath</td>\n",
       "    </tr>\n",
       "    <tr>\n",
       "      <th>484615</th>\n",
       "      <td>MIRF11203</td>\n",
       "      <td>AT5G35935</td>\n",
       "      <td>inhMIR</td>\n",
       "      <td>r3</td>\n",
       "      <td>ath</td>\n",
       "    </tr>\n",
       "    <tr>\n",
       "      <th>484616</th>\n",
       "      <td>MIRF11203</td>\n",
       "      <td>AT5G45460</td>\n",
       "      <td>inhMIR</td>\n",
       "      <td>r3</td>\n",
       "      <td>ath</td>\n",
       "    </tr>\n",
       "  </tbody>\n",
       "</table>\n",
       "<p>484617 rows × 5 columns</p>\n",
       "</div>"
      ],
      "text/plain": [
       "             from         to interaction  R-value         pis\n",
       "0            intL       intR     intType  intRank  intSpecies\n",
       "1       AT1G01010  AT1G01010       unkTF       r3         ath\n",
       "2       AT1G01010  AT1G07640     binding       r3         ath\n",
       "3       AT1G01010  AT1G10030     binding       r2         ath\n",
       "4       AT1G01010  AT1G12390     binding       r2         ath\n",
       "...           ...        ...         ...      ...         ...\n",
       "484612  MIRF11203  AT3G43955      inhMIR       r3         ath\n",
       "484613  MIRF11203  AT3G52530      inhMIR       r3         ath\n",
       "484614  MIRF11203  AT5G12085      inhMIR       r3         ath\n",
       "484615  MIRF11203  AT5G35935      inhMIR       r3         ath\n",
       "484616  MIRF11203  AT5G45460      inhMIR       r3         ath\n",
       "\n",
       "[484617 rows x 5 columns]"
      ]
     },
     "execution_count": 61,
     "metadata": {},
     "output_type": "execute_result"
    }
   ],
   "source": [
    "df = pd.read_csv(\"../data/AtCKN_2022-01-26.tsv\", \n",
    "                 names=[\"from\", \"to\", \"interaction\", \"R-value\", \"pis\"], sep=\"\\t\", header=None)\n",
    "df"
   ]
  },
  {
   "cell_type": "code",
   "execution_count": 78,
   "id": "8eddf61b-af3c-4308-8a32-00ab272f9293",
   "metadata": {},
   "outputs": [
    {
     "data": {
      "text/plain": [
       "r3         382361\n",
       "r2          45295\n",
       "r4          29480\n",
       "r1          27480\n",
       "intRank         1\n",
       "Name: R-value, dtype: int64"
      ]
     },
     "execution_count": 78,
     "metadata": {},
     "output_type": "execute_result"
    }
   ],
   "source": [
    "df[\"R-value\"].value_counts()"
   ]
  },
  {
   "cell_type": "code",
   "execution_count": 62,
   "id": "65da2b26-b52c-4e75-a404-881596e7bb10",
   "metadata": {},
   "outputs": [
    {
     "data": {
      "text/plain": [
       "binding       396664\n",
       "inhMIR         33377\n",
       "catalysis      27963\n",
       "unkTF          15279\n",
       "actTF           5412\n",
       "activation      1687\n",
       "ptmod           1427\n",
       "inhTF           1349\n",
       "inhibition      1292\n",
       "PTRmod           166\n",
       "intType            1\n",
       "Name: interaction, dtype: int64"
      ]
     },
     "execution_count": 62,
     "metadata": {},
     "output_type": "execute_result"
    }
   ],
   "source": [
    "df[\"interaction\"].value_counts()"
   ]
  },
  {
   "cell_type": "code",
   "execution_count": 63,
   "id": "016769f7-b144-4fb4-a30b-fc7007b31b0f",
   "metadata": {},
   "outputs": [
    {
     "name": "stdout",
     "output_type": "stream",
     "text": [
      "484617\n"
     ]
    }
   ],
   "source": [
    "# test un uniqueness\n",
    "a = set()\n",
    "for i, row in df.iterrows():\n",
    "    a.add((row[\"from\"], row[\"to\"], row[\"interaction\"]))\n",
    "print(len(a))\n",
    "    "
   ]
  },
  {
   "cell_type": "code",
   "execution_count": 64,
   "id": "f7ea2fd0-9870-444c-8960-414d4b3aba5f",
   "metadata": {},
   "outputs": [],
   "source": [
    "# # Add R value to df_pred\n",
    "# df_loop = df_pred.copy()\n",
    "# for idx_pred, row_pred in df_loop.iterrows():\n",
    "#     for idx_org, row_org in df.iterrows():\n",
    "#         if list(row_org[[\"from\", \"to\"]]) == list(row_pred[[\"from\", \"to\"]]):\n",
    "#             df_pred.loc[idx_pred, \"R-value\"] = row_org[\"R-value\"]"
   ]
  },
  {
   "cell_type": "code",
   "execution_count": 65,
   "id": "94002eb7-c5f0-4cb5-be34-ba7f72d0579f",
   "metadata": {},
   "outputs": [],
   "source": [
    "# Create dictionary edge : R-value from original df\n",
    "dict_org ={}\n",
    "\n",
    "for row in df.itertuples(name=None):\n",
    "    dict_org[row[1:3]] = row[4]\n",
    "\n",
    "# Create tuple edges in df_pred\n",
    "data_edges = list(zip(df_pred[\"from\"], df_pred[\"to\"]))\n",
    "\n",
    "df_pred.insert(2, \"edge_tuple\", value=data_edges)"
   ]
  },
  {
   "cell_type": "code",
   "execution_count": 79,
   "id": "d42a1b22-8124-4e18-940a-b075f31373a5",
   "metadata": {},
   "outputs": [
    {
     "data": {
      "text/html": [
       "<div>\n",
       "<style scoped>\n",
       "    .dataframe tbody tr th:only-of-type {\n",
       "        vertical-align: middle;\n",
       "    }\n",
       "\n",
       "    .dataframe tbody tr th {\n",
       "        vertical-align: top;\n",
       "    }\n",
       "\n",
       "    .dataframe thead th {\n",
       "        text-align: right;\n",
       "    }\n",
       "</style>\n",
       "<table border=\"1\" class=\"dataframe\">\n",
       "  <thead>\n",
       "    <tr style=\"text-align: right;\">\n",
       "      <th></th>\n",
       "      <th>from</th>\n",
       "      <th>to</th>\n",
       "      <th>edge_tuple</th>\n",
       "      <th>labels</th>\n",
       "      <th>pred_1</th>\n",
       "      <th>R-value</th>\n",
       "    </tr>\n",
       "  </thead>\n",
       "  <tbody>\n",
       "    <tr>\n",
       "      <th>0</th>\n",
       "      <td>AT1G27770</td>\n",
       "      <td>AT1G70610</td>\n",
       "      <td>(AT1G27770, AT1G70610)</td>\n",
       "      <td>1</td>\n",
       "      <td>3.256380e-02</td>\n",
       "      <td>r3</td>\n",
       "    </tr>\n",
       "    <tr>\n",
       "      <th>1</th>\n",
       "      <td>AT1G19350</td>\n",
       "      <td>AT4G32010</td>\n",
       "      <td>(AT1G19350, AT4G32010)</td>\n",
       "      <td>1</td>\n",
       "      <td>8.874350e-02</td>\n",
       "      <td>r3</td>\n",
       "    </tr>\n",
       "    <tr>\n",
       "      <th>2</th>\n",
       "      <td>AT3G25110</td>\n",
       "      <td>AT4G13050</td>\n",
       "      <td>(AT3G25110, AT4G13050)</td>\n",
       "      <td>1</td>\n",
       "      <td>4.672336e-07</td>\n",
       "      <td>r3</td>\n",
       "    </tr>\n",
       "    <tr>\n",
       "      <th>3</th>\n",
       "      <td>AT2G26760</td>\n",
       "      <td>AT4G33080</td>\n",
       "      <td>(AT2G26760, AT4G33080)</td>\n",
       "      <td>1</td>\n",
       "      <td>1.733723e-02</td>\n",
       "      <td>r4</td>\n",
       "    </tr>\n",
       "    <tr>\n",
       "      <th>4</th>\n",
       "      <td>AT1G75630</td>\n",
       "      <td>AT4G19030</td>\n",
       "      <td>(AT1G75630, AT4G19030)</td>\n",
       "      <td>1</td>\n",
       "      <td>3.527350e-01</td>\n",
       "      <td>r2</td>\n",
       "    </tr>\n",
       "    <tr>\n",
       "      <th>...</th>\n",
       "      <td>...</td>\n",
       "      <td>...</td>\n",
       "      <td>...</td>\n",
       "      <td>...</td>\n",
       "      <td>...</td>\n",
       "      <td>...</td>\n",
       "    </tr>\n",
       "    <tr>\n",
       "      <th>878595</th>\n",
       "      <td>AT5G60190</td>\n",
       "      <td>AT3G47220</td>\n",
       "      <td>(AT5G60190, AT3G47220)</td>\n",
       "      <td>0</td>\n",
       "      <td>8.271459e-01</td>\n",
       "      <td>NaN</td>\n",
       "    </tr>\n",
       "    <tr>\n",
       "      <th>878596</th>\n",
       "      <td>AT3G54110</td>\n",
       "      <td>AT2G22530</td>\n",
       "      <td>(AT3G54110, AT2G22530)</td>\n",
       "      <td>0</td>\n",
       "      <td>6.788519e-01</td>\n",
       "      <td>NaN</td>\n",
       "    </tr>\n",
       "    <tr>\n",
       "      <th>878597</th>\n",
       "      <td>AT4G09720</td>\n",
       "      <td>AT2G20620</td>\n",
       "      <td>(AT4G09720, AT2G20620)</td>\n",
       "      <td>0</td>\n",
       "      <td>7.506886e-01</td>\n",
       "      <td>NaN</td>\n",
       "    </tr>\n",
       "    <tr>\n",
       "      <th>878598</th>\n",
       "      <td>AT4G12410</td>\n",
       "      <td>AT5G58530</td>\n",
       "      <td>(AT4G12410, AT5G58530)</td>\n",
       "      <td>0</td>\n",
       "      <td>4.929302e-01</td>\n",
       "      <td>NaN</td>\n",
       "    </tr>\n",
       "    <tr>\n",
       "      <th>878599</th>\n",
       "      <td>AT2G20530</td>\n",
       "      <td>AT4G28830</td>\n",
       "      <td>(AT2G20530, AT4G28830)</td>\n",
       "      <td>0</td>\n",
       "      <td>9.833479e-03</td>\n",
       "      <td>NaN</td>\n",
       "    </tr>\n",
       "  </tbody>\n",
       "</table>\n",
       "<p>878600 rows × 6 columns</p>\n",
       "</div>"
      ],
      "text/plain": [
       "             from         to              edge_tuple  labels        pred_1  \\\n",
       "0       AT1G27770  AT1G70610  (AT1G27770, AT1G70610)       1  3.256380e-02   \n",
       "1       AT1G19350  AT4G32010  (AT1G19350, AT4G32010)       1  8.874350e-02   \n",
       "2       AT3G25110  AT4G13050  (AT3G25110, AT4G13050)       1  4.672336e-07   \n",
       "3       AT2G26760  AT4G33080  (AT2G26760, AT4G33080)       1  1.733723e-02   \n",
       "4       AT1G75630  AT4G19030  (AT1G75630, AT4G19030)       1  3.527350e-01   \n",
       "...           ...        ...                     ...     ...           ...   \n",
       "878595  AT5G60190  AT3G47220  (AT5G60190, AT3G47220)       0  8.271459e-01   \n",
       "878596  AT3G54110  AT2G22530  (AT3G54110, AT2G22530)       0  6.788519e-01   \n",
       "878597  AT4G09720  AT2G20620  (AT4G09720, AT2G20620)       0  7.506886e-01   \n",
       "878598  AT4G12410  AT5G58530  (AT4G12410, AT5G58530)       0  4.929302e-01   \n",
       "878599  AT2G20530  AT4G28830  (AT2G20530, AT4G28830)       0  9.833479e-03   \n",
       "\n",
       "       R-value  \n",
       "0           r3  \n",
       "1           r3  \n",
       "2           r3  \n",
       "3           r4  \n",
       "4           r2  \n",
       "...        ...  \n",
       "878595     NaN  \n",
       "878596     NaN  \n",
       "878597     NaN  \n",
       "878598     NaN  \n",
       "878599     NaN  \n",
       "\n",
       "[878600 rows x 6 columns]"
      ]
     },
     "execution_count": 79,
     "metadata": {},
     "output_type": "execute_result"
    }
   ],
   "source": [
    "# Map R-values from original data to positive edges in df_pred\n",
    "r_values = []\n",
    "for rid, row in df_pred.iterrows():\n",
    "    if g.has_edge(row[\"from\"], row[\"to\"]):\n",
    "        r_values.append(g.edges[row[\"from\"], row[\"to\"]][\"reliability\"])\n",
    "    else: \n",
    "        r_values.append(np.nan)\n",
    "df_pred[\"R-value\"] = r_values\n",
    "df_pred"
   ]
  },
  {
   "cell_type": "code",
   "execution_count": 67,
   "id": "b96ef6f1-138d-42c2-b613-b4078cd7abc5",
   "metadata": {},
   "outputs": [],
   "source": [
    "df_pred.to_csv(\"df_pred_poz&neg-links\", na_rep=\"?\", index= False)"
   ]
  },
  {
   "cell_type": "code",
   "execution_count": 68,
   "id": "2076822a-6c7d-4aed-b70b-6b7468a16437",
   "metadata": {},
   "outputs": [],
   "source": [
    "# # Map R-values from original data to pozitive edges in df_pred\n",
    "# df_loop = df_pred[df_pred.labels == 1].copy()\n",
    "\n",
    "# # for key in dict_org:\n",
    "# #     df_pred[df_pre.edge_tuple == key][\"R-value\"] = dict_org[key]\n",
    "\n",
    "# ## Vid: problem da slučajno dela ssaj se index spremeni!\n",
    "# for idx, row in df_loop.iterrows():\n",
    "#     try:\n",
    "#         df_pred.loc[idx, \"R-value\"] = dict_org[row.edge_tuple]\n",
    "#     except KeyError:\n",
    "#         df_pred.loc[idx, \"R-value\"] = np.nan"
   ]
  },
  {
   "cell_type": "code",
   "execution_count": 69,
   "id": "d0eb080f-1047-46e8-95d2-16072d4e24d3",
   "metadata": {},
   "outputs": [
    {
     "data": {
      "text/plain": [
       "r3    358271\n",
       "r2     34492\n",
       "r4     29214\n",
       "r1     17323\n",
       "Name: R-value, dtype: int64"
      ]
     },
     "execution_count": 69,
     "metadata": {},
     "output_type": "execute_result"
    }
   ],
   "source": [
    "df_poz = df_pred[df_pred.labels == 1]\n",
    "df_poz[\"R-value\"].value_counts(dropna=False)"
   ]
  },
  {
   "cell_type": "code",
   "execution_count": 70,
   "id": "406def22-86f8-49fd-9819-6c3157af4a25",
   "metadata": {
    "tags": []
   },
   "outputs": [
    {
     "data": {
      "text/plain": [
       "r3    0.815550\n",
       "r2    0.078516\n",
       "r4    0.066501\n",
       "r1    0.039433\n",
       "Name: R-value, dtype: float64"
      ]
     },
     "execution_count": 70,
     "metadata": {},
     "output_type": "execute_result"
    }
   ],
   "source": [
    "df_poz[\"R-value\"].value_counts(normalize=True)"
   ]
  },
  {
   "cell_type": "code",
   "execution_count": 71,
   "id": "3d0d8809-6fb4-47da-b7e2-da15a21d9795",
   "metadata": {},
   "outputs": [
    {
     "data": {
      "text/html": [
       "<div>\n",
       "<style scoped>\n",
       "    .dataframe tbody tr th:only-of-type {\n",
       "        vertical-align: middle;\n",
       "    }\n",
       "\n",
       "    .dataframe tbody tr th {\n",
       "        vertical-align: top;\n",
       "    }\n",
       "\n",
       "    .dataframe thead th {\n",
       "        text-align: right;\n",
       "    }\n",
       "</style>\n",
       "<table border=\"1\" class=\"dataframe\">\n",
       "  <thead>\n",
       "    <tr style=\"text-align: right;\">\n",
       "      <th></th>\n",
       "      <th>from</th>\n",
       "      <th>to</th>\n",
       "      <th>edge_tuple</th>\n",
       "      <th>labels</th>\n",
       "      <th>pred_1</th>\n",
       "      <th>R-value</th>\n",
       "    </tr>\n",
       "  </thead>\n",
       "  <tbody>\n",
       "    <tr>\n",
       "      <th>0</th>\n",
       "      <td>AT1G27770</td>\n",
       "      <td>AT1G70610</td>\n",
       "      <td>(AT1G27770, AT1G70610)</td>\n",
       "      <td>1</td>\n",
       "      <td>3.256380e-02</td>\n",
       "      <td>r3</td>\n",
       "    </tr>\n",
       "    <tr>\n",
       "      <th>1</th>\n",
       "      <td>AT1G19350</td>\n",
       "      <td>AT4G32010</td>\n",
       "      <td>(AT1G19350, AT4G32010)</td>\n",
       "      <td>1</td>\n",
       "      <td>8.874350e-02</td>\n",
       "      <td>r3</td>\n",
       "    </tr>\n",
       "    <tr>\n",
       "      <th>2</th>\n",
       "      <td>AT3G25110</td>\n",
       "      <td>AT4G13050</td>\n",
       "      <td>(AT3G25110, AT4G13050)</td>\n",
       "      <td>1</td>\n",
       "      <td>4.672336e-07</td>\n",
       "      <td>r3</td>\n",
       "    </tr>\n",
       "    <tr>\n",
       "      <th>3</th>\n",
       "      <td>AT2G26760</td>\n",
       "      <td>AT4G33080</td>\n",
       "      <td>(AT2G26760, AT4G33080)</td>\n",
       "      <td>1</td>\n",
       "      <td>1.733723e-02</td>\n",
       "      <td>r4</td>\n",
       "    </tr>\n",
       "    <tr>\n",
       "      <th>4</th>\n",
       "      <td>AT1G75630</td>\n",
       "      <td>AT4G19030</td>\n",
       "      <td>(AT1G75630, AT4G19030)</td>\n",
       "      <td>1</td>\n",
       "      <td>3.527350e-01</td>\n",
       "      <td>r2</td>\n",
       "    </tr>\n",
       "    <tr>\n",
       "      <th>...</th>\n",
       "      <td>...</td>\n",
       "      <td>...</td>\n",
       "      <td>...</td>\n",
       "      <td>...</td>\n",
       "      <td>...</td>\n",
       "      <td>...</td>\n",
       "    </tr>\n",
       "    <tr>\n",
       "      <th>439295</th>\n",
       "      <td>AT4G18960</td>\n",
       "      <td>AT5G27130</td>\n",
       "      <td>(AT4G18960, AT5G27130)</td>\n",
       "      <td>1</td>\n",
       "      <td>1.067391e-02</td>\n",
       "      <td>r1</td>\n",
       "    </tr>\n",
       "    <tr>\n",
       "      <th>439296</th>\n",
       "      <td>AT2G01430</td>\n",
       "      <td>AT5G51910</td>\n",
       "      <td>(AT2G01430, AT5G51910)</td>\n",
       "      <td>1</td>\n",
       "      <td>6.159160e-02</td>\n",
       "      <td>r3</td>\n",
       "    </tr>\n",
       "    <tr>\n",
       "      <th>439297</th>\n",
       "      <td>AT4G28450</td>\n",
       "      <td>AT3G01090</td>\n",
       "      <td>(AT4G28450, AT3G01090)</td>\n",
       "      <td>1</td>\n",
       "      <td>6.209789e-01</td>\n",
       "      <td>r3</td>\n",
       "    </tr>\n",
       "    <tr>\n",
       "      <th>439298</th>\n",
       "      <td>AT1G32640</td>\n",
       "      <td>AT3G56850</td>\n",
       "      <td>(AT1G32640, AT3G56850)</td>\n",
       "      <td>1</td>\n",
       "      <td>1.238139e-01</td>\n",
       "      <td>r3</td>\n",
       "    </tr>\n",
       "    <tr>\n",
       "      <th>439299</th>\n",
       "      <td>AT4G20360</td>\n",
       "      <td>AT5G20720</td>\n",
       "      <td>(AT4G20360, AT5G20720)</td>\n",
       "      <td>1</td>\n",
       "      <td>6.069625e-03</td>\n",
       "      <td>r3</td>\n",
       "    </tr>\n",
       "  </tbody>\n",
       "</table>\n",
       "<p>439300 rows × 6 columns</p>\n",
       "</div>"
      ],
      "text/plain": [
       "             from         to              edge_tuple  labels        pred_1  \\\n",
       "0       AT1G27770  AT1G70610  (AT1G27770, AT1G70610)       1  3.256380e-02   \n",
       "1       AT1G19350  AT4G32010  (AT1G19350, AT4G32010)       1  8.874350e-02   \n",
       "2       AT3G25110  AT4G13050  (AT3G25110, AT4G13050)       1  4.672336e-07   \n",
       "3       AT2G26760  AT4G33080  (AT2G26760, AT4G33080)       1  1.733723e-02   \n",
       "4       AT1G75630  AT4G19030  (AT1G75630, AT4G19030)       1  3.527350e-01   \n",
       "...           ...        ...                     ...     ...           ...   \n",
       "439295  AT4G18960  AT5G27130  (AT4G18960, AT5G27130)       1  1.067391e-02   \n",
       "439296  AT2G01430  AT5G51910  (AT2G01430, AT5G51910)       1  6.159160e-02   \n",
       "439297  AT4G28450  AT3G01090  (AT4G28450, AT3G01090)       1  6.209789e-01   \n",
       "439298  AT1G32640  AT3G56850  (AT1G32640, AT3G56850)       1  1.238139e-01   \n",
       "439299  AT4G20360  AT5G20720  (AT4G20360, AT5G20720)       1  6.069625e-03   \n",
       "\n",
       "       R-value  \n",
       "0           r3  \n",
       "1           r3  \n",
       "2           r3  \n",
       "3           r4  \n",
       "4           r2  \n",
       "...        ...  \n",
       "439295      r1  \n",
       "439296      r3  \n",
       "439297      r3  \n",
       "439298      r3  \n",
       "439299      r3  \n",
       "\n",
       "[439300 rows x 6 columns]"
      ]
     },
     "execution_count": 71,
     "metadata": {},
     "output_type": "execute_result"
    }
   ],
   "source": [
    "df_poz"
   ]
  },
  {
   "cell_type": "code",
   "execution_count": 96,
   "id": "44140001-88c3-4321-87a3-385651050a0d",
   "metadata": {},
   "outputs": [
    {
     "data": {
      "text/plain": [
       "r3    0.749892\n",
       "r2    0.198231\n",
       "r1    0.026747\n",
       "r4    0.025129\n",
       "Name: R-value, dtype: float64"
      ]
     },
     "execution_count": 96,
     "metadata": {},
     "output_type": "execute_result"
    }
   ],
   "source": [
    "df_poz.loc[df_poz[\"pred_1\"] >= 0.9][\"R-value\"].value_counts(normalize=True)"
   ]
  },
  {
   "cell_type": "code",
   "execution_count": null,
   "id": "2f30e22a-13db-454b-942d-3cc97d2d1717",
   "metadata": {},
   "outputs": [],
   "source": []
  },
  {
   "cell_type": "markdown",
   "id": "660b6c0b-4fc9-4b7a-9e8b-524993855275",
   "metadata": {},
   "source": [
    "### Graf korelacije R in predikcij \n"
   ]
  },
  {
   "cell_type": "code",
   "execution_count": 72,
   "id": "4443ccc1-6325-4372-9d5e-26970c853997",
   "metadata": {},
   "outputs": [],
   "source": [
    "# box graf; če naraščajo intervali (boxi) med Ri je kul, če ravno ni korelacije;"
   ]
  },
  {
   "cell_type": "code",
   "execution_count": 73,
   "id": "8c60027b-4158-40d4-92f3-d28464838bb0",
   "metadata": {},
   "outputs": [],
   "source": [
    "import matplotlib.pyplot as plt\n",
    "import seaborn as sns"
   ]
  },
  {
   "cell_type": "code",
   "execution_count": 74,
   "id": "b886a7be-17cd-43ac-b804-47571d552964",
   "metadata": {
    "tags": []
   },
   "outputs": [
    {
     "data": {
      "text/html": [
       "<div>\n",
       "<style scoped>\n",
       "    .dataframe tbody tr th:only-of-type {\n",
       "        vertical-align: middle;\n",
       "    }\n",
       "\n",
       "    .dataframe tbody tr th {\n",
       "        vertical-align: top;\n",
       "    }\n",
       "\n",
       "    .dataframe thead th {\n",
       "        text-align: right;\n",
       "    }\n",
       "</style>\n",
       "<table border=\"1\" class=\"dataframe\">\n",
       "  <thead>\n",
       "    <tr style=\"text-align: right;\">\n",
       "      <th></th>\n",
       "      <th>R-value</th>\n",
       "      <th>pred_1</th>\n",
       "    </tr>\n",
       "  </thead>\n",
       "  <tbody>\n",
       "    <tr>\n",
       "      <th>0</th>\n",
       "      <td>r3</td>\n",
       "      <td>3.256380e-02</td>\n",
       "    </tr>\n",
       "    <tr>\n",
       "      <th>1</th>\n",
       "      <td>r3</td>\n",
       "      <td>8.874350e-02</td>\n",
       "    </tr>\n",
       "    <tr>\n",
       "      <th>2</th>\n",
       "      <td>r3</td>\n",
       "      <td>4.672336e-07</td>\n",
       "    </tr>\n",
       "    <tr>\n",
       "      <th>3</th>\n",
       "      <td>r4</td>\n",
       "      <td>1.733723e-02</td>\n",
       "    </tr>\n",
       "    <tr>\n",
       "      <th>4</th>\n",
       "      <td>r2</td>\n",
       "      <td>3.527350e-01</td>\n",
       "    </tr>\n",
       "    <tr>\n",
       "      <th>...</th>\n",
       "      <td>...</td>\n",
       "      <td>...</td>\n",
       "    </tr>\n",
       "    <tr>\n",
       "      <th>439295</th>\n",
       "      <td>r1</td>\n",
       "      <td>1.067391e-02</td>\n",
       "    </tr>\n",
       "    <tr>\n",
       "      <th>439296</th>\n",
       "      <td>r3</td>\n",
       "      <td>6.159160e-02</td>\n",
       "    </tr>\n",
       "    <tr>\n",
       "      <th>439297</th>\n",
       "      <td>r3</td>\n",
       "      <td>6.209789e-01</td>\n",
       "    </tr>\n",
       "    <tr>\n",
       "      <th>439298</th>\n",
       "      <td>r3</td>\n",
       "      <td>1.238139e-01</td>\n",
       "    </tr>\n",
       "    <tr>\n",
       "      <th>439299</th>\n",
       "      <td>r3</td>\n",
       "      <td>6.069625e-03</td>\n",
       "    </tr>\n",
       "  </tbody>\n",
       "</table>\n",
       "<p>439300 rows × 2 columns</p>\n",
       "</div>"
      ],
      "text/plain": [
       "       R-value        pred_1\n",
       "0           r3  3.256380e-02\n",
       "1           r3  8.874350e-02\n",
       "2           r3  4.672336e-07\n",
       "3           r4  1.733723e-02\n",
       "4           r2  3.527350e-01\n",
       "...        ...           ...\n",
       "439295      r1  1.067391e-02\n",
       "439296      r3  6.159160e-02\n",
       "439297      r3  6.209789e-01\n",
       "439298      r3  1.238139e-01\n",
       "439299      r3  6.069625e-03\n",
       "\n",
       "[439300 rows x 2 columns]"
      ]
     },
     "execution_count": 74,
     "metadata": {},
     "output_type": "execute_result"
    }
   ],
   "source": [
    "plot_data = df_poz.loc[:, [\"R-value\", \"pred_1\"]]\n",
    "plot_data"
   ]
  },
  {
   "cell_type": "code",
   "execution_count": 75,
   "id": "8d57a4eb-0a7f-471d-b9a9-df82d80817f4",
   "metadata": {},
   "outputs": [
    {
     "data": {
      "text/plain": [
       "<AxesSubplot:>"
      ]
     },
     "execution_count": 75,
     "metadata": {},
     "output_type": "execute_result"
    },
    {
     "data": {
      "image/png": "[encoded data removed]",
      "text/plain": [
       "<Figure size 720x720 with 1 Axes>"
      ]
     },
     "metadata": {},
     "output_type": "display_data"
    }
   ],
   "source": [
    "plot_data[\"R-value\"].hist()"
   ]
  },
  {
   "cell_type": "code",
   "execution_count": 76,
   "id": "6b086db6-3325-4d9c-bcc0-237cf381f36d",
   "metadata": {
    "tags": []
   },
   "outputs": [
    {
     "data": {
      "text/plain": [
       "<AxesSubplot:>"
      ]
     },
     "execution_count": 76,
     "metadata": {},
     "output_type": "execute_result"
    },
    {
     "data": {
      "image/png": "[encoded data removed]",
      "text/plain": [
       "<Figure size 720x720 with 1 Axes>"
      ]
     },
     "metadata": {},
     "output_type": "display_data"
    }
   ],
   "source": [
    "plot_data.pred_1.hist()"
   ]
  },
  {
   "cell_type": "code",
   "execution_count": 92,
   "id": "104cb777-912d-4083-b7a3-f430e84e4c73",
   "metadata": {},
   "outputs": [
    {
     "data": {
      "image/png": "[encoded data removed]",
      "text/plain": [
       "<Figure size 720x720 with 1 Axes>"
      ]
     },
     "metadata": {},
     "output_type": "display_data"
    }
   ],
   "source": [
    "# plot with seaborn\n",
    "\n",
    "sns.set(rc={'figure.figsize':(10, 10)})\n",
    "sns.set_theme(style=\"whitegrid\")\n",
    "sns.violinplot(x=\"R-value\", \n",
    "                   y=\"pred_1\",\n",
    "                   data=plot_data, \n",
    "                   order=[\"r4\", \"r3\", \"r2\", \"r1\"], \n",
    "                       scale=\"count\",\n",
    "#                    inner=\"quartile\",\n",
    "#                    palette=\"Set2\",\n",
    "                   cut=0)\n",
    "\n",
    "plt.xlabel(\"r-value\")\n",
    "plt.ylabel(\"prediction\")\n",
    "plt.title(\"Plot of r-value and prediction realtion\")\n",
    "plt.savefig(\"CKN_violinPlot_1_0.png\")"
   ]
  },
  {
   "cell_type": "code",
   "execution_count": null,
   "id": "10852565-49fb-40ff-a92f-ad6c64ea1126",
   "metadata": {},
   "outputs": [],
   "source": []
  }
 ],
 "metadata": {
  "kernelspec": {
   "display_name": "Python 3 (ipykernel)",
   "language": "python",
   "name": "python3"
  },
  "language_info": {
   "codemirror_mode": {
    "name": "ipython",
    "version": 3
   },
   "file_extension": ".py",
   "mimetype": "text/x-python",
   "name": "python",
   "nbconvert_exporter": "python",
   "pygments_lexer": "ipython3",
   "version": "3.8.0"
  }
 },
 "nbformat": 4,
 "nbformat_minor": 5
}
