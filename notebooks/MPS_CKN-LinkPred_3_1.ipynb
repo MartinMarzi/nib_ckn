{
 "cells": [
  {
   "cell_type": "code",
   "execution_count": 1,
   "id": "dcf04f5a-14ba-4837-803c-080e1ddc7a26",
   "metadata": {},
   "outputs": [
    {
     "name": "stderr",
     "output_type": "stream",
     "text": [
      "2022-05-05 15:25:33.075657: I tensorflow/core/platform/cpu_feature_guard.cc:151] This TensorFlow binary is optimized with oneAPI Deep Neural Network Library (oneDNN) to use the following CPU instructions in performance-critical operations:  AVX2 FMA\n",
      "To enable them in other operations, rebuild TensorFlow with the appropriate compiler flags.\n"
     ]
    }
   ],
   "source": [
    "import matplotlib.pyplot as plt\n",
    "from math import isclose\n",
    "from sklearn.decomposition import PCA\n",
    "import os\n",
    "import networkx as nx\n",
    "import numpy as np\n",
    "import pandas as pd\n",
    "import csv\n",
    "from stellargraph import StellarGraph\n",
    "from stellargraph.data import EdgeSplitter\n",
    "from stellargraph.data import BiasedRandomWalk\n",
    "from collections import Counter\n",
    "import multiprocessing\n",
    "from IPython.display import display, HTML\n",
    "from sklearn.model_selection import train_test_split\n",
    "from gensim.models import Word2Vec"
   ]
  },
  {
   "cell_type": "markdown",
   "id": "de3715b0-5c72-4d8a-b13c-9aaac079d9c9",
   "metadata": {},
   "source": [
    "# Load dataset"
   ]
  },
  {
   "cell_type": "code",
   "execution_count": 2,
   "id": "9e563324-7df1-427f-ad27-387e6e4cc101",
   "metadata": {},
   "outputs": [],
   "source": [
    "# Create graph for csv file with edge weights (we loose some edges as this data would requirea a multidigraph)\n",
    "def parse_ckn_csv(fname):\n",
    "    g = nx.Graph()\n",
    "    fields = ['from', 'to', 'type', 'reliability']\n",
    "    with open(fname, newline='') as csvfile:\n",
    "        reader = csv.DictReader(csvfile, fieldnames=fields, dialect=csv.excel_tab, restkey='rest', )\n",
    "        for row in reader:\n",
    "            g.add_edge(row['from'], row['to'], type=row['type'], reliability=row['reliability'])\n",
    "#            if row['type'] == 'binding':\n",
    "#                g.add_edge(row['to'], row['from'], type=row['type'], reliability=row['reliability'])\n",
    "    return g"
   ]
  },
  {
   "cell_type": "code",
   "execution_count": 3,
   "id": "4c81bfb3-71b6-4805-9853-e2dbdd4c9c00",
   "metadata": {},
   "outputs": [],
   "source": [
    "g = parse_ckn_csv(\"../data/LKN_ath_v3B_2016-08-30.txt\")"
   ]
  },
  {
   "cell_type": "code",
   "execution_count": 4,
   "id": "6167dfc1-80f7-4f0a-a9f6-ec06f21e7f89",
   "metadata": {},
   "outputs": [
    {
     "data": {
      "text/plain": [
       "68503"
      ]
     },
     "execution_count": 4,
     "metadata": {},
     "output_type": "execute_result"
    }
   ],
   "source": [
    "# we lost 1500 edges bcs of using a simple graph\n",
    "g.number_of_edges()"
   ]
  },
  {
   "cell_type": "code",
   "execution_count": 5,
   "id": "35733941-8a6d-4889-8055-c8bacd30aac3",
   "metadata": {},
   "outputs": [
    {
     "name": "stdout",
     "output_type": "stream",
     "text": [
      "['6K1', '6K2', 'AT1G01010', 'AT1G01020', 'AT1G01030', 'AT1G01040', 'AT1G01050', 'AT1G01060', 'AT1G01070', 'AT1G01080', 'AT1G01090', 'AT1G01100', 'AT1G01110', 'AT1G01120', 'AT1G01130', 'AT1G01140', 'AT1G01150', 'AT1G01160', 'AT1G01170', 'AT1G01180']\n",
      "['MIR858', 'MIR859', 'MIR860', 'MIR861', 'MIR862', 'MIR863', 'MIR864', 'MIR865', 'MIR866', 'MIR867', 'MIR868', 'MIR869', 'MIR870', 'NIa-Pro', 'NIb', 'P1', 'P3', 'P3N-PIPO', 'R-gene', 'VPg']\n",
      "isolated nodes=[]\n"
     ]
    }
   ],
   "source": [
    "# Check for errors in the graph\n",
    "print(sorted(g.nodes)[:20])\n",
    "print(sorted(g.nodes)[-20:])\n",
    "isolated = list(nx.isolates(g))\n",
    "print(f\"isolated nodes={isolated}\")\n",
    "#g.remove_nodes_from(isolated)"
   ]
  },
  {
   "cell_type": "code",
   "execution_count": 6,
   "id": "dd575a0b-1b24-4e9c-979d-4ebe7fc00a9a",
   "metadata": {},
   "outputs": [
    {
     "data": {
      "text/plain": [
       "[('6K1', '6K2', {'type': 'binding', 'reliability': 'r1'}),\n",
       " ('6K1', 'CI', {'type': 'binding', 'reliability': 'r1'}),\n",
       " ('6K2', 'CI', {'type': 'binding', 'reliability': 'r1'}),\n",
       " ('6K2', 'NIa-Pro', {'type': 'binding', 'reliability': 'r1'}),\n",
       " ('6K2', 'VPg', {'type': 'binding', 'reliability': 'r1'}),\n",
       " ('CI', 'AT1G30380', {'type': 'binding', 'reliability': 'r1'}),\n",
       " ('CI', 'AT5G03160', {'type': 'binding', 'reliability': 'r1'}),\n",
       " ('CI', 'CI', {'type': 'binding', 'reliability': 'r1'}),\n",
       " ('CI', 'CP', {'type': 'binding', 'reliability': 'r1'}),\n",
       " ('CI', 'HC-Pro', {'type': 'binding', 'reliability': 'r1'})]"
      ]
     },
     "execution_count": 6,
     "metadata": {},
     "output_type": "execute_result"
    }
   ],
   "source": [
    "list(g.edges(data=True))[:10]"
   ]
  },
  {
   "cell_type": "code",
   "execution_count": 7,
   "id": "31ff990f-1635-4dac-8c99-1153c1f8dc6c",
   "metadata": {},
   "outputs": [
    {
     "name": "stdout",
     "output_type": "stream",
     "text": [
      "nodes=20011, edges=68503, density: 0.0003\n"
     ]
    }
   ],
   "source": [
    "# Some general characteristics of the graph\n",
    "print(f'nodes={g.number_of_nodes()}, edges={g.number_of_edges()}, density: {nx.density(g):.4f}')"
   ]
  },
  {
   "cell_type": "markdown",
   "id": "3af44223-e9e9-48ee-a23e-63a7440fbe05",
   "metadata": {},
   "source": [
    "Graph is sparse with a high number of weakly connected components and has a very low density (range 0-1)."
   ]
  },
  {
   "cell_type": "code",
   "execution_count": 8,
   "id": "d329d55f-7758-4790-8be1-90666658cbc0",
   "metadata": {},
   "outputs": [],
   "source": [
    "# # List of weakly connected components\n",
    "# [len(c) for c in sorted(nx.weakly_connected_components(g), key=len, reverse=True)][:25]"
   ]
  },
  {
   "cell_type": "code",
   "execution_count": 9,
   "id": "ca61eef7-66e8-4965-ab75-7c67a6164fad",
   "metadata": {},
   "outputs": [],
   "source": [
    "# from collections import Counter\n",
    "# from pprint import pprint\n",
    "# c_sizes = Counter()\n",
    "# for c in nx.weakly_connected_components(g):\n",
    "#     c_sizes[len(c)] += 1\n",
    "# pprint(sorted(c_sizes.items()))"
   ]
  },
  {
   "cell_type": "code",
   "execution_count": 10,
   "id": "dda87f9d-0f61-4c10-be75-5e26802b16fa",
   "metadata": {},
   "outputs": [
    {
     "data": {
      "text/plain": [
       "False"
      ]
     },
     "execution_count": 10,
     "metadata": {},
     "output_type": "execute_result"
    }
   ],
   "source": [
    "# Check whether the graph is connected\n",
    "nx.is_connected(g)"
   ]
  },
  {
   "cell_type": "code",
   "execution_count": 11,
   "id": "532685a3-4454-449a-8e9f-1f46e5a6ebb8",
   "metadata": {},
   "outputs": [
    {
     "name": "stdout",
     "output_type": "stream",
     "text": [
      "biggest component size=17550\n",
      "subgraph nodes=17550, subgraph edges=66031, density: 0.0004\n"
     ]
    }
   ],
   "source": [
    "# identify the largest connected component and create a corresponding subgraph\n",
    "max_c = max(nx.connected_components(g))\n",
    "print(f\"biggest component size={len(max_c)}\")\n",
    "g = nx.subgraph(g, max_c)\n",
    "\n",
    "# Some general characteristics of the subgraph\n",
    "print(f\"subgraph nodes={g.number_of_nodes()}, subgraph edges={g.number_of_edges()}, density: {nx.density(g):.4f}\")"
   ]
  },
  {
   "cell_type": "markdown",
   "id": "7843ab43-8aa1-4396-a2f0-bed082210342",
   "metadata": {},
   "source": [
    "There is only one large connected component the rest are negligible so we will consider only the largest component."
   ]
  },
  {
   "cell_type": "markdown",
   "id": "e27b0609-8fea-497e-bf50-2a4fab015eb2",
   "metadata": {},
   "source": [
    "# Link prediction"
   ]
  },
  {
   "cell_type": "code",
   "execution_count": 12,
   "id": "eb1d64d9-9646-400b-9f5e-b91f6798fb83",
   "metadata": {},
   "outputs": [],
   "source": [
    "# Create graph within the StellarGraph library\n",
    "G = StellarGraph.from_networkx(g)"
   ]
  },
  {
   "cell_type": "code",
   "execution_count": 13,
   "id": "2b359832-a5e3-445d-a907-c7285801a936",
   "metadata": {},
   "outputs": [
    {
     "name": "stdout",
     "output_type": "stream",
     "text": [
      "StellarGraph: Undirected multigraph\n",
      " Nodes: 17550, Edges: 66031\n",
      "\n",
      " Node types:\n",
      "  default: [17550]\n",
      "    Features: none\n",
      "    Edge types: default-default->default\n",
      "\n",
      " Edge types:\n",
      "    default-default->default: [66031]\n",
      "        Weights: all 1 (default)\n",
      "        Features: none\n"
     ]
    }
   ],
   "source": [
    "print(G.info())"
   ]
  },
  {
   "cell_type": "markdown",
   "id": "af103adf-15b2-4296-ac90-067ea19e271b",
   "metadata": {},
   "source": [
    "## Construct train-test splits of the graph data"
   ]
  },
  {
   "cell_type": "markdown",
   "id": "ce6f1bb4-7608-4cb0-90d4-c95321c30f1c",
   "metadata": {},
   "source": [
    "### Test Graph (graph_test)"
   ]
  },
  {
   "cell_type": "markdown",
   "id": "e8d8d199-0b9a-4791-9993-2ccbbbfe27d2",
   "metadata": {},
   "source": [
    "We create the test graph and test set of positive/negative edge examples from the full graph. \n",
    "* graph_test = reduced graph obtained by removing the test set of edges from the full graph. [same as source]\n",
    "* examples_test = set of positive/negative edge examples (node pairs) [np_array]\n",
    "* labels_test = labels of pos and neg edges (1, 0) [np_array]"
   ]
  },
  {
   "cell_type": "code",
   "execution_count": 14,
   "id": "e3ed5574-bf01-4df5-b0fb-8ffbdd6d8119",
   "metadata": {},
   "outputs": [
    {
     "name": "stdout",
     "output_type": "stream",
     "text": [
      "** Sampled 33015 positive and 33015 negative edges. **\n",
      "StellarGraph: Undirected multigraph\n",
      " Nodes: 17550, Edges: 33016\n",
      "\n",
      " Node types:\n",
      "  default: [17550]\n",
      "    Features: none\n",
      "    Edge types: default-default->default\n",
      "\n",
      " Edge types:\n",
      "    default-default->default: [33016]\n",
      "        Weights: all 1 (default)\n",
      "        Features: none\n"
     ]
    }
   ],
   "source": [
    "# Define an edge splitter on the original graph:\n",
    "edge_splitter_test = EdgeSplitter(G)\n",
    "\n",
    "# Randomly sample a fraction p of all positive links, and same number of negative links, from full graph, and obtain the\n",
    "# reduced graph graph_test with the sampled positive links removed:\n",
    "graph_test, examples_test, labels_test = edge_splitter_test.train_test_split(\n",
    "    p=0.5, method=\"global\"\n",
    ")\n",
    "\n",
    "print(graph_test.info())"
   ]
  },
  {
   "cell_type": "code",
   "execution_count": 15,
   "id": "f8b3b674-ab98-49c1-a32d-af577fe07b6b",
   "metadata": {},
   "outputs": [
    {
     "data": {
      "text/plain": [
       "66030"
      ]
     },
     "execution_count": 15,
     "metadata": {},
     "output_type": "execute_result"
    }
   ],
   "source": [
    "len(examples_test)"
   ]
  },
  {
   "cell_type": "code",
   "execution_count": 16,
   "id": "812c339b-5eb9-44c9-92c0-d6bca21f1677",
   "metadata": {},
   "outputs": [
    {
     "data": {
      "text/plain": [
       "array([1, 1, 1, ..., 0, 0, 0])"
      ]
     },
     "execution_count": 16,
     "metadata": {},
     "output_type": "execute_result"
    }
   ],
   "source": [
    "labels_test"
   ]
  },
  {
   "cell_type": "markdown",
   "id": "2ffdbd45-6fef-4fca-932e-faac2d83ef31",
   "metadata": {},
   "source": [
    "### Train Graph"
   ]
  },
  {
   "cell_type": "markdown",
   "id": "8ad5100d-0aa8-427b-90d0-6b04e3385ccc",
   "metadata": {},
   "source": [
    "We use EdgeSplitter on Test Graph and perform  train/test split to create:\n",
    "* Train Graph\n",
    "* Training set of edge examples\n",
    "* Model selection set of edge examples"
   ]
  },
  {
   "cell_type": "code",
   "execution_count": 17,
   "id": "2653b4f2-0461-4e0a-8635-9c5a01051cfe",
   "metadata": {},
   "outputs": [
    {
     "name": "stdout",
     "output_type": "stream",
     "text": [
      "** Sampled 3301 positive and 3301 negative edges. **\n",
      "StellarGraph: Undirected multigraph\n",
      " Nodes: 17550, Edges: 29715\n",
      "\n",
      " Node types:\n",
      "  default: [17550]\n",
      "    Features: none\n",
      "    Edge types: default-default->default\n",
      "\n",
      " Edge types:\n",
      "    default-default->default: [29715]\n",
      "        Weights: all 1 (default)\n",
      "        Features: none\n"
     ]
    }
   ],
   "source": [
    "# Same as above to produce a training subset from the Test Graph (graph_test)\n",
    "edge_splitter_train = EdgeSplitter(graph_test)\n",
    "graph_train, examples, labels = edge_splitter_train.train_test_split(\n",
    "    p=0.1, method=\"global\"\n",
    ")\n",
    "(\n",
    "    examples_train,\n",
    "    examples_model_selection,\n",
    "    labels_train,\n",
    "    labels_model_selection,\n",
    ") = train_test_split(examples, labels, train_size=0.75, test_size=0.25)\n",
    "\n",
    "print(graph_train.info())"
   ]
  },
  {
   "cell_type": "code",
   "execution_count": 18,
   "id": "85f6e699-33de-486b-90cf-a6f68b651590",
   "metadata": {},
   "outputs": [
    {
     "data": {
      "text/plain": [
       "4951"
      ]
     },
     "execution_count": 18,
     "metadata": {},
     "output_type": "execute_result"
    }
   ],
   "source": [
    "len(examples_train)"
   ]
  },
  {
   "cell_type": "markdown",
   "id": "2559e2ef-22ee-47fc-80ee-99617a00ebcb",
   "metadata": {},
   "source": [
    "Summary of the different splits that have been created"
   ]
  },
  {
   "cell_type": "code",
   "execution_count": 19,
   "id": "e7b7d704-8ca3-41c2-a406-f69a6484febc",
   "metadata": {},
   "outputs": [
    {
     "data": {
      "text/html": [
       "<div>\n",
       "<style scoped>\n",
       "    .dataframe tbody tr th:only-of-type {\n",
       "        vertical-align: middle;\n",
       "    }\n",
       "\n",
       "    .dataframe tbody tr th {\n",
       "        vertical-align: top;\n",
       "    }\n",
       "\n",
       "    .dataframe thead th {\n",
       "        text-align: right;\n",
       "    }\n",
       "</style>\n",
       "<table border=\"1\" class=\"dataframe\">\n",
       "  <thead>\n",
       "    <tr style=\"text-align: right;\">\n",
       "      <th></th>\n",
       "      <th>Number of Examples</th>\n",
       "      <th>Hidden from</th>\n",
       "      <th>Picked from</th>\n",
       "      <th>Use</th>\n",
       "    </tr>\n",
       "    <tr>\n",
       "      <th>Split</th>\n",
       "      <th></th>\n",
       "      <th></th>\n",
       "      <th></th>\n",
       "      <th></th>\n",
       "    </tr>\n",
       "  </thead>\n",
       "  <tbody>\n",
       "    <tr>\n",
       "      <th>Training Set</th>\n",
       "      <td>4951</td>\n",
       "      <td>Train Graph</td>\n",
       "      <td>Test Graph</td>\n",
       "      <td>Train the Link Classifier</td>\n",
       "    </tr>\n",
       "    <tr>\n",
       "      <th>Model Selection</th>\n",
       "      <td>1651</td>\n",
       "      <td>Train Graph</td>\n",
       "      <td>Test Graph</td>\n",
       "      <td>Select the best Link Classifier model</td>\n",
       "    </tr>\n",
       "    <tr>\n",
       "      <th>Test set</th>\n",
       "      <td>66030</td>\n",
       "      <td>Test Graph</td>\n",
       "      <td>Full Graph</td>\n",
       "      <td>Evaluate the best Link Classifier</td>\n",
       "    </tr>\n",
       "  </tbody>\n",
       "</table>\n",
       "</div>"
      ],
      "text/plain": [
       "                 Number of Examples  Hidden from Picked from  \\\n",
       "Split                                                          \n",
       "Training Set                   4951  Train Graph  Test Graph   \n",
       "Model Selection                1651  Train Graph  Test Graph   \n",
       "Test set                      66030   Test Graph  Full Graph   \n",
       "\n",
       "                                                   Use  \n",
       "Split                                                   \n",
       "Training Set                 Train the Link Classifier  \n",
       "Model Selection  Select the best Link Classifier model  \n",
       "Test set             Evaluate the best Link Classifier  "
      ]
     },
     "execution_count": 19,
     "metadata": {},
     "output_type": "execute_result"
    }
   ],
   "source": [
    "# Overview of splits created\n",
    "pd.DataFrame(\n",
    "    [\n",
    "        (\n",
    "            \"Training Set\",\n",
    "            len(examples_train),\n",
    "            \"Train Graph\",\n",
    "            \"Test Graph\",\n",
    "            \"Train the Link Classifier\",\n",
    "        ),\n",
    "        (\n",
    "            \"Model Selection\",\n",
    "            len(examples_model_selection),\n",
    "            \"Train Graph\",\n",
    "            \"Test Graph\",\n",
    "            \"Select the best Link Classifier model\",\n",
    "        ),\n",
    "        (\n",
    "            \"Test set\",\n",
    "            len(examples_test),\n",
    "            \"Test Graph\",\n",
    "            \"Full Graph\",\n",
    "            \"Evaluate the best Link Classifier\",\n",
    "        ),\n",
    "    ],\n",
    "    columns=(\"Split\", \"Number of Examples\", \"Hidden from\", \"Picked from\", \"Use\"),\n",
    ").set_index(\"Split\")"
   ]
  },
  {
   "cell_type": "markdown",
   "id": "1cb06fea-2c56-4a3c-bf6a-dd78f6096d33",
   "metadata": {},
   "source": [
    "## Node embeddings"
   ]
  },
  {
   "cell_type": "markdown",
   "id": "16dca1f3-7842-4e7d-b555-5870d93ad007",
   "metadata": {},
   "source": [
    "Use Node2vec to generate the node embeddings with random walks, which try to maintain the node similarity from the graph (proximity in the embedding space). Output are node pairs, which are used to train a Word2Vec model."
   ]
  },
  {
   "cell_type": "markdown",
   "id": "02db2150-f5c2-4924-96c8-7d3686c4863b",
   "metadata": {},
   "source": [
    "### Node2Vec "
   ]
  },
  {
   "cell_type": "code",
   "execution_count": 20,
   "id": "48c4e078-76dd-43ad-a8b0-0f62eebf8f7d",
   "metadata": {},
   "outputs": [],
   "source": [
    "# parameters\n",
    "p = 1.0\n",
    "q = 1.0\n",
    "dimensions = 128\n",
    "num_walks = 50\n",
    "walk_length = 40\n",
    "window_size = 5\n",
    "epochs = 1\n",
    "workers = int(multiprocessing.cpu_count() / 2)"
   ]
  },
  {
   "cell_type": "code",
   "execution_count": 21,
   "id": "0abbff06-bd6d-4304-9457-5f0e5af10c82",
   "metadata": {},
   "outputs": [],
   "source": [
    "def node2vec_embedding(graph, name):\n",
    "    rw = BiasedRandomWalk(graph)\n",
    "    walks = rw.run(graph.nodes(), n=num_walks, length=walk_length, p=p, q=q)\n",
    "    print(f\"Number of random walks for '{name}': {len(walks)}\")\n",
    "    \n",
    "    model = Word2Vec(\n",
    "        walks,\n",
    "        vector_size=dimensions,\n",
    "        window=window_size,\n",
    "        min_count=0,\n",
    "        sg=1,\n",
    "        workers=workers,\n",
    "        epochs=epochs,\n",
    "    )\n",
    "    \n",
    "    def get_embedding(u):\n",
    "        return model.wv[u]\n",
    "    \n",
    "    return get_embedding"
   ]
  },
  {
   "cell_type": "code",
   "execution_count": 22,
   "id": "1c33590d-3d5f-4e48-b027-1fd2cebad20e",
   "metadata": {},
   "outputs": [
    {
     "name": "stdout",
     "output_type": "stream",
     "text": [
      "Number of random walks for 'Train Graph': 877500\n"
     ]
    }
   ],
   "source": [
    "embedding_train = node2vec_embedding(graph_train, \"Train Graph\")\n",
    "# lahk tudi kar tukaj poženeš classifier"
   ]
  },
  {
   "cell_type": "markdown",
   "id": "e7c46578-9ed2-423a-a642-375263cfcaa1",
   "metadata": {},
   "source": [
    "## Train and evaluate the link prediction model"
   ]
  },
  {
   "cell_type": "markdown",
   "id": "c0445958-45ce-4705-b74b-2f93b9623483",
   "metadata": {},
   "source": [
    "To use Word2Vec model for link prediction we need to perform these steps:\n",
    "1. Calculate the edge embeddings for positive and negative edge samples by applying a binary operator on the embeddings of the source and target nodes\n",
    "2. Train classifier to predict a binary label\n",
    "3. Evaluate the performance of the link classifier for each binary operator on training data with node embeddings calculated on the Train Graph and select the best classifier\n",
    "4. The best classifier is used to calculate scores on the test data with node embeddings calcluated on the Test Graph."
   ]
  },
  {
   "cell_type": "code",
   "execution_count": 23,
   "id": "8d942015-65fd-44eb-a058-70f692e67010",
   "metadata": {},
   "outputs": [],
   "source": [
    "from sklearn.pipeline import Pipeline\n",
    "from sklearn.linear_model import LogisticRegressionCV\n",
    "from sklearn.metrics import roc_auc_score\n",
    "from sklearn.preprocessing import StandardScaler\n",
    "\n",
    "# 1. Edge embeddings\n",
    "def link_examples_to_features(link_examples, transform_node, binary_operator):\n",
    "    return [\n",
    "        binary_operator(transform_node(src), transform_node(dst))\n",
    "        for src, dst in link_examples\n",
    "    ]\n",
    "\n",
    "# 2. Training classifier\n",
    "def train_link_prediction_model(\n",
    "    link_examples, link_labels, get_embedding, binary_operator\n",
    "):\n",
    "    clf = link_prediction_classifier()\n",
    "    link_features = link_examples_to_features(\n",
    "        link_examples, get_embedding, binary_operator\n",
    "    )\n",
    "    clf.fit(link_features, link_labels)\n",
    "    return clf\n",
    "\n",
    "def link_prediction_classifier(max_iter=2000):\n",
    "    lr_clf = LogisticRegressionCV(Cs=10, cv=10, scoring=\"roc_auc\", max_iter=max_iter)\n",
    "    return Pipeline(steps=[(\"sc\", StandardScaler()), (\"clf\", lr_clf)])\n",
    "                                                          \n",
    "# 3. and 4. evaluate classifier\n",
    "def evaluate_link_prediction_model(\n",
    "    clf, link_examples_test, link_labels_test, get_embedding, binary_operator\n",
    "):\n",
    "    link_features_test = link_examples_to_features(\n",
    "        link_examples_test, get_embedding, binary_operator\n",
    "    )\n",
    "    score, predicted = evaluate_roc_auc(clf, link_features_test, link_labels_test)\n",
    "    return score, predicted\n",
    "\n",
    "def evaluate_roc_auc(clf, link_features, link_labels):\n",
    "    predicted = clf.predict_proba(link_features) ## verjetnosti za napovedi \n",
    "\n",
    "    # check which class corresponds to positive links\n",
    "    positive_column = list(clf.classes_).index(1)\n",
    "    return roc_auc_score(link_labels, predicted[:, positive_column]), predicted"
   ]
  },
  {
   "cell_type": "markdown",
   "id": "6d5a2184-e03a-4274-9494-ee24690058cd",
   "metadata": {},
   "source": [
    "We use 4 different binary operators that produce link embeddings that have equal dimensionality to the input node embeddings. "
   ]
  },
  {
   "cell_type": "code",
   "execution_count": 24,
   "id": "a2066104-4747-43f9-9440-b8096848632b",
   "metadata": {},
   "outputs": [],
   "source": [
    "def operator_hadamard(u, v):\n",
    "    return u * v\n",
    "\n",
    "\n",
    "def operator_l1(u, v):\n",
    "    return np.abs(u - v)\n",
    "\n",
    "\n",
    "def operator_l2(u, v):\n",
    "    return (u - v) ** 2\n",
    "\n",
    "\n",
    "def operator_avg(u, v):\n",
    "    return (u + v) / 2.0\n",
    "\n",
    "\n",
    "def run_link_prediction(binary_operator):\n",
    "    clf = train_link_prediction_model(\n",
    "        examples_train, labels_train, embedding_train, binary_operator\n",
    "    )\n",
    "    score = evaluate_link_prediction_model(\n",
    "        clf,\n",
    "        examples_model_selection,\n",
    "        labels_model_selection,\n",
    "        embedding_train,\n",
    "        binary_operator,\n",
    "    )\n",
    "\n",
    "    return {\n",
    "        \"classifier\": clf,\n",
    "        \"binary_operator\": binary_operator,\n",
    "        \"score\": score,\n",
    "    }\n",
    "\n",
    "\n",
    "binary_operators = [operator_hadamard, operator_l1, operator_l2, operator_avg]"
   ]
  },
  {
   "cell_type": "code",
   "execution_count": 25,
   "id": "ea0eb8fd-8111-4cb6-a50b-6791dccdf9b2",
   "metadata": {},
   "outputs": [
    {
     "name": "stdout",
     "output_type": "stream",
     "text": [
      "Best result from 'operator_hadamard'\n"
     ]
    },
    {
     "data": {
      "text/html": [
       "<div>\n",
       "<style scoped>\n",
       "    .dataframe tbody tr th:only-of-type {\n",
       "        vertical-align: middle;\n",
       "    }\n",
       "\n",
       "    .dataframe tbody tr th {\n",
       "        vertical-align: top;\n",
       "    }\n",
       "\n",
       "    .dataframe thead th {\n",
       "        text-align: right;\n",
       "    }\n",
       "</style>\n",
       "<table border=\"1\" class=\"dataframe\">\n",
       "  <thead>\n",
       "    <tr style=\"text-align: right;\">\n",
       "      <th></th>\n",
       "      <th>ROC AUC score</th>\n",
       "    </tr>\n",
       "    <tr>\n",
       "      <th>name</th>\n",
       "      <th></th>\n",
       "    </tr>\n",
       "  </thead>\n",
       "  <tbody>\n",
       "    <tr>\n",
       "      <th>operator_hadamard</th>\n",
       "      <td>(0.747062121025352, [[0.39817708203833635, 0.6...</td>\n",
       "    </tr>\n",
       "    <tr>\n",
       "      <th>operator_l1</th>\n",
       "      <td>(0.6825740633126127, [[0.5268957582660603, 0.4...</td>\n",
       "    </tr>\n",
       "    <tr>\n",
       "      <th>operator_l2</th>\n",
       "      <td>(0.685532486895475, [[0.5045823472115719, 0.49...</td>\n",
       "    </tr>\n",
       "    <tr>\n",
       "      <th>operator_avg</th>\n",
       "      <td>(0.6746511819019612, [[0.2730298373852569, 0.7...</td>\n",
       "    </tr>\n",
       "  </tbody>\n",
       "</table>\n",
       "</div>"
      ],
      "text/plain": [
       "                                                       ROC AUC score\n",
       "name                                                                \n",
       "operator_hadamard  (0.747062121025352, [[0.39817708203833635, 0.6...\n",
       "operator_l1        (0.6825740633126127, [[0.5268957582660603, 0.4...\n",
       "operator_l2        (0.685532486895475, [[0.5045823472115719, 0.49...\n",
       "operator_avg       (0.6746511819019612, [[0.2730298373852569, 0.7..."
      ]
     },
     "execution_count": 25,
     "metadata": {},
     "output_type": "execute_result"
    }
   ],
   "source": [
    "results = [run_link_prediction(op) for op in binary_operators]\n",
    "best_result = max(results, key=lambda result: result[\"score\"])\n",
    "\n",
    "print(f\"Best result from '{best_result['binary_operator'].__name__}'\")\n",
    "      \n",
    "pd.DataFrame(\n",
    "    [(result[\"binary_operator\"].__name__, result[\"score\"]) for result in results],\n",
    "    columns=(\"name\", \"ROC AUC score\"),\n",
    ").set_index(\"name\")"
   ]
  },
  {
   "cell_type": "markdown",
   "id": "709c2011-d02b-42fe-87df-bfc471879c15",
   "metadata": {},
   "source": [
    "### Evaluate the best model using the test set"
   ]
  },
  {
   "cell_type": "markdown",
   "id": "762b6c47-2cd5-4a46-8555-56b5f46f6c5c",
   "metadata": {},
   "source": [
    "We now use the test set of embeddings and calculate a final evaluation score. "
   ]
  },
  {
   "cell_type": "code",
   "execution_count": 26,
   "id": "112e9f27-d273-454f-8346-a991d6a72f94",
   "metadata": {},
   "outputs": [
    {
     "name": "stdout",
     "output_type": "stream",
     "text": [
      "Number of random walks for 'Test Graph': 877500\n"
     ]
    }
   ],
   "source": [
    "embedding_test = node2vec_embedding(graph_test, \"Test Graph\")"
   ]
  },
  {
   "cell_type": "code",
   "execution_count": 27,
   "id": "a9e53998-e052-456f-8486-dee10d50eb13",
   "metadata": {},
   "outputs": [
    {
     "name": "stdout",
     "output_type": "stream",
     "text": [
      "ROC AUC score on test set using 'operator_hadamard': 0.6865614065483936\n"
     ]
    }
   ],
   "source": [
    "test_score, predicted = evaluate_link_prediction_model(\n",
    "    best_result[\"classifier\"],\n",
    "    examples_test,\n",
    "    labels_test,\n",
    "    embedding_test,\n",
    "    best_result[\"binary_operator\"],\n",
    ")\n",
    "print(\n",
    "    f\"ROC AUC score on test set using '{best_result['binary_operator'].__name__}': {test_score}\"\n",
    ")"
   ]
  },
  {
   "cell_type": "markdown",
   "id": "d0116aa8-3ba9-4609-aead-0b66409429a7",
   "metadata": {},
   "source": [
    "### Create df of edges with R values and predictions"
   ]
  },
  {
   "cell_type": "code",
   "execution_count": 28,
   "id": "af093387-83f9-491b-9a63-86a4273cdf81",
   "metadata": {},
   "outputs": [
    {
     "data": {
      "text/plain": [
       "array([['AT4G00870', 'AT2G35310'],\n",
       "       ['AT5G61850', 'AT5G38410'],\n",
       "       ['AT4G34210', 'AT1G55000'],\n",
       "       ...,\n",
       "       ['AT2G27650', 'AT5G46030'],\n",
       "       ['AT2G42530', 'MIR5650'],\n",
       "       ['AT4G12390', 'AT2G25850']], dtype=object)"
      ]
     },
     "execution_count": 28,
     "metadata": {},
     "output_type": "execute_result"
    }
   ],
   "source": [
    "# Edges test examples is set of positive/negative edge examples (node pairs) that were removed from the full graph. [np_array]\n",
    "examples_test"
   ]
  },
  {
   "cell_type": "code",
   "execution_count": 29,
   "id": "9ca8b0a9-4bb4-4110-b537-f12867b227f6",
   "metadata": {},
   "outputs": [
    {
     "data": {
      "text/plain": [
       "array([1, 1, 1, ..., 0, 0, 0])"
      ]
     },
     "execution_count": 29,
     "metadata": {},
     "output_type": "execute_result"
    }
   ],
   "source": [
    "# Labels of pos and neg edges (1, 0) for test edges examples [np_array]\n",
    "labels_test"
   ]
  },
  {
   "cell_type": "code",
   "execution_count": 30,
   "id": "e5f899f3-cf17-47f6-93e1-a6bbe1c7c372",
   "metadata": {},
   "outputs": [
    {
     "data": {
      "text/plain": [
       "array([[6.85053209e-01, 3.14946791e-01],\n",
       "       [2.28031943e-01, 7.71968057e-01],\n",
       "       [9.59173300e-04, 9.99040827e-01],\n",
       "       ...,\n",
       "       [3.29811314e-01, 6.70188686e-01],\n",
       "       [1.13141979e-01, 8.86858021e-01],\n",
       "       [1.33035795e-01, 8.66964205e-01]])"
      ]
     },
     "execution_count": 30,
     "metadata": {},
     "output_type": "execute_result"
    }
   ],
   "source": [
    "# Label predicitons for each edge test example\n",
    "predicted"
   ]
  },
  {
   "cell_type": "code",
   "execution_count": 52,
   "id": "9d754134-432c-4df5-974d-3440f6317241",
   "metadata": {},
   "outputs": [
    {
     "data": {
      "text/html": [
       "<div>\n",
       "<style scoped>\n",
       "    .dataframe tbody tr th:only-of-type {\n",
       "        vertical-align: middle;\n",
       "    }\n",
       "\n",
       "    .dataframe tbody tr th {\n",
       "        vertical-align: top;\n",
       "    }\n",
       "\n",
       "    .dataframe thead th {\n",
       "        text-align: right;\n",
       "    }\n",
       "</style>\n",
       "<table border=\"1\" class=\"dataframe\">\n",
       "  <thead>\n",
       "    <tr style=\"text-align: right;\">\n",
       "      <th></th>\n",
       "      <th>from</th>\n",
       "      <th>to</th>\n",
       "      <th>labels</th>\n",
       "      <th>pred_0</th>\n",
       "      <th>pred_1</th>\n",
       "      <th>R-value</th>\n",
       "    </tr>\n",
       "  </thead>\n",
       "  <tbody>\n",
       "    <tr>\n",
       "      <th>0</th>\n",
       "      <td>AT4G00870</td>\n",
       "      <td>AT2G35310</td>\n",
       "      <td>1</td>\n",
       "      <td>0.685053</td>\n",
       "      <td>0.314947</td>\n",
       "      <td>NaN</td>\n",
       "    </tr>\n",
       "    <tr>\n",
       "      <th>1</th>\n",
       "      <td>AT5G61850</td>\n",
       "      <td>AT5G38410</td>\n",
       "      <td>1</td>\n",
       "      <td>0.228032</td>\n",
       "      <td>0.771968</td>\n",
       "      <td>NaN</td>\n",
       "    </tr>\n",
       "    <tr>\n",
       "      <th>2</th>\n",
       "      <td>AT4G34210</td>\n",
       "      <td>AT1G55000</td>\n",
       "      <td>1</td>\n",
       "      <td>0.000959</td>\n",
       "      <td>0.999041</td>\n",
       "      <td>NaN</td>\n",
       "    </tr>\n",
       "    <tr>\n",
       "      <th>3</th>\n",
       "      <td>AT1G16170</td>\n",
       "      <td>AT2G07040</td>\n",
       "      <td>1</td>\n",
       "      <td>0.203536</td>\n",
       "      <td>0.796464</td>\n",
       "      <td>NaN</td>\n",
       "    </tr>\n",
       "    <tr>\n",
       "      <th>4</th>\n",
       "      <td>AT5G21920</td>\n",
       "      <td>AT4G16444</td>\n",
       "      <td>1</td>\n",
       "      <td>0.166337</td>\n",
       "      <td>0.833663</td>\n",
       "      <td>NaN</td>\n",
       "    </tr>\n",
       "    <tr>\n",
       "      <th>...</th>\n",
       "      <td>...</td>\n",
       "      <td>...</td>\n",
       "      <td>...</td>\n",
       "      <td>...</td>\n",
       "      <td>...</td>\n",
       "      <td>...</td>\n",
       "    </tr>\n",
       "    <tr>\n",
       "      <th>66025</th>\n",
       "      <td>AT1G12100</td>\n",
       "      <td>AT1G01820</td>\n",
       "      <td>0</td>\n",
       "      <td>0.237389</td>\n",
       "      <td>0.762611</td>\n",
       "      <td>NaN</td>\n",
       "    </tr>\n",
       "    <tr>\n",
       "      <th>66026</th>\n",
       "      <td>AT2G26030</td>\n",
       "      <td>AT2G26500</td>\n",
       "      <td>0</td>\n",
       "      <td>0.681331</td>\n",
       "      <td>0.318669</td>\n",
       "      <td>NaN</td>\n",
       "    </tr>\n",
       "    <tr>\n",
       "      <th>66027</th>\n",
       "      <td>AT2G27650</td>\n",
       "      <td>AT5G46030</td>\n",
       "      <td>0</td>\n",
       "      <td>0.329811</td>\n",
       "      <td>0.670189</td>\n",
       "      <td>NaN</td>\n",
       "    </tr>\n",
       "    <tr>\n",
       "      <th>66028</th>\n",
       "      <td>AT2G42530</td>\n",
       "      <td>MIR5650</td>\n",
       "      <td>0</td>\n",
       "      <td>0.113142</td>\n",
       "      <td>0.886858</td>\n",
       "      <td>NaN</td>\n",
       "    </tr>\n",
       "    <tr>\n",
       "      <th>66029</th>\n",
       "      <td>AT4G12390</td>\n",
       "      <td>AT2G25850</td>\n",
       "      <td>0</td>\n",
       "      <td>0.133036</td>\n",
       "      <td>0.866964</td>\n",
       "      <td>NaN</td>\n",
       "    </tr>\n",
       "  </tbody>\n",
       "</table>\n",
       "<p>66030 rows × 6 columns</p>\n",
       "</div>"
      ],
      "text/plain": [
       "            from         to  labels    pred_0    pred_1  R-value\n",
       "0      AT4G00870  AT2G35310       1  0.685053  0.314947      NaN\n",
       "1      AT5G61850  AT5G38410       1  0.228032  0.771968      NaN\n",
       "2      AT4G34210  AT1G55000       1  0.000959  0.999041      NaN\n",
       "3      AT1G16170  AT2G07040       1  0.203536  0.796464      NaN\n",
       "4      AT5G21920  AT4G16444       1  0.166337  0.833663      NaN\n",
       "...          ...        ...     ...       ...       ...      ...\n",
       "66025  AT1G12100  AT1G01820       0  0.237389  0.762611      NaN\n",
       "66026  AT2G26030  AT2G26500       0  0.681331  0.318669      NaN\n",
       "66027  AT2G27650  AT5G46030       0  0.329811  0.670189      NaN\n",
       "66028  AT2G42530    MIR5650       0  0.113142  0.886858      NaN\n",
       "66029  AT4G12390  AT2G25850       0  0.133036  0.866964      NaN\n",
       "\n",
       "[66030 rows x 6 columns]"
      ]
     },
     "execution_count": 52,
     "metadata": {},
     "output_type": "execute_result"
    }
   ],
   "source": [
    "# # Create df with the test data and predictions\n",
    "# df_pred = pd.DataFrame(examples_test, columns=[\"from\", \"to\"])\n",
    "# df_pred[\"labels\"] = labels_test\n",
    "# df_pred[[\"pred_1\", \"pred_0\"]] = pd.DataFrame(predicted, columns=[\"pred_1\", \"pred_0\"])\n",
    "# df_pred.drop([\"pred_0\"], axis=1, inplace=True)\n",
    "# df_pred[\"R-value\"] = np.nan\n",
    "# df_pred\n",
    "\n",
    "df_pred = pd.DataFrame(examples_test, columns=[\"from\", \"to\"])\n",
    "df_pred[\"labels\"] = labels_test\n",
    "df_pred[[\"pred_0\", \"pred_1\"]] = pd.DataFrame(predicted)\n",
    "# df_pred.drop([\"pred_0\"], axis=1, inplace=True)\n",
    "df_pred[\"R-value\"] = np.nan\n",
    "df_pred"
   ]
  },
  {
   "cell_type": "code",
   "execution_count": 53,
   "id": "fa1e9c0c-7f9c-42e7-932c-65eadf57408f",
   "metadata": {},
   "outputs": [
    {
     "data": {
      "text/html": [
       "<div>\n",
       "<style scoped>\n",
       "    .dataframe tbody tr th:only-of-type {\n",
       "        vertical-align: middle;\n",
       "    }\n",
       "\n",
       "    .dataframe tbody tr th {\n",
       "        vertical-align: top;\n",
       "    }\n",
       "\n",
       "    .dataframe thead th {\n",
       "        text-align: right;\n",
       "    }\n",
       "</style>\n",
       "<table border=\"1\" class=\"dataframe\">\n",
       "  <thead>\n",
       "    <tr style=\"text-align: right;\">\n",
       "      <th></th>\n",
       "      <th>from</th>\n",
       "      <th>to</th>\n",
       "      <th>interaction</th>\n",
       "      <th>R-value</th>\n",
       "      <th>pis</th>\n",
       "    </tr>\n",
       "  </thead>\n",
       "  <tbody>\n",
       "    <tr>\n",
       "      <th>0</th>\n",
       "      <td>6K1</td>\n",
       "      <td>6K2</td>\n",
       "      <td>binding</td>\n",
       "      <td>r1</td>\n",
       "      <td>NaN</td>\n",
       "    </tr>\n",
       "    <tr>\n",
       "      <th>1</th>\n",
       "      <td>6K1</td>\n",
       "      <td>CI</td>\n",
       "      <td>binding</td>\n",
       "      <td>r1</td>\n",
       "      <td>NaN</td>\n",
       "    </tr>\n",
       "    <tr>\n",
       "      <th>2</th>\n",
       "      <td>6K2</td>\n",
       "      <td>CI</td>\n",
       "      <td>binding</td>\n",
       "      <td>r1</td>\n",
       "      <td>NaN</td>\n",
       "    </tr>\n",
       "    <tr>\n",
       "      <th>3</th>\n",
       "      <td>6K2</td>\n",
       "      <td>NIa-Pro</td>\n",
       "      <td>binding</td>\n",
       "      <td>r1</td>\n",
       "      <td>NaN</td>\n",
       "    </tr>\n",
       "    <tr>\n",
       "      <th>4</th>\n",
       "      <td>6K2</td>\n",
       "      <td>VPg</td>\n",
       "      <td>binding</td>\n",
       "      <td>r1</td>\n",
       "      <td>NaN</td>\n",
       "    </tr>\n",
       "    <tr>\n",
       "      <th>...</th>\n",
       "      <td>...</td>\n",
       "      <td>...</td>\n",
       "      <td>...</td>\n",
       "      <td>...</td>\n",
       "      <td>...</td>\n",
       "    </tr>\n",
       "    <tr>\n",
       "      <th>70085</th>\n",
       "      <td>NIb</td>\n",
       "      <td>VPg</td>\n",
       "      <td>binding</td>\n",
       "      <td>r1</td>\n",
       "      <td>NaN</td>\n",
       "    </tr>\n",
       "    <tr>\n",
       "      <th>70086</th>\n",
       "      <td>P1</td>\n",
       "      <td>VPg</td>\n",
       "      <td>binding</td>\n",
       "      <td>r1</td>\n",
       "      <td>NaN</td>\n",
       "    </tr>\n",
       "    <tr>\n",
       "      <th>70087</th>\n",
       "      <td>R-gene</td>\n",
       "      <td>AT2G43790</td>\n",
       "      <td>activation</td>\n",
       "      <td>r5</td>\n",
       "      <td>PIS</td>\n",
       "    </tr>\n",
       "    <tr>\n",
       "      <th>70088</th>\n",
       "      <td>R-gene</td>\n",
       "      <td>AT3G45640</td>\n",
       "      <td>activation</td>\n",
       "      <td>r5</td>\n",
       "      <td>PIS</td>\n",
       "    </tr>\n",
       "    <tr>\n",
       "      <th>70089</th>\n",
       "      <td>VPg</td>\n",
       "      <td>VPg</td>\n",
       "      <td>binding</td>\n",
       "      <td>r1</td>\n",
       "      <td>NaN</td>\n",
       "    </tr>\n",
       "  </tbody>\n",
       "</table>\n",
       "<p>70090 rows × 5 columns</p>\n",
       "</div>"
      ],
      "text/plain": [
       "         from         to interaction R-value  pis\n",
       "0         6K1        6K2     binding      r1  NaN\n",
       "1         6K1         CI     binding      r1  NaN\n",
       "2         6K2         CI     binding      r1  NaN\n",
       "3         6K2    NIa-Pro     binding      r1  NaN\n",
       "4         6K2        VPg     binding      r1  NaN\n",
       "...       ...        ...         ...     ...  ...\n",
       "70085     NIb        VPg     binding      r1  NaN\n",
       "70086      P1        VPg     binding      r1  NaN\n",
       "70087  R-gene  AT2G43790  activation      r5  PIS\n",
       "70088  R-gene  AT3G45640  activation      r5  PIS\n",
       "70089     VPg        VPg     binding      r1  NaN\n",
       "\n",
       "[70090 rows x 5 columns]"
      ]
     },
     "execution_count": 53,
     "metadata": {},
     "output_type": "execute_result"
    }
   ],
   "source": [
    "df = pd.read_csv(\"../data/LKN_ath_v3B_2016-08-30.txt\", \n",
    "                 names=[\"from\", \"to\", \"interaction\", \"R-value\", \"pis\"], sep=\"\\t\", header=None)\n",
    "df"
   ]
  },
  {
   "cell_type": "code",
   "execution_count": 54,
   "id": "65da2b26-b52c-4e75-a404-881596e7bb10",
   "metadata": {},
   "outputs": [
    {
     "data": {
      "text/plain": [
       "binding       34758\n",
       "unk_TF        24653\n",
       "act_TF         5569\n",
       "inh_ncRNA      2904\n",
       "inh_TF         1685\n",
       "synthesis       209\n",
       "activation      180\n",
       "inhibition      132\n",
       "Name: interaction, dtype: int64"
      ]
     },
     "execution_count": 54,
     "metadata": {},
     "output_type": "execute_result"
    }
   ],
   "source": [
    "df[\"interaction\"].value_counts()"
   ]
  },
  {
   "cell_type": "code",
   "execution_count": 55,
   "id": "016769f7-b144-4fb4-a30b-fc7007b31b0f",
   "metadata": {},
   "outputs": [
    {
     "name": "stdout",
     "output_type": "stream",
     "text": [
      "70090\n"
     ]
    }
   ],
   "source": [
    "# test un uniqueness\n",
    "a = set()\n",
    "for i, row in df.iterrows():\n",
    "    a.add((row[\"from\"], row[\"to\"], row[\"interaction\"]))\n",
    "print(len(a))\n",
    "    "
   ]
  },
  {
   "cell_type": "code",
   "execution_count": 56,
   "id": "f7ea2fd0-9870-444c-8960-414d4b3aba5f",
   "metadata": {},
   "outputs": [],
   "source": [
    "# # Add R value to df_pred\n",
    "# df_loop = df_pred.copy()\n",
    "# for idx_pred, row_pred in df_loop.iterrows():\n",
    "#     for idx_org, row_org in df.iterrows():\n",
    "#         if list(row_org[[\"from\", \"to\"]]) == list(row_pred[[\"from\", \"to\"]]):\n",
    "#             df_pred.loc[idx_pred, \"R-value\"] = row_org[\"R-value\"]"
   ]
  },
  {
   "cell_type": "code",
   "execution_count": 57,
   "id": "94002eb7-c5f0-4cb5-be34-ba7f72d0579f",
   "metadata": {},
   "outputs": [],
   "source": [
    "# Create dictionary edge : R-value from original df\n",
    "dict_org ={}\n",
    "\n",
    "for row in df.itertuples(name=None):\n",
    "    dict_org[row[1:3]] = row[4]\n",
    "\n",
    "# Create tuple edges in df_pred\n",
    "data_edges = list(zip(df_pred[\"from\"], df_pred[\"to\"]))\n",
    "\n",
    "df_pred.insert(2, \"edge_tuple\", value=data_edges)"
   ]
  },
  {
   "cell_type": "code",
   "execution_count": 58,
   "id": "d42a1b22-8124-4e18-940a-b075f31373a5",
   "metadata": {},
   "outputs": [
    {
     "data": {
      "text/html": [
       "<div>\n",
       "<style scoped>\n",
       "    .dataframe tbody tr th:only-of-type {\n",
       "        vertical-align: middle;\n",
       "    }\n",
       "\n",
       "    .dataframe tbody tr th {\n",
       "        vertical-align: top;\n",
       "    }\n",
       "\n",
       "    .dataframe thead th {\n",
       "        text-align: right;\n",
       "    }\n",
       "</style>\n",
       "<table border=\"1\" class=\"dataframe\">\n",
       "  <thead>\n",
       "    <tr style=\"text-align: right;\">\n",
       "      <th></th>\n",
       "      <th>from</th>\n",
       "      <th>to</th>\n",
       "      <th>edge_tuple</th>\n",
       "      <th>labels</th>\n",
       "      <th>pred_0</th>\n",
       "      <th>pred_1</th>\n",
       "      <th>R-value</th>\n",
       "    </tr>\n",
       "  </thead>\n",
       "  <tbody>\n",
       "    <tr>\n",
       "      <th>0</th>\n",
       "      <td>AT4G00870</td>\n",
       "      <td>AT2G35310</td>\n",
       "      <td>(AT4G00870, AT2G35310)</td>\n",
       "      <td>1</td>\n",
       "      <td>0.685053</td>\n",
       "      <td>0.314947</td>\n",
       "      <td>r4</td>\n",
       "    </tr>\n",
       "    <tr>\n",
       "      <th>1</th>\n",
       "      <td>AT5G61850</td>\n",
       "      <td>AT5G38410</td>\n",
       "      <td>(AT5G61850, AT5G38410)</td>\n",
       "      <td>1</td>\n",
       "      <td>0.228032</td>\n",
       "      <td>0.771968</td>\n",
       "      <td>r1</td>\n",
       "    </tr>\n",
       "    <tr>\n",
       "      <th>2</th>\n",
       "      <td>AT4G34210</td>\n",
       "      <td>AT1G55000</td>\n",
       "      <td>(AT4G34210, AT1G55000)</td>\n",
       "      <td>1</td>\n",
       "      <td>0.000959</td>\n",
       "      <td>0.999041</td>\n",
       "      <td>r1</td>\n",
       "    </tr>\n",
       "    <tr>\n",
       "      <th>3</th>\n",
       "      <td>AT1G16170</td>\n",
       "      <td>AT2G07040</td>\n",
       "      <td>(AT1G16170, AT2G07040)</td>\n",
       "      <td>1</td>\n",
       "      <td>0.203536</td>\n",
       "      <td>0.796464</td>\n",
       "      <td>r2</td>\n",
       "    </tr>\n",
       "    <tr>\n",
       "      <th>4</th>\n",
       "      <td>AT5G21920</td>\n",
       "      <td>AT4G16444</td>\n",
       "      <td>(AT5G21920, AT4G16444)</td>\n",
       "      <td>1</td>\n",
       "      <td>0.166337</td>\n",
       "      <td>0.833663</td>\n",
       "      <td>r2</td>\n",
       "    </tr>\n",
       "    <tr>\n",
       "      <th>...</th>\n",
       "      <td>...</td>\n",
       "      <td>...</td>\n",
       "      <td>...</td>\n",
       "      <td>...</td>\n",
       "      <td>...</td>\n",
       "      <td>...</td>\n",
       "      <td>...</td>\n",
       "    </tr>\n",
       "    <tr>\n",
       "      <th>66025</th>\n",
       "      <td>AT1G12100</td>\n",
       "      <td>AT1G01820</td>\n",
       "      <td>(AT1G12100, AT1G01820)</td>\n",
       "      <td>0</td>\n",
       "      <td>0.237389</td>\n",
       "      <td>0.762611</td>\n",
       "      <td>NaN</td>\n",
       "    </tr>\n",
       "    <tr>\n",
       "      <th>66026</th>\n",
       "      <td>AT2G26030</td>\n",
       "      <td>AT2G26500</td>\n",
       "      <td>(AT2G26030, AT2G26500)</td>\n",
       "      <td>0</td>\n",
       "      <td>0.681331</td>\n",
       "      <td>0.318669</td>\n",
       "      <td>NaN</td>\n",
       "    </tr>\n",
       "    <tr>\n",
       "      <th>66027</th>\n",
       "      <td>AT2G27650</td>\n",
       "      <td>AT5G46030</td>\n",
       "      <td>(AT2G27650, AT5G46030)</td>\n",
       "      <td>0</td>\n",
       "      <td>0.329811</td>\n",
       "      <td>0.670189</td>\n",
       "      <td>NaN</td>\n",
       "    </tr>\n",
       "    <tr>\n",
       "      <th>66028</th>\n",
       "      <td>AT2G42530</td>\n",
       "      <td>MIR5650</td>\n",
       "      <td>(AT2G42530, MIR5650)</td>\n",
       "      <td>0</td>\n",
       "      <td>0.113142</td>\n",
       "      <td>0.886858</td>\n",
       "      <td>NaN</td>\n",
       "    </tr>\n",
       "    <tr>\n",
       "      <th>66029</th>\n",
       "      <td>AT4G12390</td>\n",
       "      <td>AT2G25850</td>\n",
       "      <td>(AT4G12390, AT2G25850)</td>\n",
       "      <td>0</td>\n",
       "      <td>0.133036</td>\n",
       "      <td>0.866964</td>\n",
       "      <td>NaN</td>\n",
       "    </tr>\n",
       "  </tbody>\n",
       "</table>\n",
       "<p>66030 rows × 7 columns</p>\n",
       "</div>"
      ],
      "text/plain": [
       "            from         to              edge_tuple  labels    pred_0  \\\n",
       "0      AT4G00870  AT2G35310  (AT4G00870, AT2G35310)       1  0.685053   \n",
       "1      AT5G61850  AT5G38410  (AT5G61850, AT5G38410)       1  0.228032   \n",
       "2      AT4G34210  AT1G55000  (AT4G34210, AT1G55000)       1  0.000959   \n",
       "3      AT1G16170  AT2G07040  (AT1G16170, AT2G07040)       1  0.203536   \n",
       "4      AT5G21920  AT4G16444  (AT5G21920, AT4G16444)       1  0.166337   \n",
       "...          ...        ...                     ...     ...       ...   \n",
       "66025  AT1G12100  AT1G01820  (AT1G12100, AT1G01820)       0  0.237389   \n",
       "66026  AT2G26030  AT2G26500  (AT2G26030, AT2G26500)       0  0.681331   \n",
       "66027  AT2G27650  AT5G46030  (AT2G27650, AT5G46030)       0  0.329811   \n",
       "66028  AT2G42530    MIR5650    (AT2G42530, MIR5650)       0  0.113142   \n",
       "66029  AT4G12390  AT2G25850  (AT4G12390, AT2G25850)       0  0.133036   \n",
       "\n",
       "         pred_1 R-value  \n",
       "0      0.314947      r4  \n",
       "1      0.771968      r1  \n",
       "2      0.999041      r1  \n",
       "3      0.796464      r2  \n",
       "4      0.833663      r2  \n",
       "...         ...     ...  \n",
       "66025  0.762611     NaN  \n",
       "66026  0.318669     NaN  \n",
       "66027  0.670189     NaN  \n",
       "66028  0.886858     NaN  \n",
       "66029  0.866964     NaN  \n",
       "\n",
       "[66030 rows x 7 columns]"
      ]
     },
     "execution_count": 58,
     "metadata": {},
     "output_type": "execute_result"
    }
   ],
   "source": [
    "# Map R-values from original data to pozitive edges in df_pred\n",
    "r_values = []\n",
    "for rid, row in df_pred.iterrows():\n",
    "    if g.has_edge(row[\"from\"], row[\"to\"]):\n",
    "        r_values.append(g.edges[row[\"from\"], row[\"to\"]][\"reliability\"])\n",
    "    else: \n",
    "        r_values.append(np.nan)\n",
    "df_pred[\"R-value\"] = r_values\n",
    "df_pred"
   ]
  },
  {
   "cell_type": "code",
   "execution_count": 59,
   "id": "2076822a-6c7d-4aed-b70b-6b7468a16437",
   "metadata": {},
   "outputs": [],
   "source": [
    "# # Map R-values from original data to pozitive edges in df_pred\n",
    "# df_loop = df_pred[df_pred.labels == 1].copy()\n",
    "\n",
    "# # for key in dict_org:\n",
    "# #     df_pred[df_pre.edge_tuple == key][\"R-value\"] = dict_org[key]\n",
    "\n",
    "# ## Vid: problem da slučajno dela ssaj se index spremeni!\n",
    "# for idx, row in df_loop.iterrows():\n",
    "#     try:\n",
    "#         df_pred.loc[idx, \"R-value\"] = dict_org[row.edge_tuple]\n",
    "#     except KeyError:\n",
    "#         df_pred.loc[idx, \"R-value\"] = np.nan"
   ]
  },
  {
   "cell_type": "code",
   "execution_count": 60,
   "id": "d0eb080f-1047-46e8-95d2-16072d4e24d3",
   "metadata": {},
   "outputs": [
    {
     "data": {
      "text/plain": [
       "r2    16748\n",
       "r1     9035\n",
       "r4     5869\n",
       "r3     1106\n",
       "r5      257\n",
       "Name: R-value, dtype: int64"
      ]
     },
     "execution_count": 60,
     "metadata": {},
     "output_type": "execute_result"
    }
   ],
   "source": [
    "df_poz = df_pred[df_pred.labels == 1]\n",
    "df_poz[\"R-value\"].value_counts(dropna=False)"
   ]
  },
  {
   "cell_type": "code",
   "execution_count": 61,
   "id": "406def22-86f8-49fd-9819-6c3157af4a25",
   "metadata": {
    "tags": []
   },
   "outputs": [
    {
     "data": {
      "text/plain": [
       "r2    0.507285\n",
       "r1    0.273663\n",
       "r4    0.177768\n",
       "r3    0.033500\n",
       "r5    0.007784\n",
       "Name: R-value, dtype: float64"
      ]
     },
     "execution_count": 61,
     "metadata": {},
     "output_type": "execute_result"
    }
   ],
   "source": [
    "df_poz[\"R-value\"].value_counts(normalize=True)"
   ]
  },
  {
   "cell_type": "code",
   "execution_count": 62,
   "id": "3d0d8809-6fb4-47da-b7e2-da15a21d9795",
   "metadata": {},
   "outputs": [
    {
     "data": {
      "text/html": [
       "<div>\n",
       "<style scoped>\n",
       "    .dataframe tbody tr th:only-of-type {\n",
       "        vertical-align: middle;\n",
       "    }\n",
       "\n",
       "    .dataframe tbody tr th {\n",
       "        vertical-align: top;\n",
       "    }\n",
       "\n",
       "    .dataframe thead th {\n",
       "        text-align: right;\n",
       "    }\n",
       "</style>\n",
       "<table border=\"1\" class=\"dataframe\">\n",
       "  <thead>\n",
       "    <tr style=\"text-align: right;\">\n",
       "      <th></th>\n",
       "      <th>from</th>\n",
       "      <th>to</th>\n",
       "      <th>edge_tuple</th>\n",
       "      <th>labels</th>\n",
       "      <th>pred_0</th>\n",
       "      <th>pred_1</th>\n",
       "      <th>R-value</th>\n",
       "    </tr>\n",
       "  </thead>\n",
       "  <tbody>\n",
       "    <tr>\n",
       "      <th>0</th>\n",
       "      <td>AT4G00870</td>\n",
       "      <td>AT2G35310</td>\n",
       "      <td>(AT4G00870, AT2G35310)</td>\n",
       "      <td>1</td>\n",
       "      <td>0.685053</td>\n",
       "      <td>0.314947</td>\n",
       "      <td>r4</td>\n",
       "    </tr>\n",
       "    <tr>\n",
       "      <th>1</th>\n",
       "      <td>AT5G61850</td>\n",
       "      <td>AT5G38410</td>\n",
       "      <td>(AT5G61850, AT5G38410)</td>\n",
       "      <td>1</td>\n",
       "      <td>0.228032</td>\n",
       "      <td>0.771968</td>\n",
       "      <td>r1</td>\n",
       "    </tr>\n",
       "    <tr>\n",
       "      <th>2</th>\n",
       "      <td>AT4G34210</td>\n",
       "      <td>AT1G55000</td>\n",
       "      <td>(AT4G34210, AT1G55000)</td>\n",
       "      <td>1</td>\n",
       "      <td>0.000959</td>\n",
       "      <td>0.999041</td>\n",
       "      <td>r1</td>\n",
       "    </tr>\n",
       "    <tr>\n",
       "      <th>3</th>\n",
       "      <td>AT1G16170</td>\n",
       "      <td>AT2G07040</td>\n",
       "      <td>(AT1G16170, AT2G07040)</td>\n",
       "      <td>1</td>\n",
       "      <td>0.203536</td>\n",
       "      <td>0.796464</td>\n",
       "      <td>r2</td>\n",
       "    </tr>\n",
       "    <tr>\n",
       "      <th>4</th>\n",
       "      <td>AT5G21920</td>\n",
       "      <td>AT4G16444</td>\n",
       "      <td>(AT5G21920, AT4G16444)</td>\n",
       "      <td>1</td>\n",
       "      <td>0.166337</td>\n",
       "      <td>0.833663</td>\n",
       "      <td>r2</td>\n",
       "    </tr>\n",
       "    <tr>\n",
       "      <th>...</th>\n",
       "      <td>...</td>\n",
       "      <td>...</td>\n",
       "      <td>...</td>\n",
       "      <td>...</td>\n",
       "      <td>...</td>\n",
       "      <td>...</td>\n",
       "      <td>...</td>\n",
       "    </tr>\n",
       "    <tr>\n",
       "      <th>33010</th>\n",
       "      <td>AT4G37680</td>\n",
       "      <td>AT2G38330</td>\n",
       "      <td>(AT4G37680, AT2G38330)</td>\n",
       "      <td>1</td>\n",
       "      <td>0.151490</td>\n",
       "      <td>0.848510</td>\n",
       "      <td>r2</td>\n",
       "    </tr>\n",
       "    <tr>\n",
       "      <th>33011</th>\n",
       "      <td>AT4G17220</td>\n",
       "      <td>AT4G02720</td>\n",
       "      <td>(AT4G17220, AT4G02720)</td>\n",
       "      <td>1</td>\n",
       "      <td>0.002287</td>\n",
       "      <td>0.997713</td>\n",
       "      <td>r2</td>\n",
       "    </tr>\n",
       "    <tr>\n",
       "      <th>33012</th>\n",
       "      <td>AT3G15030</td>\n",
       "      <td>AT1G60990</td>\n",
       "      <td>(AT3G15030, AT1G60990)</td>\n",
       "      <td>1</td>\n",
       "      <td>0.679340</td>\n",
       "      <td>0.320660</td>\n",
       "      <td>r4</td>\n",
       "    </tr>\n",
       "    <tr>\n",
       "      <th>33013</th>\n",
       "      <td>AT5G63790</td>\n",
       "      <td>AT1G78070</td>\n",
       "      <td>(AT5G63790, AT1G78070)</td>\n",
       "      <td>1</td>\n",
       "      <td>0.362757</td>\n",
       "      <td>0.637243</td>\n",
       "      <td>r4</td>\n",
       "    </tr>\n",
       "    <tr>\n",
       "      <th>33014</th>\n",
       "      <td>AT5G13790</td>\n",
       "      <td>AT3G19450</td>\n",
       "      <td>(AT5G13790, AT3G19450)</td>\n",
       "      <td>1</td>\n",
       "      <td>0.451714</td>\n",
       "      <td>0.548286</td>\n",
       "      <td>r2</td>\n",
       "    </tr>\n",
       "  </tbody>\n",
       "</table>\n",
       "<p>33015 rows × 7 columns</p>\n",
       "</div>"
      ],
      "text/plain": [
       "            from         to              edge_tuple  labels    pred_0  \\\n",
       "0      AT4G00870  AT2G35310  (AT4G00870, AT2G35310)       1  0.685053   \n",
       "1      AT5G61850  AT5G38410  (AT5G61850, AT5G38410)       1  0.228032   \n",
       "2      AT4G34210  AT1G55000  (AT4G34210, AT1G55000)       1  0.000959   \n",
       "3      AT1G16170  AT2G07040  (AT1G16170, AT2G07040)       1  0.203536   \n",
       "4      AT5G21920  AT4G16444  (AT5G21920, AT4G16444)       1  0.166337   \n",
       "...          ...        ...                     ...     ...       ...   \n",
       "33010  AT4G37680  AT2G38330  (AT4G37680, AT2G38330)       1  0.151490   \n",
       "33011  AT4G17220  AT4G02720  (AT4G17220, AT4G02720)       1  0.002287   \n",
       "33012  AT3G15030  AT1G60990  (AT3G15030, AT1G60990)       1  0.679340   \n",
       "33013  AT5G63790  AT1G78070  (AT5G63790, AT1G78070)       1  0.362757   \n",
       "33014  AT5G13790  AT3G19450  (AT5G13790, AT3G19450)       1  0.451714   \n",
       "\n",
       "         pred_1 R-value  \n",
       "0      0.314947      r4  \n",
       "1      0.771968      r1  \n",
       "2      0.999041      r1  \n",
       "3      0.796464      r2  \n",
       "4      0.833663      r2  \n",
       "...         ...     ...  \n",
       "33010  0.848510      r2  \n",
       "33011  0.997713      r2  \n",
       "33012  0.320660      r4  \n",
       "33013  0.637243      r4  \n",
       "33014  0.548286      r2  \n",
       "\n",
       "[33015 rows x 7 columns]"
      ]
     },
     "execution_count": 62,
     "metadata": {},
     "output_type": "execute_result"
    }
   ],
   "source": [
    "df_poz"
   ]
  },
  {
   "cell_type": "code",
   "execution_count": 63,
   "id": "2c54a8dc-6e6e-4a73-ae0d-a6c775141e5d",
   "metadata": {},
   "outputs": [
    {
     "data": {
      "text/plain": [
       "r1    0.366693\n",
       "r2    0.365973\n",
       "r4    0.242494\n",
       "r5    0.014328\n",
       "r3    0.010512\n",
       "Name: R-value, dtype: float64"
      ]
     },
     "execution_count": 63,
     "metadata": {},
     "output_type": "execute_result"
    }
   ],
   "source": [
    "# Check distribution of R-value among high predictions for label 1 (existing link).\n",
    "df_poz.loc[df_poz[\"pred_1\"] >= 0.90][\"R-value\"].value_counts(normalize=True)"
   ]
  },
  {
   "cell_type": "markdown",
   "id": "660b6c0b-4fc9-4b7a-9e8b-524993855275",
   "metadata": {},
   "source": [
    "### Graf korelacije R in predikcij \n"
   ]
  },
  {
   "cell_type": "code",
   "execution_count": 64,
   "id": "4443ccc1-6325-4372-9d5e-26970c853997",
   "metadata": {},
   "outputs": [],
   "source": [
    "# box graf; če naraščajo intervali (boxi) med Ri je kul, če ravno ni korelacije;"
   ]
  },
  {
   "cell_type": "code",
   "execution_count": 65,
   "id": "8c60027b-4158-40d4-92f3-d28464838bb0",
   "metadata": {},
   "outputs": [],
   "source": [
    "import matplotlib.pyplot as plt\n",
    "import seaborn as sns"
   ]
  },
  {
   "cell_type": "code",
   "execution_count": 66,
   "id": "b886a7be-17cd-43ac-b804-47571d552964",
   "metadata": {
    "tags": []
   },
   "outputs": [
    {
     "data": {
      "text/html": [
       "<div>\n",
       "<style scoped>\n",
       "    .dataframe tbody tr th:only-of-type {\n",
       "        vertical-align: middle;\n",
       "    }\n",
       "\n",
       "    .dataframe tbody tr th {\n",
       "        vertical-align: top;\n",
       "    }\n",
       "\n",
       "    .dataframe thead th {\n",
       "        text-align: right;\n",
       "    }\n",
       "</style>\n",
       "<table border=\"1\" class=\"dataframe\">\n",
       "  <thead>\n",
       "    <tr style=\"text-align: right;\">\n",
       "      <th></th>\n",
       "      <th>R-value</th>\n",
       "      <th>pred_1</th>\n",
       "    </tr>\n",
       "  </thead>\n",
       "  <tbody>\n",
       "    <tr>\n",
       "      <th>0</th>\n",
       "      <td>r4</td>\n",
       "      <td>0.314947</td>\n",
       "    </tr>\n",
       "    <tr>\n",
       "      <th>1</th>\n",
       "      <td>r1</td>\n",
       "      <td>0.771968</td>\n",
       "    </tr>\n",
       "    <tr>\n",
       "      <th>2</th>\n",
       "      <td>r1</td>\n",
       "      <td>0.999041</td>\n",
       "    </tr>\n",
       "    <tr>\n",
       "      <th>3</th>\n",
       "      <td>r2</td>\n",
       "      <td>0.796464</td>\n",
       "    </tr>\n",
       "    <tr>\n",
       "      <th>4</th>\n",
       "      <td>r2</td>\n",
       "      <td>0.833663</td>\n",
       "    </tr>\n",
       "    <tr>\n",
       "      <th>...</th>\n",
       "      <td>...</td>\n",
       "      <td>...</td>\n",
       "    </tr>\n",
       "    <tr>\n",
       "      <th>33010</th>\n",
       "      <td>r2</td>\n",
       "      <td>0.848510</td>\n",
       "    </tr>\n",
       "    <tr>\n",
       "      <th>33011</th>\n",
       "      <td>r2</td>\n",
       "      <td>0.997713</td>\n",
       "    </tr>\n",
       "    <tr>\n",
       "      <th>33012</th>\n",
       "      <td>r4</td>\n",
       "      <td>0.320660</td>\n",
       "    </tr>\n",
       "    <tr>\n",
       "      <th>33013</th>\n",
       "      <td>r4</td>\n",
       "      <td>0.637243</td>\n",
       "    </tr>\n",
       "    <tr>\n",
       "      <th>33014</th>\n",
       "      <td>r2</td>\n",
       "      <td>0.548286</td>\n",
       "    </tr>\n",
       "  </tbody>\n",
       "</table>\n",
       "<p>33015 rows × 2 columns</p>\n",
       "</div>"
      ],
      "text/plain": [
       "      R-value    pred_1\n",
       "0          r4  0.314947\n",
       "1          r1  0.771968\n",
       "2          r1  0.999041\n",
       "3          r2  0.796464\n",
       "4          r2  0.833663\n",
       "...       ...       ...\n",
       "33010      r2  0.848510\n",
       "33011      r2  0.997713\n",
       "33012      r4  0.320660\n",
       "33013      r4  0.637243\n",
       "33014      r2  0.548286\n",
       "\n",
       "[33015 rows x 2 columns]"
      ]
     },
     "execution_count": 66,
     "metadata": {},
     "output_type": "execute_result"
    }
   ],
   "source": [
    "plot_data = df_poz.loc[:, [\"R-value\", \"pred_1\"]]\n",
    "plot_data"
   ]
  },
  {
   "cell_type": "code",
   "execution_count": 67,
   "id": "8d57a4eb-0a7f-471d-b9a9-df82d80817f4",
   "metadata": {},
   "outputs": [
    {
     "data": {
      "text/plain": [
       "<AxesSubplot:>"
      ]
     },
     "execution_count": 67,
     "metadata": {},
     "output_type": "execute_result"
    },
    {
     "data": {
      "image/png": "[encoded data removed]",
      "text/plain": [
       "<Figure size 720x720 with 1 Axes>"
      ]
     },
     "metadata": {},
     "output_type": "display_data"
    }
   ],
   "source": [
    "plot_data[\"R-value\"].hist()"
   ]
  },
  {
   "cell_type": "code",
   "execution_count": 68,
   "id": "6b086db6-3325-4d9c-bcc0-237cf381f36d",
   "metadata": {
    "tags": []
   },
   "outputs": [
    {
     "data": {
      "text/plain": [
       "<AxesSubplot:>"
      ]
     },
     "execution_count": 68,
     "metadata": {},
     "output_type": "execute_result"
    },
    {
     "data": {
      "image/png": "[encoded data removed]",
      "text/plain": [
       "<Figure size 720x720 with 1 Axes>"
      ]
     },
     "metadata": {},
     "output_type": "display_data"
    }
   ],
   "source": [
    "plot_data.pred_1.hist()"
   ]
  },
  {
   "cell_type": "code",
   "execution_count": 70,
   "id": "104cb777-912d-4083-b7a3-f430e84e4c73",
   "metadata": {},
   "outputs": [
    {
     "data": {
      "image/png": "[encoded data removed]",
      "text/plain": [
       "<Figure size 720x720 with 1 Axes>"
      ]
     },
     "metadata": {},
     "output_type": "display_data"
    }
   ],
   "source": [
    "# plot with seaborn\n",
    "\n",
    "sns.set(rc={'figure.figsize':(10, 10)})\n",
    "sns.set_theme(style=\"whitegrid\")\n",
    "sns.violinplot(x=\"R-value\", \n",
    "                   y=\"pred_1\",\n",
    "                   data=plot_data, \n",
    "                   order=[\"r5\", \"r4\", \"r3\", \"r2\", \"r1\"], \n",
    "                   scale=\"count\",\n",
    "#                    inner=\"quartile\",\n",
    "#                    palette=\"Set2\",\n",
    "                   cut=0)\n",
    "\n",
    "plt.xlabel(\"r-value\")\n",
    "plt.ylabel(\"prediction\")\n",
    "plt.title(\"Plot of r-value and prediction realtion\")\n",
    "plt.savefig(\"CKN_violinPlot_MPS_1_0.png\")"
   ]
  },
  {
   "cell_type": "code",
   "execution_count": null,
   "id": "10852565-49fb-40ff-a92f-ad6c64ea1126",
   "metadata": {},
   "outputs": [],
   "source": []
  }
 ],
 "metadata": {
  "kernelspec": {
   "display_name": "Python 3 (ipykernel)",
   "language": "python",
   "name": "python3"
  },
  "language_info": {
   "codemirror_mode": {
    "name": "ipython",
    "version": 3
   },
   "file_extension": ".py",
   "mimetype": "text/x-python",
   "name": "python",
   "nbconvert_exporter": "python",
   "pygments_lexer": "ipython3",
   "version": "3.8.10"
  }
 },
 "nbformat": 4,
 "nbformat_minor": 5
}
