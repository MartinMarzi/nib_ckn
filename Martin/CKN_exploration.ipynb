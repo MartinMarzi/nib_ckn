{
 "cells": [
  {
   "cell_type": "code",
   "execution_count": 9,
   "id": "4b9ce98b-8301-4454-97c4-b7589b3cc249",
   "metadata": {},
   "outputs": [],
   "source": [
    "import networkx as nx\n",
    "import pandas as pd\n",
    "import numpy as np\n",
    "import csv\n",
    "pd.options.display.max_rows = 20"
   ]
  },
  {
   "cell_type": "code",
   "execution_count": 10,
   "id": "0f0f2d9e-4816-4b93-8780-7b4b1d660a8a",
   "metadata": {},
   "outputs": [],
   "source": [
    "# Vid's function to import data\n",
    "def parse_ckn_csv(fname):\n",
    "   g = nx.DiGraph()\n",
    "   fields = ['from', 'to', 'type']\n",
    "   with open(fname, newline='') as csvfile:\n",
    "       reader = csv.DictReader(csvfile, fieldnames=fields, dialect=csv.excel_tab, restkey='rest', )\n",
    "       for row in reader:\n",
    "           g.add_edge(row['from'], row['to'], type=row['type'])\n",
    "           if row['type'] == 'binding':\n",
    "               g.add_edge(row['to'], row['from'], type=row['type'])\n",
    "   return g"
   ]
  },
  {
   "cell_type": "code",
   "execution_count": 11,
   "id": "8c84f0ff-3b43-4baa-909e-315c8f5deccb",
   "metadata": {},
   "outputs": [
    {
     "data": {
      "text/plain": [
       "<networkx.classes.digraph.DiGraph at 0x12706b190>"
      ]
     },
     "execution_count": 11,
     "metadata": {},
     "output_type": "execute_result"
    }
   ],
   "source": [
    "G = parse_ckn_csv(\"/Users/mmarzi/MLprojects/nib_ckn/data/LKN_ath_v3B_2016-08-30.txt\")\n",
    "G"
   ]
  },
  {
   "cell_type": "raw",
   "id": "8e1dffea-c8eb-4e2d-974d-193704c29298",
   "metadata": {},
   "source": [
    "# Create pickle\n",
    "nx.write_gpickle(G, \"/Users/mmarzi/MLprojects/nib_ckn/Martin/objects/ckn_graph.gpickle\") "
   ]
  },
  {
   "cell_type": "markdown",
   "id": "f1f6fd48-9b1b-42cb-966b-8b7ac9567e62",
   "metadata": {
    "tags": []
   },
   "source": [
    "# Basic graph analysis"
   ]
  },
  {
   "cell_type": "code",
   "execution_count": 7,
   "id": "c78edb21-6657-4b12-a11e-52304deb4220",
   "metadata": {},
   "outputs": [
    {
     "data": {
      "text/plain": [
       "20011"
      ]
     },
     "execution_count": 7,
     "metadata": {},
     "output_type": "execute_result"
    }
   ],
   "source": [
    "# Number of nodes\n",
    "len(G.nodes())"
   ]
  },
  {
   "cell_type": "code",
   "execution_count": 8,
   "id": "ead51ecb-2d57-4d6f-967c-8baa96cc1ccc",
   "metadata": {},
   "outputs": [
    {
     "data": {
      "text/plain": [
       "94542"
      ]
     },
     "execution_count": 8,
     "metadata": {},
     "output_type": "execute_result"
    }
   ],
   "source": [
    "# Number of edges\n",
    "len(G.edges())"
   ]
  },
  {
   "cell_type": "code",
   "execution_count": 21,
   "id": "bad89059-57d4-4316-a5f7-4266087d7ce5",
   "metadata": {},
   "outputs": [
    {
     "data": {
      "text/plain": [
       "[('6K1', {}),\n",
       " ('6K2', {}),\n",
       " ('CI', {}),\n",
       " ('NIa-Pro', {}),\n",
       " ('VPg', {}),\n",
       " ('AT1G01010', {}),\n",
       " ('AT1G10030', {}),\n",
       " ('AT1G12390', {}),\n",
       " ('AT1G14360', {}),\n",
       " ('AT1G16240', {})]"
      ]
     },
     "execution_count": 21,
     "metadata": {},
     "output_type": "execute_result"
    }
   ],
   "source": [
    "# nodes have no attr\n",
    "list(G.nodes.data())[:10]"
   ]
  },
  {
   "cell_type": "code",
   "execution_count": 23,
   "id": "8920d9bf-7eb4-4599-a065-fe24e6cae127",
   "metadata": {},
   "outputs": [
    {
     "data": {
      "text/plain": [
       "[('6K1', '6K2', {'type': 'binding'}),\n",
       " ('6K1', 'CI', {'type': 'binding'}),\n",
       " ('6K2', '6K1', {'type': 'binding'}),\n",
       " ('6K2', 'CI', {'type': 'binding'}),\n",
       " ('6K2', 'NIa-Pro', {'type': 'binding'}),\n",
       " ('6K2', 'VPg', {'type': 'binding'}),\n",
       " ('CI', '6K1', {'type': 'binding'}),\n",
       " ('CI', '6K2', {'type': 'binding'}),\n",
       " ('CI', 'AT1G30380', {'type': 'binding'}),\n",
       " ('CI', 'AT5G03160', {'type': 'binding'}),\n",
       " ('CI', 'CI', {'type': 'binding'}),\n",
       " ('CI', 'CP', {'type': 'binding'}),\n",
       " ('CI', 'HC-Pro', {'type': 'binding'}),\n",
       " ('CI', 'NIa-Pro', {'type': 'binding'}),\n",
       " ('CI', 'NIb', {'type': 'binding'}),\n",
       " ('CI', 'P1', {'type': 'binding'}),\n",
       " ('CI', 'P3', {'type': 'binding'}),\n",
       " ('CI', 'P3N-PIPO', {'type': 'binding'}),\n",
       " ('CI', 'VPg', {'type': 'binding'}),\n",
       " ('NIa-Pro', '6K2', {'type': 'binding'})]"
      ]
     },
     "execution_count": 23,
     "metadata": {},
     "output_type": "execute_result"
    }
   ],
   "source": [
    "# edges and attr\n",
    "list(G.edges.data())[:20]"
   ]
  },
  {
   "cell_type": "code",
   "execution_count": 13,
   "id": "b859fa22-cb91-4115-8367-75f63d7d7608",
   "metadata": {},
   "outputs": [
    {
     "data": {
      "text/plain": [
       "2427"
      ]
     },
     "execution_count": 13,
     "metadata": {},
     "output_type": "execute_result"
    }
   ],
   "source": [
    "# Number of weakly connected components, to see how many disconected sub-graphs there are\n",
    "nx.number_weakly_connected_components(G)\n",
    "\n",
    "# list component by size and visualise a few"
   ]
  },
  {
   "cell_type": "code",
   "execution_count": 27,
   "id": "4ffc55e9-efb8-4925-8167-47f206604e4c",
   "metadata": {},
   "outputs": [
    {
     "name": "stdout",
     "output_type": "stream",
     "text": [
      "False\n"
     ]
    },
    {
     "data": {
      "text/plain": [
       "13386"
      ]
     },
     "execution_count": 27,
     "metadata": {},
     "output_type": "execute_result"
    }
   ],
   "source": [
    "# Test strong connectivity\n",
    "print(nx.is_strongly_connected(G))\n",
    "\n",
    "# Number of strongly connected nodes\n",
    "nx.number_strongly_connected_components(G)"
   ]
  },
  {
   "cell_type": "code",
   "execution_count": 29,
   "id": "b3e9ccee-51d8-4bc8-9f05-1bc1cc5f9c19",
   "metadata": {},
   "outputs": [
    {
     "data": {
      "text/plain": [
       "[('6K1', 4),\n",
       " ('6K2', 8),\n",
       " ('CI', 26),\n",
       " ('NIa-Pro', 22),\n",
       " ('VPg', 36),\n",
       " ('AT1G01010', 62),\n",
       " ('AT1G10030', 39),\n",
       " ('AT1G12390', 18),\n",
       " ('AT1G14360', 160),\n",
       " ('AT1G16240', 22),\n",
       " ('AT1G17080', 19),\n",
       " ('AT1G21790', 14),\n",
       " ('AT1G62880', 16),\n",
       " ('AT1G75630', 26),\n",
       " ('AT1G76670', 17),\n",
       " ('AT1G77350', 36),\n",
       " ('AT2G02990', 18),\n",
       " ('AT2G20740', 8),\n",
       " ('AT2G31490', 20),\n",
       " ('AT2G32380', 40)]"
      ]
     },
     "execution_count": 29,
     "metadata": {},
     "output_type": "execute_result"
    }
   ],
   "source": [
    "https://networkx.org/documentation/latest/auto_examples/drawing/plot_degree.html?highlight=degree%20distribution\n",
    "# Make histogram for in, out, undirected    \n",
    "# Degree distribution\n",
    "list(G.degree())[:20]"
   ]
  },
  {
   "cell_type": "code",
   "execution_count": 31,
   "id": "1b5d7ce9-6313-4458-90c6-cfbea18e262a",
   "metadata": {},
   "outputs": [
    {
     "data": {
      "text/plain": [
       "[('6K1', 2),\n",
       " ('6K2', 4),\n",
       " ('CI', 13),\n",
       " ('NIa-Pro', 11),\n",
       " ('VPg', 18),\n",
       " ('AT1G01010', 31),\n",
       " ('AT1G10030', 19),\n",
       " ('AT1G12390', 9),\n",
       " ('AT1G14360', 79),\n",
       " ('AT1G16240', 11)]"
      ]
     },
     "execution_count": 31,
     "metadata": {},
     "output_type": "execute_result"
    }
   ],
   "source": [
    "# Outdegree distribution\n",
    "list(G.out_degree())[:10]"
   ]
  },
  {
   "cell_type": "code",
   "execution_count": 32,
   "id": "77a7f951-d43d-4707-ad63-6fc4dd580585",
   "metadata": {},
   "outputs": [
    {
     "data": {
      "text/plain": [
       "[('6K1', 2),\n",
       " ('6K2', 4),\n",
       " ('CI', 13),\n",
       " ('NIa-Pro', 11),\n",
       " ('VPg', 18),\n",
       " ('AT1G01010', 31),\n",
       " ('AT1G10030', 20),\n",
       " ('AT1G12390', 9),\n",
       " ('AT1G14360', 81),\n",
       " ('AT1G16240', 11)]"
      ]
     },
     "execution_count": 32,
     "metadata": {},
     "output_type": "execute_result"
    }
   ],
   "source": [
    "# Indegree distribution\n",
    "list(G.in_degree())[:10]"
   ]
  },
  {
   "cell_type": "code",
   "execution_count": null,
   "id": "e9cdc01f-371d-4607-a8bd-f6d6e996552b",
   "metadata": {},
   "outputs": [],
   "source": []
  }
 ],
 "metadata": {
  "kernelspec": {
   "display_name": "Python 3 (ipykernel)",
   "language": "python",
   "name": "python3"
  },
  "language_info": {
   "codemirror_mode": {
    "name": "ipython",
    "version": 3
   },
   "file_extension": ".py",
   "mimetype": "text/x-python",
   "name": "python",
   "nbconvert_exporter": "python",
   "pygments_lexer": "ipython3",
   "version": "3.9.5"
  }
 },
 "nbformat": 4,
 "nbformat_minor": 5
}
