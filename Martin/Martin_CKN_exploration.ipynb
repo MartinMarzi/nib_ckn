{
 "cells": [
  {
   "cell_type": "code",
   "execution_count": 28,
   "id": "b305edda-8c40-46b5-95c2-cd984fb0b567",
   "metadata": {},
   "outputs": [],
   "source": [
    "import networkx as nx\n",
    "import pandas as pd\n",
    "import numpy as np\n",
    "pd.options.display.max_rows = 20"
   ]
  },
  {
   "cell_type": "code",
   "execution_count": 18,
   "id": "be65812e-9f3f-443a-a143-71fb1d0a88d9",
   "metadata": {},
   "outputs": [],
   "source": [
    "df = pd.read_table(\"/Users/mmarzi/MLprojects/nib_ckn/data/LKN_ath_v3B_2016-08-30.txt\", sep=\"\\t\", header=None, \n",
    "                   names=[\"entity1\", \"entity2\", \"relation\", \"r\", \"PIS\"])"
   ]
  },
  {
   "cell_type": "code",
   "execution_count": 19,
   "id": "36cbbf36-696f-402a-9e16-fe37bfee9d6a",
   "metadata": {},
   "outputs": [
    {
     "data": {
      "text/html": [
       "<div>\n",
       "<style scoped>\n",
       "    .dataframe tbody tr th:only-of-type {\n",
       "        vertical-align: middle;\n",
       "    }\n",
       "\n",
       "    .dataframe tbody tr th {\n",
       "        vertical-align: top;\n",
       "    }\n",
       "\n",
       "    .dataframe thead th {\n",
       "        text-align: right;\n",
       "    }\n",
       "</style>\n",
       "<table border=\"1\" class=\"dataframe\">\n",
       "  <thead>\n",
       "    <tr style=\"text-align: right;\">\n",
       "      <th></th>\n",
       "      <th>entity1</th>\n",
       "      <th>entity2</th>\n",
       "      <th>relation</th>\n",
       "      <th>r</th>\n",
       "      <th>PIS</th>\n",
       "    </tr>\n",
       "  </thead>\n",
       "  <tbody>\n",
       "    <tr>\n",
       "      <th>0</th>\n",
       "      <td>6K1</td>\n",
       "      <td>6K2</td>\n",
       "      <td>binding</td>\n",
       "      <td>r1</td>\n",
       "      <td>NaN</td>\n",
       "    </tr>\n",
       "    <tr>\n",
       "      <th>1</th>\n",
       "      <td>6K1</td>\n",
       "      <td>CI</td>\n",
       "      <td>binding</td>\n",
       "      <td>r1</td>\n",
       "      <td>NaN</td>\n",
       "    </tr>\n",
       "    <tr>\n",
       "      <th>2</th>\n",
       "      <td>6K2</td>\n",
       "      <td>CI</td>\n",
       "      <td>binding</td>\n",
       "      <td>r1</td>\n",
       "      <td>NaN</td>\n",
       "    </tr>\n",
       "    <tr>\n",
       "      <th>3</th>\n",
       "      <td>6K2</td>\n",
       "      <td>NIa-Pro</td>\n",
       "      <td>binding</td>\n",
       "      <td>r1</td>\n",
       "      <td>NaN</td>\n",
       "    </tr>\n",
       "    <tr>\n",
       "      <th>4</th>\n",
       "      <td>6K2</td>\n",
       "      <td>VPg</td>\n",
       "      <td>binding</td>\n",
       "      <td>r1</td>\n",
       "      <td>NaN</td>\n",
       "    </tr>\n",
       "    <tr>\n",
       "      <th>...</th>\n",
       "      <td>...</td>\n",
       "      <td>...</td>\n",
       "      <td>...</td>\n",
       "      <td>...</td>\n",
       "      <td>...</td>\n",
       "    </tr>\n",
       "    <tr>\n",
       "      <th>70085</th>\n",
       "      <td>NIb</td>\n",
       "      <td>VPg</td>\n",
       "      <td>binding</td>\n",
       "      <td>r1</td>\n",
       "      <td>NaN</td>\n",
       "    </tr>\n",
       "    <tr>\n",
       "      <th>70086</th>\n",
       "      <td>P1</td>\n",
       "      <td>VPg</td>\n",
       "      <td>binding</td>\n",
       "      <td>r1</td>\n",
       "      <td>NaN</td>\n",
       "    </tr>\n",
       "    <tr>\n",
       "      <th>70087</th>\n",
       "      <td>R-gene</td>\n",
       "      <td>AT2G43790</td>\n",
       "      <td>activation</td>\n",
       "      <td>r5</td>\n",
       "      <td>PIS</td>\n",
       "    </tr>\n",
       "    <tr>\n",
       "      <th>70088</th>\n",
       "      <td>R-gene</td>\n",
       "      <td>AT3G45640</td>\n",
       "      <td>activation</td>\n",
       "      <td>r5</td>\n",
       "      <td>PIS</td>\n",
       "    </tr>\n",
       "    <tr>\n",
       "      <th>70089</th>\n",
       "      <td>VPg</td>\n",
       "      <td>VPg</td>\n",
       "      <td>binding</td>\n",
       "      <td>r1</td>\n",
       "      <td>NaN</td>\n",
       "    </tr>\n",
       "  </tbody>\n",
       "</table>\n",
       "<p>70090 rows × 5 columns</p>\n",
       "</div>"
      ],
      "text/plain": [
       "      entity1    entity2    relation   r  PIS\n",
       "0         6K1        6K2     binding  r1  NaN\n",
       "1         6K1         CI     binding  r1  NaN\n",
       "2         6K2         CI     binding  r1  NaN\n",
       "3         6K2    NIa-Pro     binding  r1  NaN\n",
       "4         6K2        VPg     binding  r1  NaN\n",
       "...       ...        ...         ...  ..  ...\n",
       "70085     NIb        VPg     binding  r1  NaN\n",
       "70086      P1        VPg     binding  r1  NaN\n",
       "70087  R-gene  AT2G43790  activation  r5  PIS\n",
       "70088  R-gene  AT3G45640  activation  r5  PIS\n",
       "70089     VPg        VPg     binding  r1  NaN\n",
       "\n",
       "[70090 rows x 5 columns]"
      ]
     },
     "execution_count": 19,
     "metadata": {},
     "output_type": "execute_result"
    }
   ],
   "source": [
    "df"
   ]
  },
  {
   "cell_type": "code",
   "execution_count": 22,
   "id": "c0eaef39-7cbd-43f9-be55-f596d942ee76",
   "metadata": {},
   "outputs": [],
   "source": [
    "# Create a graf from df (not bidirectional!)\n",
    "G = nx.from_pandas_edgelist(df, source=\"entity1\", target=\"entity2\", edge_attr=True, create_using=nx.DiGraph)"
   ]
  },
  {
   "cell_type": "code",
   "execution_count": 39,
   "id": "428b3a1b-78bb-4096-83a8-7936d76ada0a",
   "metadata": {},
   "outputs": [
    {
     "data": {
      "text/plain": [
       "20011"
      ]
     },
     "execution_count": 39,
     "metadata": {},
     "output_type": "execute_result"
    }
   ],
   "source": [
    "len(G.nodes())"
   ]
  },
  {
   "cell_type": "code",
   "execution_count": 40,
   "id": "1c4eb174-5493-4dd7-b132-73a8d4033fff",
   "metadata": {},
   "outputs": [
    {
     "data": {
      "text/plain": [
       "69173"
      ]
     },
     "execution_count": 40,
     "metadata": {},
     "output_type": "execute_result"
    }
   ],
   "source": [
    "len(G.edges())"
   ]
  },
  {
   "cell_type": "code",
   "execution_count": 32,
   "id": "7650431d-a371-4479-bdac-7f9e6be092ba",
   "metadata": {},
   "outputs": [
    {
     "data": {
      "text/plain": [
       "[('6K1', {}),\n",
       " ('6K2', {}),\n",
       " ('CI', {}),\n",
       " ('NIa-Pro', {}),\n",
       " ('VPg', {}),\n",
       " ('AT1G01010', {}),\n",
       " ('AT1G10030', {}),\n",
       " ('AT1G12390', {}),\n",
       " ('AT1G14360', {}),\n",
       " ('AT1G16240', {})]"
      ]
     },
     "execution_count": 32,
     "metadata": {},
     "output_type": "execute_result"
    }
   ],
   "source": [
    "list(G.nodes.data())[:10]"
   ]
  },
  {
   "cell_type": "code",
   "execution_count": 36,
   "id": "6bc41eb6-db00-40cd-b893-2553492ae394",
   "metadata": {},
   "outputs": [
    {
     "data": {
      "text/plain": [
       "[('6K1', '6K2', {'relation': 'binding', 'r': 'r1', 'PIS': nan}),\n",
       " ('6K1', 'CI', {'relation': 'binding', 'r': 'r1', 'PIS': nan}),\n",
       " ('6K2', 'CI', {'relation': 'binding', 'r': 'r1', 'PIS': nan}),\n",
       " ('6K2', 'NIa-Pro', {'relation': 'binding', 'r': 'r1', 'PIS': nan}),\n",
       " ('6K2', 'VPg', {'relation': 'binding', 'r': 'r1', 'PIS': nan}),\n",
       " ('CI', 'CI', {'relation': 'binding', 'r': 'r1', 'PIS': nan}),\n",
       " ('CI', 'CP', {'relation': 'binding', 'r': 'r1', 'PIS': nan}),\n",
       " ('CI', 'HC-Pro', {'relation': 'binding', 'r': 'r1', 'PIS': nan}),\n",
       " ('CI', 'NIa-Pro', {'relation': 'binding', 'r': 'r1', 'PIS': nan}),\n",
       " ('CI', 'NIb', {'relation': 'binding', 'r': 'r1', 'PIS': nan})]"
      ]
     },
     "execution_count": 36,
     "metadata": {},
     "output_type": "execute_result"
    }
   ],
   "source": [
    "list(G.edges.data())[:10]"
   ]
  },
  {
   "cell_type": "code",
   "execution_count": null,
   "id": "1caa1cfe-311b-4fcc-b007-5793c5c2b38f",
   "metadata": {},
   "outputs": [],
   "source": []
  }
 ],
 "metadata": {
  "kernelspec": {
   "display_name": "Python 3 (ipykernel)",
   "language": "python",
   "name": "python3"
  },
  "language_info": {
   "codemirror_mode": {
    "name": "ipython",
    "version": 3
   },
   "file_extension": ".py",
   "mimetype": "text/x-python",
   "name": "python",
   "nbconvert_exporter": "python",
   "pygments_lexer": "ipython3",
   "version": "3.9.5"
  }
 },
 "nbformat": 4,
 "nbformat_minor": 5
}
